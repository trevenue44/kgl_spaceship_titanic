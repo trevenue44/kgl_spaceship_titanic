{
 "cells": [
  {
   "cell_type": "markdown",
   "id": "ee22fdcd-9645-477b-95da-445972f7d98b",
   "metadata": {},
   "source": [
    "# Spaceship Titanic\n",
    "\n",
    "> **Goal**: Predict which passengers are transported to an alternate dimension"
   ]
  },
  {
   "cell_type": "code",
   "execution_count": 2,
   "id": "677bc6e2-ef65-485f-b65d-e392e9856d7e",
   "metadata": {},
   "outputs": [],
   "source": [
    "import pandas as pd\n",
    "import numpy as np\n",
    "import matplotlib.pyplot as plt"
   ]
  },
  {
   "cell_type": "code",
   "execution_count": 3,
   "id": "7fab5e40-d3d4-4797-99c9-0b538f6720af",
   "metadata": {},
   "outputs": [],
   "source": [
    "data = pd.read_csv(\"./data/cleaned/clean_train.csv\")"
   ]
  },
  {
   "cell_type": "code",
   "execution_count": 4,
   "id": "a3e12c35-e7f0-4149-aefe-90c4629f46c9",
   "metadata": {},
   "outputs": [
    {
     "data": {
      "text/html": [
       "<div>\n",
       "<style scoped>\n",
       "    .dataframe tbody tr th:only-of-type {\n",
       "        vertical-align: middle;\n",
       "    }\n",
       "\n",
       "    .dataframe tbody tr th {\n",
       "        vertical-align: top;\n",
       "    }\n",
       "\n",
       "    .dataframe thead th {\n",
       "        text-align: right;\n",
       "    }\n",
       "</style>\n",
       "<table border=\"1\" class=\"dataframe\">\n",
       "  <thead>\n",
       "    <tr style=\"text-align: right;\">\n",
       "      <th></th>\n",
       "      <th>Age</th>\n",
       "      <th>RoomService</th>\n",
       "      <th>FoodCourt</th>\n",
       "      <th>ShoppingMall</th>\n",
       "      <th>Spa</th>\n",
       "      <th>VRDeck</th>\n",
       "    </tr>\n",
       "  </thead>\n",
       "  <tbody>\n",
       "    <tr>\n",
       "      <th>count</th>\n",
       "      <td>6606.000000</td>\n",
       "      <td>6606.000000</td>\n",
       "      <td>6606.000000</td>\n",
       "      <td>6606.000000</td>\n",
       "      <td>6606.000000</td>\n",
       "      <td>6606.000000</td>\n",
       "    </tr>\n",
       "    <tr>\n",
       "      <th>mean</th>\n",
       "      <td>28.894036</td>\n",
       "      <td>222.991674</td>\n",
       "      <td>478.958523</td>\n",
       "      <td>178.356494</td>\n",
       "      <td>313.161520</td>\n",
       "      <td>303.780048</td>\n",
       "    </tr>\n",
       "    <tr>\n",
       "      <th>std</th>\n",
       "      <td>14.533429</td>\n",
       "      <td>644.987936</td>\n",
       "      <td>1678.592291</td>\n",
       "      <td>576.328407</td>\n",
       "      <td>1144.016291</td>\n",
       "      <td>1127.142166</td>\n",
       "    </tr>\n",
       "    <tr>\n",
       "      <th>min</th>\n",
       "      <td>0.000000</td>\n",
       "      <td>0.000000</td>\n",
       "      <td>0.000000</td>\n",
       "      <td>0.000000</td>\n",
       "      <td>0.000000</td>\n",
       "      <td>0.000000</td>\n",
       "    </tr>\n",
       "    <tr>\n",
       "      <th>25%</th>\n",
       "      <td>19.000000</td>\n",
       "      <td>0.000000</td>\n",
       "      <td>0.000000</td>\n",
       "      <td>0.000000</td>\n",
       "      <td>0.000000</td>\n",
       "      <td>0.000000</td>\n",
       "    </tr>\n",
       "    <tr>\n",
       "      <th>50%</th>\n",
       "      <td>27.000000</td>\n",
       "      <td>0.000000</td>\n",
       "      <td>0.000000</td>\n",
       "      <td>0.000000</td>\n",
       "      <td>0.000000</td>\n",
       "      <td>0.000000</td>\n",
       "    </tr>\n",
       "    <tr>\n",
       "      <th>75%</th>\n",
       "      <td>38.000000</td>\n",
       "      <td>49.000000</td>\n",
       "      <td>82.750000</td>\n",
       "      <td>30.000000</td>\n",
       "      <td>65.000000</td>\n",
       "      <td>52.000000</td>\n",
       "    </tr>\n",
       "    <tr>\n",
       "      <th>max</th>\n",
       "      <td>79.000000</td>\n",
       "      <td>9920.000000</td>\n",
       "      <td>29813.000000</td>\n",
       "      <td>12253.000000</td>\n",
       "      <td>22408.000000</td>\n",
       "      <td>20336.000000</td>\n",
       "    </tr>\n",
       "  </tbody>\n",
       "</table>\n",
       "</div>"
      ],
      "text/plain": [
       "               Age  RoomService     FoodCourt  ShoppingMall           Spa  \\\n",
       "count  6606.000000  6606.000000   6606.000000   6606.000000   6606.000000   \n",
       "mean     28.894036   222.991674    478.958523    178.356494    313.161520   \n",
       "std      14.533429   644.987936   1678.592291    576.328407   1144.016291   \n",
       "min       0.000000     0.000000      0.000000      0.000000      0.000000   \n",
       "25%      19.000000     0.000000      0.000000      0.000000      0.000000   \n",
       "50%      27.000000     0.000000      0.000000      0.000000      0.000000   \n",
       "75%      38.000000    49.000000     82.750000     30.000000     65.000000   \n",
       "max      79.000000  9920.000000  29813.000000  12253.000000  22408.000000   \n",
       "\n",
       "             VRDeck  \n",
       "count   6606.000000  \n",
       "mean     303.780048  \n",
       "std     1127.142166  \n",
       "min        0.000000  \n",
       "25%        0.000000  \n",
       "50%        0.000000  \n",
       "75%       52.000000  \n",
       "max    20336.000000  "
      ]
     },
     "execution_count": 4,
     "metadata": {},
     "output_type": "execute_result"
    }
   ],
   "source": [
    "data.describe()"
   ]
  },
  {
   "cell_type": "code",
   "execution_count": 5,
   "id": "d8aa14b6-e97d-4df0-98ca-ed56feaec68a",
   "metadata": {},
   "outputs": [
    {
     "data": {
      "text/plain": [
       "(6606, 14)"
      ]
     },
     "execution_count": 5,
     "metadata": {},
     "output_type": "execute_result"
    }
   ],
   "source": [
    "data.shape"
   ]
  },
  {
   "cell_type": "code",
   "execution_count": 6,
   "id": "8e146973-fd30-4857-8f3f-f7f9865f0635",
   "metadata": {},
   "outputs": [
    {
     "data": {
      "text/html": [
       "<div>\n",
       "<style scoped>\n",
       "    .dataframe tbody tr th:only-of-type {\n",
       "        vertical-align: middle;\n",
       "    }\n",
       "\n",
       "    .dataframe tbody tr th {\n",
       "        vertical-align: top;\n",
       "    }\n",
       "\n",
       "    .dataframe thead th {\n",
       "        text-align: right;\n",
       "    }\n",
       "</style>\n",
       "<table border=\"1\" class=\"dataframe\">\n",
       "  <thead>\n",
       "    <tr style=\"text-align: right;\">\n",
       "      <th></th>\n",
       "      <th>PassengerId</th>\n",
       "      <th>HomePlanet</th>\n",
       "      <th>CryoSleep</th>\n",
       "      <th>Cabin</th>\n",
       "      <th>Destination</th>\n",
       "      <th>Age</th>\n",
       "      <th>VIP</th>\n",
       "      <th>RoomService</th>\n",
       "      <th>FoodCourt</th>\n",
       "      <th>ShoppingMall</th>\n",
       "      <th>Spa</th>\n",
       "      <th>VRDeck</th>\n",
       "      <th>Name</th>\n",
       "      <th>Transported</th>\n",
       "    </tr>\n",
       "  </thead>\n",
       "  <tbody>\n",
       "    <tr>\n",
       "      <th>0</th>\n",
       "      <td>0001_01</td>\n",
       "      <td>Europa</td>\n",
       "      <td>False</td>\n",
       "      <td>B/0/P</td>\n",
       "      <td>TRAPPIST-1e</td>\n",
       "      <td>39.0</td>\n",
       "      <td>False</td>\n",
       "      <td>0.0</td>\n",
       "      <td>0.0</td>\n",
       "      <td>0.0</td>\n",
       "      <td>0.0</td>\n",
       "      <td>0.0</td>\n",
       "      <td>Maham Ofracculy</td>\n",
       "      <td>False</td>\n",
       "    </tr>\n",
       "    <tr>\n",
       "      <th>1</th>\n",
       "      <td>0002_01</td>\n",
       "      <td>Earth</td>\n",
       "      <td>False</td>\n",
       "      <td>F/0/S</td>\n",
       "      <td>TRAPPIST-1e</td>\n",
       "      <td>24.0</td>\n",
       "      <td>False</td>\n",
       "      <td>109.0</td>\n",
       "      <td>9.0</td>\n",
       "      <td>25.0</td>\n",
       "      <td>549.0</td>\n",
       "      <td>44.0</td>\n",
       "      <td>Juanna Vines</td>\n",
       "      <td>True</td>\n",
       "    </tr>\n",
       "    <tr>\n",
       "      <th>2</th>\n",
       "      <td>0003_01</td>\n",
       "      <td>Europa</td>\n",
       "      <td>False</td>\n",
       "      <td>A/0/S</td>\n",
       "      <td>TRAPPIST-1e</td>\n",
       "      <td>58.0</td>\n",
       "      <td>True</td>\n",
       "      <td>43.0</td>\n",
       "      <td>3576.0</td>\n",
       "      <td>0.0</td>\n",
       "      <td>6715.0</td>\n",
       "      <td>49.0</td>\n",
       "      <td>Altark Susent</td>\n",
       "      <td>False</td>\n",
       "    </tr>\n",
       "    <tr>\n",
       "      <th>3</th>\n",
       "      <td>0003_02</td>\n",
       "      <td>Europa</td>\n",
       "      <td>False</td>\n",
       "      <td>A/0/S</td>\n",
       "      <td>TRAPPIST-1e</td>\n",
       "      <td>33.0</td>\n",
       "      <td>False</td>\n",
       "      <td>0.0</td>\n",
       "      <td>1283.0</td>\n",
       "      <td>371.0</td>\n",
       "      <td>3329.0</td>\n",
       "      <td>193.0</td>\n",
       "      <td>Solam Susent</td>\n",
       "      <td>False</td>\n",
       "    </tr>\n",
       "    <tr>\n",
       "      <th>4</th>\n",
       "      <td>0004_01</td>\n",
       "      <td>Earth</td>\n",
       "      <td>False</td>\n",
       "      <td>F/1/S</td>\n",
       "      <td>TRAPPIST-1e</td>\n",
       "      <td>16.0</td>\n",
       "      <td>False</td>\n",
       "      <td>303.0</td>\n",
       "      <td>70.0</td>\n",
       "      <td>151.0</td>\n",
       "      <td>565.0</td>\n",
       "      <td>2.0</td>\n",
       "      <td>Willy Santantines</td>\n",
       "      <td>True</td>\n",
       "    </tr>\n",
       "  </tbody>\n",
       "</table>\n",
       "</div>"
      ],
      "text/plain": [
       "  PassengerId HomePlanet  CryoSleep  Cabin  Destination   Age    VIP  \\\n",
       "0     0001_01     Europa      False  B/0/P  TRAPPIST-1e  39.0  False   \n",
       "1     0002_01      Earth      False  F/0/S  TRAPPIST-1e  24.0  False   \n",
       "2     0003_01     Europa      False  A/0/S  TRAPPIST-1e  58.0   True   \n",
       "3     0003_02     Europa      False  A/0/S  TRAPPIST-1e  33.0  False   \n",
       "4     0004_01      Earth      False  F/1/S  TRAPPIST-1e  16.0  False   \n",
       "\n",
       "   RoomService  FoodCourt  ShoppingMall     Spa  VRDeck               Name  \\\n",
       "0          0.0        0.0           0.0     0.0     0.0    Maham Ofracculy   \n",
       "1        109.0        9.0          25.0   549.0    44.0       Juanna Vines   \n",
       "2         43.0     3576.0           0.0  6715.0    49.0      Altark Susent   \n",
       "3          0.0     1283.0         371.0  3329.0   193.0       Solam Susent   \n",
       "4        303.0       70.0         151.0   565.0     2.0  Willy Santantines   \n",
       "\n",
       "   Transported  \n",
       "0        False  \n",
       "1         True  \n",
       "2        False  \n",
       "3        False  \n",
       "4         True  "
      ]
     },
     "execution_count": 6,
     "metadata": {},
     "output_type": "execute_result"
    }
   ],
   "source": [
    "data.head()"
   ]
  },
  {
   "cell_type": "code",
   "execution_count": 7,
   "id": "c3859a7e-2105-4daf-afb2-e01288cab7dd",
   "metadata": {},
   "outputs": [],
   "source": [
    "def get_group(id):\n",
    "    return int(id[:4])\n",
    "\n",
    "def get_individual_no(id):\n",
    "    return int(id[5:])\n",
    "\n",
    "data[\"PassengerGroup\"] = data[\"PassengerId\"].apply(get_group)\n",
    "data[\"IndividualNo\"] = data[\"PassengerId\"].apply(get_individual_no)"
   ]
  },
  {
   "cell_type": "code",
   "execution_count": 8,
   "id": "2730339a-5608-4bf3-94ea-23bc6ba74cb6",
   "metadata": {},
   "outputs": [
    {
     "data": {
      "text/html": [
       "<div>\n",
       "<style scoped>\n",
       "    .dataframe tbody tr th:only-of-type {\n",
       "        vertical-align: middle;\n",
       "    }\n",
       "\n",
       "    .dataframe tbody tr th {\n",
       "        vertical-align: top;\n",
       "    }\n",
       "\n",
       "    .dataframe thead th {\n",
       "        text-align: right;\n",
       "    }\n",
       "</style>\n",
       "<table border=\"1\" class=\"dataframe\">\n",
       "  <thead>\n",
       "    <tr style=\"text-align: right;\">\n",
       "      <th></th>\n",
       "      <th>PassengerId</th>\n",
       "      <th>HomePlanet</th>\n",
       "      <th>CryoSleep</th>\n",
       "      <th>Cabin</th>\n",
       "      <th>Destination</th>\n",
       "      <th>Age</th>\n",
       "      <th>VIP</th>\n",
       "      <th>RoomService</th>\n",
       "      <th>FoodCourt</th>\n",
       "      <th>ShoppingMall</th>\n",
       "      <th>Spa</th>\n",
       "      <th>VRDeck</th>\n",
       "      <th>Name</th>\n",
       "      <th>Transported</th>\n",
       "      <th>PassengerGroup</th>\n",
       "      <th>IndividualNo</th>\n",
       "    </tr>\n",
       "  </thead>\n",
       "  <tbody>\n",
       "    <tr>\n",
       "      <th>0</th>\n",
       "      <td>0001_01</td>\n",
       "      <td>Europa</td>\n",
       "      <td>False</td>\n",
       "      <td>B/0/P</td>\n",
       "      <td>TRAPPIST-1e</td>\n",
       "      <td>39.0</td>\n",
       "      <td>False</td>\n",
       "      <td>0.0</td>\n",
       "      <td>0.0</td>\n",
       "      <td>0.0</td>\n",
       "      <td>0.0</td>\n",
       "      <td>0.0</td>\n",
       "      <td>Maham Ofracculy</td>\n",
       "      <td>False</td>\n",
       "      <td>1</td>\n",
       "      <td>1</td>\n",
       "    </tr>\n",
       "    <tr>\n",
       "      <th>1</th>\n",
       "      <td>0002_01</td>\n",
       "      <td>Earth</td>\n",
       "      <td>False</td>\n",
       "      <td>F/0/S</td>\n",
       "      <td>TRAPPIST-1e</td>\n",
       "      <td>24.0</td>\n",
       "      <td>False</td>\n",
       "      <td>109.0</td>\n",
       "      <td>9.0</td>\n",
       "      <td>25.0</td>\n",
       "      <td>549.0</td>\n",
       "      <td>44.0</td>\n",
       "      <td>Juanna Vines</td>\n",
       "      <td>True</td>\n",
       "      <td>2</td>\n",
       "      <td>1</td>\n",
       "    </tr>\n",
       "    <tr>\n",
       "      <th>2</th>\n",
       "      <td>0003_01</td>\n",
       "      <td>Europa</td>\n",
       "      <td>False</td>\n",
       "      <td>A/0/S</td>\n",
       "      <td>TRAPPIST-1e</td>\n",
       "      <td>58.0</td>\n",
       "      <td>True</td>\n",
       "      <td>43.0</td>\n",
       "      <td>3576.0</td>\n",
       "      <td>0.0</td>\n",
       "      <td>6715.0</td>\n",
       "      <td>49.0</td>\n",
       "      <td>Altark Susent</td>\n",
       "      <td>False</td>\n",
       "      <td>3</td>\n",
       "      <td>1</td>\n",
       "    </tr>\n",
       "    <tr>\n",
       "      <th>3</th>\n",
       "      <td>0003_02</td>\n",
       "      <td>Europa</td>\n",
       "      <td>False</td>\n",
       "      <td>A/0/S</td>\n",
       "      <td>TRAPPIST-1e</td>\n",
       "      <td>33.0</td>\n",
       "      <td>False</td>\n",
       "      <td>0.0</td>\n",
       "      <td>1283.0</td>\n",
       "      <td>371.0</td>\n",
       "      <td>3329.0</td>\n",
       "      <td>193.0</td>\n",
       "      <td>Solam Susent</td>\n",
       "      <td>False</td>\n",
       "      <td>3</td>\n",
       "      <td>2</td>\n",
       "    </tr>\n",
       "    <tr>\n",
       "      <th>4</th>\n",
       "      <td>0004_01</td>\n",
       "      <td>Earth</td>\n",
       "      <td>False</td>\n",
       "      <td>F/1/S</td>\n",
       "      <td>TRAPPIST-1e</td>\n",
       "      <td>16.0</td>\n",
       "      <td>False</td>\n",
       "      <td>303.0</td>\n",
       "      <td>70.0</td>\n",
       "      <td>151.0</td>\n",
       "      <td>565.0</td>\n",
       "      <td>2.0</td>\n",
       "      <td>Willy Santantines</td>\n",
       "      <td>True</td>\n",
       "      <td>4</td>\n",
       "      <td>1</td>\n",
       "    </tr>\n",
       "  </tbody>\n",
       "</table>\n",
       "</div>"
      ],
      "text/plain": [
       "  PassengerId HomePlanet  CryoSleep  Cabin  Destination   Age    VIP  \\\n",
       "0     0001_01     Europa      False  B/0/P  TRAPPIST-1e  39.0  False   \n",
       "1     0002_01      Earth      False  F/0/S  TRAPPIST-1e  24.0  False   \n",
       "2     0003_01     Europa      False  A/0/S  TRAPPIST-1e  58.0   True   \n",
       "3     0003_02     Europa      False  A/0/S  TRAPPIST-1e  33.0  False   \n",
       "4     0004_01      Earth      False  F/1/S  TRAPPIST-1e  16.0  False   \n",
       "\n",
       "   RoomService  FoodCourt  ShoppingMall     Spa  VRDeck               Name  \\\n",
       "0          0.0        0.0           0.0     0.0     0.0    Maham Ofracculy   \n",
       "1        109.0        9.0          25.0   549.0    44.0       Juanna Vines   \n",
       "2         43.0     3576.0           0.0  6715.0    49.0      Altark Susent   \n",
       "3          0.0     1283.0         371.0  3329.0   193.0       Solam Susent   \n",
       "4        303.0       70.0         151.0   565.0     2.0  Willy Santantines   \n",
       "\n",
       "   Transported  PassengerGroup  IndividualNo  \n",
       "0        False               1             1  \n",
       "1         True               2             1  \n",
       "2        False               3             1  \n",
       "3        False               3             2  \n",
       "4         True               4             1  "
      ]
     },
     "execution_count": 8,
     "metadata": {},
     "output_type": "execute_result"
    }
   ],
   "source": [
    "data.head()"
   ]
  },
  {
   "cell_type": "code",
   "execution_count": 9,
   "id": "f8471b0b-0827-40e8-9af7-fbddf85d6a55",
   "metadata": {},
   "outputs": [
    {
     "data": {
      "text/plain": [
       "TRAPPIST-1e      4576\n",
       "55 Cancri e      1407\n",
       "PSO J318.5-22     623\n",
       "Name: Destination, dtype: int64"
      ]
     },
     "execution_count": 9,
     "metadata": {},
     "output_type": "execute_result"
    }
   ],
   "source": [
    "data[\"Destination\"].value_counts()"
   ]
  },
  {
   "cell_type": "code",
   "execution_count": 10,
   "id": "6eebca02-5416-4e41-bf40-bf167911793c",
   "metadata": {},
   "outputs": [
    {
     "data": {
      "text/html": [
       "<style  type=\"text/css\" >\n",
       "#T_f1ed1_row0_col0,#T_f1ed1_row1_col1,#T_f1ed1_row2_col2,#T_f1ed1_row3_col3,#T_f1ed1_row4_col4,#T_f1ed1_row5_col5,#T_f1ed1_row6_col6,#T_f1ed1_row7_col7,#T_f1ed1_row8_col8,#T_f1ed1_row9_col9,#T_f1ed1_row10_col10{\n",
       "            background-color:  #08306b;\n",
       "            color:  #f1f1f1;\n",
       "        }#T_f1ed1_row0_col1,#T_f1ed1_row8_col2{\n",
       "            background-color:  #f0f6fd;\n",
       "            color:  #000000;\n",
       "        }#T_f1ed1_row0_col2,#T_f1ed1_row0_col3,#T_f1ed1_row0_col4,#T_f1ed1_row0_col5,#T_f1ed1_row0_col6,#T_f1ed1_row0_col7,#T_f1ed1_row0_col9,#T_f1ed1_row1_col10,#T_f1ed1_row6_col0,#T_f1ed1_row6_col8,#T_f1ed1_row6_col9,#T_f1ed1_row7_col9,#T_f1ed1_row10_col1{\n",
       "            background-color:  #f7fbff;\n",
       "            color:  #000000;\n",
       "        }#T_f1ed1_row0_col8{\n",
       "            background-color:  #4896c8;\n",
       "            color:  #000000;\n",
       "        }#T_f1ed1_row0_col10{\n",
       "            background-color:  #d3e3f3;\n",
       "            color:  #000000;\n",
       "        }#T_f1ed1_row1_col0,#T_f1ed1_row4_col1,#T_f1ed1_row6_col1{\n",
       "            background-color:  #b7d4ea;\n",
       "            color:  #000000;\n",
       "        }#T_f1ed1_row1_col2{\n",
       "            background-color:  #d4e4f4;\n",
       "            color:  #000000;\n",
       "        }#T_f1ed1_row1_col3{\n",
       "            background-color:  #87bddc;\n",
       "            color:  #000000;\n",
       "        }#T_f1ed1_row1_col4{\n",
       "            background-color:  #72b2d8;\n",
       "            color:  #000000;\n",
       "        }#T_f1ed1_row1_col5,#T_f1ed1_row2_col6,#T_f1ed1_row2_col7{\n",
       "            background-color:  #8dc1dd;\n",
       "            color:  #000000;\n",
       "        }#T_f1ed1_row1_col6{\n",
       "            background-color:  #6fb0d7;\n",
       "            color:  #000000;\n",
       "        }#T_f1ed1_row1_col7,#T_f1ed1_row5_col4{\n",
       "            background-color:  #79b5d9;\n",
       "            color:  #000000;\n",
       "        }#T_f1ed1_row1_col8,#T_f1ed1_row2_col1{\n",
       "            background-color:  #cde0f1;\n",
       "            color:  #000000;\n",
       "        }#T_f1ed1_row1_col9,#T_f1ed1_row3_col8,#T_f1ed1_row3_col9,#T_f1ed1_row10_col9{\n",
       "            background-color:  #f6faff;\n",
       "            color:  #000000;\n",
       "        }#T_f1ed1_row2_col0{\n",
       "            background-color:  #b5d4e9;\n",
       "            color:  #000000;\n",
       "        }#T_f1ed1_row2_col3{\n",
       "            background-color:  #9fcae1;\n",
       "            color:  #000000;\n",
       "        }#T_f1ed1_row2_col4{\n",
       "            background-color:  #89bedc;\n",
       "            color:  #000000;\n",
       "        }#T_f1ed1_row2_col5{\n",
       "            background-color:  #a1cbe2;\n",
       "            color:  #000000;\n",
       "        }#T_f1ed1_row2_col8{\n",
       "            background-color:  #c8dcf0;\n",
       "            color:  #000000;\n",
       "        }#T_f1ed1_row2_col9,#T_f1ed1_row3_col0,#T_f1ed1_row3_col10,#T_f1ed1_row5_col0{\n",
       "            background-color:  #f3f8fe;\n",
       "            color:  #000000;\n",
       "        }#T_f1ed1_row2_col10,#T_f1ed1_row9_col1,#T_f1ed1_row9_col10{\n",
       "            background-color:  #e0ecf8;\n",
       "            color:  #000000;\n",
       "        }#T_f1ed1_row3_col1,#T_f1ed1_row8_col4{\n",
       "            background-color:  #caddf0;\n",
       "            color:  #000000;\n",
       "        }#T_f1ed1_row3_col2,#T_f1ed1_row8_col6{\n",
       "            background-color:  #dfecf7;\n",
       "            color:  #000000;\n",
       "        }#T_f1ed1_row3_col4,#T_f1ed1_row3_col7,#T_f1ed1_row4_col5{\n",
       "            background-color:  #7ab6d9;\n",
       "            color:  #000000;\n",
       "        }#T_f1ed1_row3_col5,#T_f1ed1_row5_col3,#T_f1ed1_row7_col6{\n",
       "            background-color:  #3f8fc5;\n",
       "            color:  #000000;\n",
       "        }#T_f1ed1_row3_col6,#T_f1ed1_row5_col6{\n",
       "            background-color:  #64a9d3;\n",
       "            color:  #000000;\n",
       "        }#T_f1ed1_row4_col0,#T_f1ed1_row4_col9,#T_f1ed1_row5_col9,#T_f1ed1_row7_col0{\n",
       "            background-color:  #f5f9fe;\n",
       "            color:  #000000;\n",
       "        }#T_f1ed1_row4_col2{\n",
       "            background-color:  #d2e3f3;\n",
       "            color:  #000000;\n",
       "        }#T_f1ed1_row4_col3,#T_f1ed1_row7_col3{\n",
       "            background-color:  #7cb7da;\n",
       "            color:  #000000;\n",
       "        }#T_f1ed1_row4_col6{\n",
       "            background-color:  #3787c0;\n",
       "            color:  #000000;\n",
       "        }#T_f1ed1_row4_col7,#T_f1ed1_row7_col4{\n",
       "            background-color:  #3383be;\n",
       "            color:  #000000;\n",
       "        }#T_f1ed1_row4_col8{\n",
       "            background-color:  #dbe9f6;\n",
       "            color:  #000000;\n",
       "        }#T_f1ed1_row4_col10{\n",
       "            background-color:  #e7f1fa;\n",
       "            color:  #000000;\n",
       "        }#T_f1ed1_row5_col1{\n",
       "            background-color:  #cddff1;\n",
       "            color:  #000000;\n",
       "        }#T_f1ed1_row5_col2,#T_f1ed1_row5_col8{\n",
       "            background-color:  #e2edf8;\n",
       "            color:  #000000;\n",
       "        }#T_f1ed1_row5_col7{\n",
       "            background-color:  #74b3d8;\n",
       "            color:  #000000;\n",
       "        }#T_f1ed1_row5_col10,#T_f1ed1_row7_col8{\n",
       "            background-color:  #f4f9fe;\n",
       "            color:  #000000;\n",
       "        }#T_f1ed1_row6_col2{\n",
       "            background-color:  #d7e6f5;\n",
       "            color:  #000000;\n",
       "        }#T_f1ed1_row6_col3,#T_f1ed1_row6_col5{\n",
       "            background-color:  #68acd5;\n",
       "            color:  #000000;\n",
       "        }#T_f1ed1_row6_col4{\n",
       "            background-color:  #3888c1;\n",
       "            color:  #000000;\n",
       "        }#T_f1ed1_row6_col7{\n",
       "            background-color:  #4090c5;\n",
       "            color:  #000000;\n",
       "        }#T_f1ed1_row6_col10{\n",
       "            background-color:  #eaf3fb;\n",
       "            color:  #000000;\n",
       "        }#T_f1ed1_row7_col1{\n",
       "            background-color:  #bdd7ec;\n",
       "            color:  #000000;\n",
       "        }#T_f1ed1_row7_col2{\n",
       "            background-color:  #d5e5f4;\n",
       "            color:  #000000;\n",
       "        }#T_f1ed1_row7_col5{\n",
       "            background-color:  #77b5d9;\n",
       "            color:  #000000;\n",
       "        }#T_f1ed1_row7_col10{\n",
       "            background-color:  #ebf3fb;\n",
       "            color:  #000000;\n",
       "        }#T_f1ed1_row8_col0{\n",
       "            background-color:  #3a8ac2;\n",
       "            color:  #000000;\n",
       "        }#T_f1ed1_row8_col1{\n",
       "            background-color:  #eef5fc;\n",
       "            color:  #000000;\n",
       "        }#T_f1ed1_row8_col3{\n",
       "            background-color:  #e3eef8;\n",
       "            color:  #000000;\n",
       "        }#T_f1ed1_row8_col5{\n",
       "            background-color:  #d1e2f3;\n",
       "            color:  #000000;\n",
       "        }#T_f1ed1_row8_col7{\n",
       "            background-color:  #dfebf7;\n",
       "            color:  #000000;\n",
       "        }#T_f1ed1_row8_col9{\n",
       "            background-color:  #f2f7fd;\n",
       "            color:  #000000;\n",
       "        }#T_f1ed1_row8_col10{\n",
       "            background-color:  #d0e2f2;\n",
       "            color:  #000000;\n",
       "        }#T_f1ed1_row9_col0,#T_f1ed1_row9_col4{\n",
       "            background-color:  #a5cde3;\n",
       "            color:  #000000;\n",
       "        }#T_f1ed1_row9_col2{\n",
       "            background-color:  #e5eff9;\n",
       "            color:  #000000;\n",
       "        }#T_f1ed1_row9_col3{\n",
       "            background-color:  #a9cfe5;\n",
       "            color:  #000000;\n",
       "        }#T_f1ed1_row9_col5{\n",
       "            background-color:  #a6cee4;\n",
       "            color:  #000000;\n",
       "        }#T_f1ed1_row9_col6{\n",
       "            background-color:  #a4cce3;\n",
       "            color:  #000000;\n",
       "        }#T_f1ed1_row9_col7{\n",
       "            background-color:  #a8cee4;\n",
       "            color:  #000000;\n",
       "        }#T_f1ed1_row9_col8{\n",
       "            background-color:  #bad6eb;\n",
       "            color:  #000000;\n",
       "        }#T_f1ed1_row10_col0{\n",
       "            background-color:  #91c3de;\n",
       "            color:  #000000;\n",
       "        }#T_f1ed1_row10_col2{\n",
       "            background-color:  #e8f1fa;\n",
       "            color:  #000000;\n",
       "        }#T_f1ed1_row10_col3{\n",
       "            background-color:  #bfd8ed;\n",
       "            color:  #000000;\n",
       "        }#T_f1ed1_row10_col4{\n",
       "            background-color:  #afd1e7;\n",
       "            color:  #000000;\n",
       "        }#T_f1ed1_row10_col5{\n",
       "            background-color:  #c1d9ed;\n",
       "            color:  #000000;\n",
       "        }#T_f1ed1_row10_col6{\n",
       "            background-color:  #b0d2e7;\n",
       "            color:  #000000;\n",
       "        }#T_f1ed1_row10_col7{\n",
       "            background-color:  #b3d3e8;\n",
       "            color:  #000000;\n",
       "        }#T_f1ed1_row10_col8{\n",
       "            background-color:  #aacfe5;\n",
       "            color:  #000000;\n",
       "        }</style><table id=\"T_f1ed1_\" ><thead>    <tr>        <th class=\"blank level0\" ></th>        <th class=\"col_heading level0 col0\" >CryoSleep</th>        <th class=\"col_heading level0 col1\" >Age</th>        <th class=\"col_heading level0 col2\" >VIP</th>        <th class=\"col_heading level0 col3\" >RoomService</th>        <th class=\"col_heading level0 col4\" >FoodCourt</th>        <th class=\"col_heading level0 col5\" >ShoppingMall</th>        <th class=\"col_heading level0 col6\" >Spa</th>        <th class=\"col_heading level0 col7\" >VRDeck</th>        <th class=\"col_heading level0 col8\" >Transported</th>        <th class=\"col_heading level0 col9\" >PassengerGroup</th>        <th class=\"col_heading level0 col10\" >IndividualNo</th>    </tr></thead><tbody>\n",
       "                <tr>\n",
       "                        <th id=\"T_f1ed1_level0_row0\" class=\"row_heading level0 row0\" >CryoSleep</th>\n",
       "                        <td id=\"T_f1ed1_row0_col0\" class=\"data row0 col0\" >1.000000</td>\n",
       "                        <td id=\"T_f1ed1_row0_col1\" class=\"data row0 col1\" >-0.090870</td>\n",
       "                        <td id=\"T_f1ed1_row0_col2\" class=\"data row0 col2\" >-0.082303</td>\n",
       "                        <td id=\"T_f1ed1_row0_col3\" class=\"data row0 col3\" >-0.521965</td>\n",
       "                        <td id=\"T_f1ed1_row0_col4\" class=\"data row0 col4\" >-0.534120</td>\n",
       "                        <td id=\"T_f1ed1_row0_col5\" class=\"data row0 col5\" >-0.519757</td>\n",
       "                        <td id=\"T_f1ed1_row0_col6\" class=\"data row0 col6\" >-0.554971</td>\n",
       "                        <td id=\"T_f1ed1_row0_col7\" class=\"data row0 col7\" >-0.534122</td>\n",
       "                        <td id=\"T_f1ed1_row0_col8\" class=\"data row0 col8\" >0.462803</td>\n",
       "                        <td id=\"T_f1ed1_row0_col9\" class=\"data row0 col9\" >-0.003325</td>\n",
       "                        <td id=\"T_f1ed1_row0_col10\" class=\"data row0 col10\" >0.080627</td>\n",
       "            </tr>\n",
       "            <tr>\n",
       "                        <th id=\"T_f1ed1_level0_row1\" class=\"row_heading level0 row1\" >Age</th>\n",
       "                        <td id=\"T_f1ed1_row1_col0\" class=\"data row1 col0\" >-0.090870</td>\n",
       "                        <td id=\"T_f1ed1_row1_col1\" class=\"data row1 col1\" >1.000000</td>\n",
       "                        <td id=\"T_f1ed1_row1_col2\" class=\"data row1 col2\" >0.108511</td>\n",
       "                        <td id=\"T_f1ed1_row1_col3\" class=\"data row1 col3\" >0.132855</td>\n",
       "                        <td id=\"T_f1ed1_row1_col4\" class=\"data row1 col4\" >0.206145</td>\n",
       "                        <td id=\"T_f1ed1_row1_col5\" class=\"data row1 col5\" >0.112964</td>\n",
       "                        <td id=\"T_f1ed1_row1_col6\" class=\"data row1 col6\" >0.208032</td>\n",
       "                        <td id=\"T_f1ed1_row1_col7\" class=\"data row1 col7\" >0.183614</td>\n",
       "                        <td id=\"T_f1ed1_row1_col8\" class=\"data row1 col8\" >-0.081202</td>\n",
       "                        <td id=\"T_f1ed1_row1_col9\" class=\"data row1 col9\" >-0.000730</td>\n",
       "                        <td id=\"T_f1ed1_row1_col10\" class=\"data row1 col10\" >-0.130792</td>\n",
       "            </tr>\n",
       "            <tr>\n",
       "                        <th id=\"T_f1ed1_level0_row2\" class=\"row_heading level0 row2\" >VIP</th>\n",
       "                        <td id=\"T_f1ed1_row2_col0\" class=\"data row2 col0\" >-0.082303</td>\n",
       "                        <td id=\"T_f1ed1_row2_col1\" class=\"data row2 col1\" >0.108511</td>\n",
       "                        <td id=\"T_f1ed1_row2_col2\" class=\"data row2 col2\" >1.000000</td>\n",
       "                        <td id=\"T_f1ed1_row2_col3\" class=\"data row2 col3\" >0.045791</td>\n",
       "                        <td id=\"T_f1ed1_row2_col4\" class=\"data row2 col4\" >0.124013</td>\n",
       "                        <td id=\"T_f1ed1_row2_col5\" class=\"data row2 col5\" >0.033229</td>\n",
       "                        <td id=\"T_f1ed1_row2_col6\" class=\"data row2 col6\" >0.093526</td>\n",
       "                        <td id=\"T_f1ed1_row2_col7\" class=\"data row2 col7\" >0.104755</td>\n",
       "                        <td id=\"T_f1ed1_row2_col8\" class=\"data row2 col8\" >-0.042260</td>\n",
       "                        <td id=\"T_f1ed1_row2_col9\" class=\"data row2 col9\" >0.015023</td>\n",
       "                        <td id=\"T_f1ed1_row2_col10\" class=\"data row2 col10\" >0.000778</td>\n",
       "            </tr>\n",
       "            <tr>\n",
       "                        <th id=\"T_f1ed1_level0_row3\" class=\"row_heading level0 row3\" >RoomService</th>\n",
       "                        <td id=\"T_f1ed1_row3_col0\" class=\"data row3 col0\" >-0.521965</td>\n",
       "                        <td id=\"T_f1ed1_row3_col1\" class=\"data row3 col1\" >0.132855</td>\n",
       "                        <td id=\"T_f1ed1_row3_col2\" class=\"data row3 col2\" >0.045791</td>\n",
       "                        <td id=\"T_f1ed1_row3_col3\" class=\"data row3 col3\" >1.000000</td>\n",
       "                        <td id=\"T_f1ed1_row3_col4\" class=\"data row3 col4\" >0.175702</td>\n",
       "                        <td id=\"T_f1ed1_row3_col5\" class=\"data row3 col5\" >0.442219</td>\n",
       "                        <td id=\"T_f1ed1_row3_col6\" class=\"data row3 col6\" >0.253528</td>\n",
       "                        <td id=\"T_f1ed1_row3_col7\" class=\"data row3 col7\" >0.176385</td>\n",
       "                        <td id=\"T_f1ed1_row3_col8\" class=\"data row3 col8\" >-0.363412</td>\n",
       "                        <td id=\"T_f1ed1_row3_col9\" class=\"data row3 col9\" >0.000647</td>\n",
       "                        <td id=\"T_f1ed1_row3_col10\" class=\"data row3 col10\" >-0.106167</td>\n",
       "            </tr>\n",
       "            <tr>\n",
       "                        <th id=\"T_f1ed1_level0_row4\" class=\"row_heading level0 row4\" >FoodCourt</th>\n",
       "                        <td id=\"T_f1ed1_row4_col0\" class=\"data row4 col0\" >-0.534120</td>\n",
       "                        <td id=\"T_f1ed1_row4_col1\" class=\"data row4 col1\" >0.206145</td>\n",
       "                        <td id=\"T_f1ed1_row4_col2\" class=\"data row4 col2\" >0.124013</td>\n",
       "                        <td id=\"T_f1ed1_row4_col3\" class=\"data row4 col3\" >0.175702</td>\n",
       "                        <td id=\"T_f1ed1_row4_col4\" class=\"data row4 col4\" >1.000000</td>\n",
       "                        <td id=\"T_f1ed1_row4_col5\" class=\"data row4 col5\" >0.184632</td>\n",
       "                        <td id=\"T_f1ed1_row4_col6\" class=\"data row4 col6\" >0.478645</td>\n",
       "                        <td id=\"T_f1ed1_row4_col7\" class=\"data row4 col7\" >0.510008</td>\n",
       "                        <td id=\"T_f1ed1_row4_col8\" class=\"data row4 col8\" >-0.176724</td>\n",
       "                        <td id=\"T_f1ed1_row4_col9\" class=\"data row4 col9\" >0.010356</td>\n",
       "                        <td id=\"T_f1ed1_row4_col10\" class=\"data row4 col10\" >-0.041147</td>\n",
       "            </tr>\n",
       "            <tr>\n",
       "                        <th id=\"T_f1ed1_level0_row5\" class=\"row_heading level0 row5\" >ShoppingMall</th>\n",
       "                        <td id=\"T_f1ed1_row5_col0\" class=\"data row5 col0\" >-0.519757</td>\n",
       "                        <td id=\"T_f1ed1_row5_col1\" class=\"data row5 col1\" >0.112964</td>\n",
       "                        <td id=\"T_f1ed1_row5_col2\" class=\"data row5 col2\" >0.033229</td>\n",
       "                        <td id=\"T_f1ed1_row5_col3\" class=\"data row5 col3\" >0.442219</td>\n",
       "                        <td id=\"T_f1ed1_row5_col4\" class=\"data row5 col4\" >0.184632</td>\n",
       "                        <td id=\"T_f1ed1_row5_col5\" class=\"data row5 col5\" >1.000000</td>\n",
       "                        <td id=\"T_f1ed1_row5_col6\" class=\"data row5 col6\" >0.256929</td>\n",
       "                        <td id=\"T_f1ed1_row5_col7\" class=\"data row5 col7\" >0.197898</td>\n",
       "                        <td id=\"T_f1ed1_row5_col8\" class=\"data row5 col8\" >-0.225309</td>\n",
       "                        <td id=\"T_f1ed1_row5_col9\" class=\"data row5 col9\" >0.009480</td>\n",
       "                        <td id=\"T_f1ed1_row5_col10\" class=\"data row5 col10\" >-0.112895</td>\n",
       "            </tr>\n",
       "            <tr>\n",
       "                        <th id=\"T_f1ed1_level0_row6\" class=\"row_heading level0 row6\" >Spa</th>\n",
       "                        <td id=\"T_f1ed1_row6_col0\" class=\"data row6 col0\" >-0.554971</td>\n",
       "                        <td id=\"T_f1ed1_row6_col1\" class=\"data row6 col1\" >0.208032</td>\n",
       "                        <td id=\"T_f1ed1_row6_col2\" class=\"data row6 col2\" >0.093526</td>\n",
       "                        <td id=\"T_f1ed1_row6_col3\" class=\"data row6 col3\" >0.253528</td>\n",
       "                        <td id=\"T_f1ed1_row6_col4\" class=\"data row6 col4\" >0.478645</td>\n",
       "                        <td id=\"T_f1ed1_row6_col5\" class=\"data row6 col5\" >0.256929</td>\n",
       "                        <td id=\"T_f1ed1_row6_col6\" class=\"data row6 col6\" >1.000000</td>\n",
       "                        <td id=\"T_f1ed1_row6_col7\" class=\"data row6 col7\" >0.434082</td>\n",
       "                        <td id=\"T_f1ed1_row6_col8\" class=\"data row6 col8\" >-0.370353</td>\n",
       "                        <td id=\"T_f1ed1_row6_col9\" class=\"data row6 col9\" >-0.001984</td>\n",
       "                        <td id=\"T_f1ed1_row6_col10\" class=\"data row6 col10\" >-0.060092</td>\n",
       "            </tr>\n",
       "            <tr>\n",
       "                        <th id=\"T_f1ed1_level0_row7\" class=\"row_heading level0 row7\" >VRDeck</th>\n",
       "                        <td id=\"T_f1ed1_row7_col0\" class=\"data row7 col0\" >-0.534122</td>\n",
       "                        <td id=\"T_f1ed1_row7_col1\" class=\"data row7 col1\" >0.183614</td>\n",
       "                        <td id=\"T_f1ed1_row7_col2\" class=\"data row7 col2\" >0.104755</td>\n",
       "                        <td id=\"T_f1ed1_row7_col3\" class=\"data row7 col3\" >0.176385</td>\n",
       "                        <td id=\"T_f1ed1_row7_col4\" class=\"data row7 col4\" >0.510008</td>\n",
       "                        <td id=\"T_f1ed1_row7_col5\" class=\"data row7 col5\" >0.197898</td>\n",
       "                        <td id=\"T_f1ed1_row7_col6\" class=\"data row7 col6\" >0.434082</td>\n",
       "                        <td id=\"T_f1ed1_row7_col7\" class=\"data row7 col7\" >1.000000</td>\n",
       "                        <td id=\"T_f1ed1_row7_col8\" class=\"data row7 col8\" >-0.344015</td>\n",
       "                        <td id=\"T_f1ed1_row7_col9\" class=\"data row7 col9\" >-0.004765</td>\n",
       "                        <td id=\"T_f1ed1_row7_col10\" class=\"data row7 col10\" >-0.060524</td>\n",
       "            </tr>\n",
       "            <tr>\n",
       "                        <th id=\"T_f1ed1_level0_row8\" class=\"row_heading level0 row8\" >Transported</th>\n",
       "                        <td id=\"T_f1ed1_row8_col0\" class=\"data row8 col0\" >0.462803</td>\n",
       "                        <td id=\"T_f1ed1_row8_col1\" class=\"data row8 col1\" >-0.081202</td>\n",
       "                        <td id=\"T_f1ed1_row8_col2\" class=\"data row8 col2\" >-0.042260</td>\n",
       "                        <td id=\"T_f1ed1_row8_col3\" class=\"data row8 col3\" >-0.363412</td>\n",
       "                        <td id=\"T_f1ed1_row8_col4\" class=\"data row8 col4\" >-0.176724</td>\n",
       "                        <td id=\"T_f1ed1_row8_col5\" class=\"data row8 col5\" >-0.225309</td>\n",
       "                        <td id=\"T_f1ed1_row8_col6\" class=\"data row8 col6\" >-0.370353</td>\n",
       "                        <td id=\"T_f1ed1_row8_col7\" class=\"data row8 col7\" >-0.344015</td>\n",
       "                        <td id=\"T_f1ed1_row8_col8\" class=\"data row8 col8\" >1.000000</td>\n",
       "                        <td id=\"T_f1ed1_row8_col9\" class=\"data row8 col9\" >0.023408</td>\n",
       "                        <td id=\"T_f1ed1_row8_col10\" class=\"data row8 col10\" >0.091925</td>\n",
       "            </tr>\n",
       "            <tr>\n",
       "                        <th id=\"T_f1ed1_level0_row9\" class=\"row_heading level0 row9\" >PassengerGroup</th>\n",
       "                        <td id=\"T_f1ed1_row9_col0\" class=\"data row9 col0\" >-0.003325</td>\n",
       "                        <td id=\"T_f1ed1_row9_col1\" class=\"data row9 col1\" >-0.000730</td>\n",
       "                        <td id=\"T_f1ed1_row9_col2\" class=\"data row9 col2\" >0.015023</td>\n",
       "                        <td id=\"T_f1ed1_row9_col3\" class=\"data row9 col3\" >0.000647</td>\n",
       "                        <td id=\"T_f1ed1_row9_col4\" class=\"data row9 col4\" >0.010356</td>\n",
       "                        <td id=\"T_f1ed1_row9_col5\" class=\"data row9 col5\" >0.009480</td>\n",
       "                        <td id=\"T_f1ed1_row9_col6\" class=\"data row9 col6\" >-0.001984</td>\n",
       "                        <td id=\"T_f1ed1_row9_col7\" class=\"data row9 col7\" >-0.004765</td>\n",
       "                        <td id=\"T_f1ed1_row9_col8\" class=\"data row9 col8\" >0.023408</td>\n",
       "                        <td id=\"T_f1ed1_row9_col9\" class=\"data row9 col9\" >1.000000</td>\n",
       "                        <td id=\"T_f1ed1_row9_col10\" class=\"data row9 col10\" >0.001471</td>\n",
       "            </tr>\n",
       "            <tr>\n",
       "                        <th id=\"T_f1ed1_level0_row10\" class=\"row_heading level0 row10\" >IndividualNo</th>\n",
       "                        <td id=\"T_f1ed1_row10_col0\" class=\"data row10 col0\" >0.080627</td>\n",
       "                        <td id=\"T_f1ed1_row10_col1\" class=\"data row10 col1\" >-0.130792</td>\n",
       "                        <td id=\"T_f1ed1_row10_col2\" class=\"data row10 col2\" >0.000778</td>\n",
       "                        <td id=\"T_f1ed1_row10_col3\" class=\"data row10 col3\" >-0.106167</td>\n",
       "                        <td id=\"T_f1ed1_row10_col4\" class=\"data row10 col4\" >-0.041147</td>\n",
       "                        <td id=\"T_f1ed1_row10_col5\" class=\"data row10 col5\" >-0.112895</td>\n",
       "                        <td id=\"T_f1ed1_row10_col6\" class=\"data row10 col6\" >-0.060092</td>\n",
       "                        <td id=\"T_f1ed1_row10_col7\" class=\"data row10 col7\" >-0.060524</td>\n",
       "                        <td id=\"T_f1ed1_row10_col8\" class=\"data row10 col8\" >0.091925</td>\n",
       "                        <td id=\"T_f1ed1_row10_col9\" class=\"data row10 col9\" >0.001471</td>\n",
       "                        <td id=\"T_f1ed1_row10_col10\" class=\"data row10 col10\" >1.000000</td>\n",
       "            </tr>\n",
       "    </tbody></table>"
      ],
      "text/plain": [
       "<pandas.io.formats.style.Styler at 0x293df57cfa0>"
      ]
     },
     "execution_count": 10,
     "metadata": {},
     "output_type": "execute_result"
    }
   ],
   "source": [
    "data.corr(\"spearman\").style.background_gradient(cmap=\"Blues\")"
   ]
  },
  {
   "cell_type": "markdown",
   "id": "8d902d8a-810a-4d9f-9aab-320ee10209a3",
   "metadata": {},
   "source": [
    "- **CryoSleep** has the highest correlation with Tranported"
   ]
  },
  {
   "cell_type": "code",
   "execution_count": 11,
   "id": "e00fe3b3-e103-4d6b-8004-66067ddf3a45",
   "metadata": {},
   "outputs": [
    {
     "data": {
      "text/html": [
       "<div>\n",
       "<style scoped>\n",
       "    .dataframe tbody tr th:only-of-type {\n",
       "        vertical-align: middle;\n",
       "    }\n",
       "\n",
       "    .dataframe tbody tr th {\n",
       "        vertical-align: top;\n",
       "    }\n",
       "\n",
       "    .dataframe thead th {\n",
       "        text-align: right;\n",
       "    }\n",
       "</style>\n",
       "<table border=\"1\" class=\"dataframe\">\n",
       "  <thead>\n",
       "    <tr style=\"text-align: right;\">\n",
       "      <th></th>\n",
       "      <th>PassengerId</th>\n",
       "      <th>HomePlanet</th>\n",
       "      <th>CryoSleep</th>\n",
       "      <th>Cabin</th>\n",
       "      <th>Destination</th>\n",
       "      <th>Age</th>\n",
       "      <th>VIP</th>\n",
       "      <th>RoomService</th>\n",
       "      <th>FoodCourt</th>\n",
       "      <th>ShoppingMall</th>\n",
       "      <th>Spa</th>\n",
       "      <th>VRDeck</th>\n",
       "      <th>Name</th>\n",
       "      <th>Transported</th>\n",
       "      <th>PassengerGroup</th>\n",
       "      <th>IndividualNo</th>\n",
       "    </tr>\n",
       "  </thead>\n",
       "  <tbody>\n",
       "    <tr>\n",
       "      <th>0</th>\n",
       "      <td>0001_01</td>\n",
       "      <td>Europa</td>\n",
       "      <td>False</td>\n",
       "      <td>B/0/P</td>\n",
       "      <td>TRAPPIST-1e</td>\n",
       "      <td>39.0</td>\n",
       "      <td>False</td>\n",
       "      <td>0.0</td>\n",
       "      <td>0.0</td>\n",
       "      <td>0.0</td>\n",
       "      <td>0.0</td>\n",
       "      <td>0.0</td>\n",
       "      <td>Maham Ofracculy</td>\n",
       "      <td>False</td>\n",
       "      <td>1</td>\n",
       "      <td>1</td>\n",
       "    </tr>\n",
       "    <tr>\n",
       "      <th>1</th>\n",
       "      <td>0002_01</td>\n",
       "      <td>Earth</td>\n",
       "      <td>False</td>\n",
       "      <td>F/0/S</td>\n",
       "      <td>TRAPPIST-1e</td>\n",
       "      <td>24.0</td>\n",
       "      <td>False</td>\n",
       "      <td>109.0</td>\n",
       "      <td>9.0</td>\n",
       "      <td>25.0</td>\n",
       "      <td>549.0</td>\n",
       "      <td>44.0</td>\n",
       "      <td>Juanna Vines</td>\n",
       "      <td>True</td>\n",
       "      <td>2</td>\n",
       "      <td>1</td>\n",
       "    </tr>\n",
       "    <tr>\n",
       "      <th>2</th>\n",
       "      <td>0003_01</td>\n",
       "      <td>Europa</td>\n",
       "      <td>False</td>\n",
       "      <td>A/0/S</td>\n",
       "      <td>TRAPPIST-1e</td>\n",
       "      <td>58.0</td>\n",
       "      <td>True</td>\n",
       "      <td>43.0</td>\n",
       "      <td>3576.0</td>\n",
       "      <td>0.0</td>\n",
       "      <td>6715.0</td>\n",
       "      <td>49.0</td>\n",
       "      <td>Altark Susent</td>\n",
       "      <td>False</td>\n",
       "      <td>3</td>\n",
       "      <td>1</td>\n",
       "    </tr>\n",
       "  </tbody>\n",
       "</table>\n",
       "</div>"
      ],
      "text/plain": [
       "  PassengerId HomePlanet  CryoSleep  Cabin  Destination   Age    VIP  \\\n",
       "0     0001_01     Europa      False  B/0/P  TRAPPIST-1e  39.0  False   \n",
       "1     0002_01      Earth      False  F/0/S  TRAPPIST-1e  24.0  False   \n",
       "2     0003_01     Europa      False  A/0/S  TRAPPIST-1e  58.0   True   \n",
       "\n",
       "   RoomService  FoodCourt  ShoppingMall     Spa  VRDeck             Name  \\\n",
       "0          0.0        0.0           0.0     0.0     0.0  Maham Ofracculy   \n",
       "1        109.0        9.0          25.0   549.0    44.0     Juanna Vines   \n",
       "2         43.0     3576.0           0.0  6715.0    49.0    Altark Susent   \n",
       "\n",
       "   Transported  PassengerGroup  IndividualNo  \n",
       "0        False               1             1  \n",
       "1         True               2             1  \n",
       "2        False               3             1  "
      ]
     },
     "execution_count": 11,
     "metadata": {},
     "output_type": "execute_result"
    }
   ],
   "source": [
    "data.head(3)"
   ]
  },
  {
   "cell_type": "code",
   "execution_count": 12,
   "id": "dfcffc64-788c-4beb-bc09-7a708ea1a8e8",
   "metadata": {},
   "outputs": [],
   "source": [
    "%matplotlib inline"
   ]
  },
  {
   "cell_type": "code",
   "execution_count": 13,
   "id": "ce97cbc9-c25b-49de-a6ab-d5932091dd48",
   "metadata": {},
   "outputs": [],
   "source": [
    "data[\"AmountSpent\"] = data[\"Spa\"] + data[\"ShoppingMall\"] + data[\"FoodCourt\"] + data[\"RoomService\"] + data[\"VRDeck\"] "
   ]
  },
  {
   "cell_type": "code",
   "execution_count": 14,
   "id": "86f89860-0519-4bca-aa89-bfe44c5e6b0c",
   "metadata": {},
   "outputs": [
    {
     "data": {
      "text/plain": [
       "array([[<AxesSubplot:title={'center':'Age'}>,\n",
       "        <AxesSubplot:title={'center':'RoomService'}>,\n",
       "        <AxesSubplot:title={'center':'FoodCourt'}>],\n",
       "       [<AxesSubplot:title={'center':'ShoppingMall'}>,\n",
       "        <AxesSubplot:title={'center':'Spa'}>,\n",
       "        <AxesSubplot:title={'center':'VRDeck'}>],\n",
       "       [<AxesSubplot:title={'center':'PassengerGroup'}>,\n",
       "        <AxesSubplot:title={'center':'IndividualNo'}>,\n",
       "        <AxesSubplot:title={'center':'AmountSpent'}>]], dtype=object)"
      ]
     },
     "execution_count": 14,
     "metadata": {},
     "output_type": "execute_result"
    },
    {
     "data": {
      "image/png": "[encoded data removed]",
      "text/plain": [
       "<Figure size 1440x1440 with 9 Axes>"
      ]
     },
     "metadata": {
      "needs_background": "light"
     },
     "output_type": "display_data"
    }
   ],
   "source": [
    "data.hist(figsize=(20, 20))"
   ]
  },
  {
   "cell_type": "code",
   "execution_count": 15,
   "id": "071c398e-a377-4298-8578-31c28ddc72f1",
   "metadata": {},
   "outputs": [
    {
     "data": {
      "text/plain": [
       "3327"
      ]
     },
     "execution_count": 15,
     "metadata": {},
     "output_type": "execute_result"
    }
   ],
   "source": [
    "data[\"Transported\"].sum()"
   ]
  },
  {
   "cell_type": "code",
   "execution_count": 16,
   "id": "22f65572-5693-4693-b59f-e20c2506eee0",
   "metadata": {},
   "outputs": [],
   "source": [
    "transported = data[data[\"Transported\"] == True]"
   ]
  },
  {
   "cell_type": "code",
   "execution_count": 17,
   "id": "f985fcf9-226a-4506-9b56-26b9c8a11ce2",
   "metadata": {},
   "outputs": [
    {
     "data": {
      "text/plain": [
       "False    3267\n",
       "True       60\n",
       "Name: VIP, dtype: int64"
      ]
     },
     "execution_count": 17,
     "metadata": {},
     "output_type": "execute_result"
    }
   ],
   "source": [
    "transported[\"VIP\"].value_counts()"
   ]
  },
  {
   "cell_type": "code",
   "execution_count": 18,
   "id": "554820b2-c497-479a-9ae7-9082b5a91467",
   "metadata": {},
   "outputs": [],
   "source": [
    "not_transported = data[data[\"Transported\"] != True]"
   ]
  },
  {
   "cell_type": "code",
   "execution_count": 19,
   "id": "eb07b901-b39e-4adb-a795-c269da8033d2",
   "metadata": {},
   "outputs": [
    {
     "data": {
      "text/plain": [
       "count    3327.000000\n",
       "mean       64.658852\n",
       "std       282.632489\n",
       "min         0.000000\n",
       "25%         0.000000\n",
       "50%         0.000000\n",
       "75%         0.000000\n",
       "max      3992.000000\n",
       "Name: RoomService, dtype: float64"
      ]
     },
     "execution_count": 19,
     "metadata": {},
     "output_type": "execute_result"
    }
   ],
   "source": [
    "transported[\"RoomService\"].describe()"
   ]
  },
  {
   "cell_type": "code",
   "execution_count": 20,
   "id": "bb549fb0-c687-4b66-b5a3-19ebbc4a3ac6",
   "metadata": {},
   "outputs": [
    {
     "data": {
      "text/plain": [
       "count    3279.000000\n",
       "mean      383.642269\n",
       "std       840.194088\n",
       "min         0.000000\n",
       "25%         0.000000\n",
       "50%         1.000000\n",
       "75%       464.500000\n",
       "max      9920.000000\n",
       "Name: RoomService, dtype: float64"
      ]
     },
     "execution_count": 20,
     "metadata": {},
     "output_type": "execute_result"
    }
   ],
   "source": [
    "not_transported[\"RoomService\"].describe()"
   ]
  },
  {
   "cell_type": "markdown",
   "id": "56ff6b80-1ce8-4f32-ad1f-6055e75c2033",
   "metadata": {},
   "source": [
    "- Considering the mean for both, not_transported has a higher mean for roomservice compare to those transported.\n",
    "- Probably, staying more in their rooms could be a factor"
   ]
  },
  {
   "cell_type": "code",
   "execution_count": null,
   "id": "8e186a3b-34a3-45e9-a354-d8bc0a9897f1",
   "metadata": {},
   "outputs": [],
   "source": []
  },
  {
   "cell_type": "code",
   "execution_count": 21,
   "id": "1e4d449a-cf9d-43fc-a7d4-26b3336b29a9",
   "metadata": {},
   "outputs": [
    {
     "data": {
      "text/plain": [
       "<matplotlib.collections.PathCollection at 0x293e1c71fa0>"
      ]
     },
     "execution_count": 21,
     "metadata": {},
     "output_type": "execute_result"
    },
    {
     "data": {
      "image/png": "[encoded data removed]",
      "text/plain": [
       "<Figure size 432x288 with 1 Axes>"
      ]
     },
     "metadata": {
      "needs_background": "light"
     },
     "output_type": "display_data"
    }
   ],
   "source": [
    "plt.scatter(data[\"Age\"], data[\"Transported\"])"
   ]
  },
  {
   "cell_type": "markdown",
   "id": "dba5976e-ee6a-4fb7-9d35-0162df247cf2",
   "metadata": {},
   "source": [
    "- Age doesn't really have an effect. seems balanced"
   ]
  },
  {
   "cell_type": "code",
   "execution_count": 22,
   "id": "025e60a8-f8c4-4dac-9a4d-b755a08f510b",
   "metadata": {},
   "outputs": [
    {
     "data": {
      "text/plain": [
       "Index(['PassengerId', 'HomePlanet', 'CryoSleep', 'Cabin', 'Destination', 'Age',\n",
       "       'VIP', 'RoomService', 'FoodCourt', 'ShoppingMall', 'Spa', 'VRDeck',\n",
       "       'Name', 'Transported', 'PassengerGroup', 'IndividualNo', 'AmountSpent'],\n",
       "      dtype='object')"
      ]
     },
     "execution_count": 22,
     "metadata": {},
     "output_type": "execute_result"
    }
   ],
   "source": [
    "data.columns"
   ]
  },
  {
   "cell_type": "code",
   "execution_count": 23,
   "id": "70696021-1c1c-4f0a-8c26-336fe7e0607c",
   "metadata": {},
   "outputs": [
    {
     "data": {
      "text/plain": [
       "array([[<AxesSubplot:title={'center':'Age'}>,\n",
       "        <AxesSubplot:title={'center':'RoomService'}>,\n",
       "        <AxesSubplot:title={'center':'FoodCourt'}>],\n",
       "       [<AxesSubplot:title={'center':'ShoppingMall'}>,\n",
       "        <AxesSubplot:title={'center':'Spa'}>,\n",
       "        <AxesSubplot:title={'center':'VRDeck'}>],\n",
       "       [<AxesSubplot:title={'center':'PassengerGroup'}>,\n",
       "        <AxesSubplot:title={'center':'IndividualNo'}>,\n",
       "        <AxesSubplot:title={'center':'AmountSpent'}>]], dtype=object)"
      ]
     },
     "execution_count": 23,
     "metadata": {},
     "output_type": "execute_result"
    },
    {
     "data": {
      "image/png": "[encoded data removed]",
      "text/plain": [
       "<Figure size 1440x1440 with 9 Axes>"
      ]
     },
     "metadata": {
      "needs_background": "light"
     },
     "output_type": "display_data"
    }
   ],
   "source": [
    "not_transported.hist(figsize=(20, 20))"
   ]
  },
  {
   "cell_type": "code",
   "execution_count": 24,
   "id": "e34e5911-153e-4a42-a469-034937027bc9",
   "metadata": {},
   "outputs": [
    {
     "data": {
      "text/plain": [
       "array([[<AxesSubplot:title={'center':'Age'}>,\n",
       "        <AxesSubplot:title={'center':'RoomService'}>,\n",
       "        <AxesSubplot:title={'center':'FoodCourt'}>],\n",
       "       [<AxesSubplot:title={'center':'ShoppingMall'}>,\n",
       "        <AxesSubplot:title={'center':'Spa'}>,\n",
       "        <AxesSubplot:title={'center':'VRDeck'}>],\n",
       "       [<AxesSubplot:title={'center':'PassengerGroup'}>,\n",
       "        <AxesSubplot:title={'center':'IndividualNo'}>,\n",
       "        <AxesSubplot:title={'center':'AmountSpent'}>]], dtype=object)"
      ]
     },
     "execution_count": 24,
     "metadata": {},
     "output_type": "execute_result"
    },
    {
     "data": {
      "image/png": "[encoded data removed]",
      "text/plain": [
       "<Figure size 1440x1440 with 9 Axes>"
      ]
     },
     "metadata": {
      "needs_background": "light"
     },
     "output_type": "display_data"
    }
   ],
   "source": [
    "transported.hist(figsize=(20, 20))"
   ]
  },
  {
   "cell_type": "code",
   "execution_count": 25,
   "id": "b8f3e70b-9a2e-4adf-a6fe-a4e4657eb66e",
   "metadata": {},
   "outputs": [
    {
     "data": {
      "text/plain": [
       "Index(['PassengerId', 'HomePlanet', 'CryoSleep', 'Cabin', 'Destination', 'Age',\n",
       "       'VIP', 'RoomService', 'FoodCourt', 'ShoppingMall', 'Spa', 'VRDeck',\n",
       "       'Name', 'Transported', 'PassengerGroup', 'IndividualNo', 'AmountSpent'],\n",
       "      dtype='object')"
      ]
     },
     "execution_count": 25,
     "metadata": {},
     "output_type": "execute_result"
    }
   ],
   "source": [
    "data.columns"
   ]
  },
  {
   "cell_type": "code",
   "execution_count": 26,
   "id": "c6a19b44-4df2-4de4-a40d-b0a274222d93",
   "metadata": {},
   "outputs": [
    {
     "data": {
      "text/plain": [
       "(array([2136.,    0.,    0.,    0.,    0.,  315.,    0.,    0.,    0.,\n",
       "         876.]),\n",
       " array([0. , 0.2, 0.4, 0.6, 0.8, 1. , 1.2, 1.4, 1.6, 1.8, 2. ]),\n",
       " <BarContainer object of 10 artists>)"
      ]
     },
     "execution_count": 26,
     "metadata": {},
     "output_type": "execute_result"
    },
    {
     "data": {
      "image/png": "[encoded data removed]",
      "text/plain": [
       "<Figure size 432x288 with 1 Axes>"
      ]
     },
     "metadata": {
      "needs_background": "light"
     },
     "output_type": "display_data"
    }
   ],
   "source": [
    "plt.hist(transported[\"Destination\"])"
   ]
  },
  {
   "cell_type": "code",
   "execution_count": 27,
   "id": "0be716b7-831a-40ff-bc9d-ae24e827687b",
   "metadata": {},
   "outputs": [
    {
     "data": {
      "text/plain": [
       "(array([2440.,    0.,    0.,    0.,    0.,  531.,    0.,    0.,    0.,\n",
       "         308.]),\n",
       " array([0. , 0.2, 0.4, 0.6, 0.8, 1. , 1.2, 1.4, 1.6, 1.8, 2. ]),\n",
       " <BarContainer object of 10 artists>)"
      ]
     },
     "execution_count": 27,
     "metadata": {},
     "output_type": "execute_result"
    },
    {
     "data": {
      "image/png": "[encoded data removed]",
      "text/plain": [
       "<Figure size 432x288 with 1 Axes>"
      ]
     },
     "metadata": {
      "needs_background": "light"
     },
     "output_type": "display_data"
    }
   ],
   "source": [
    "plt.hist(not_transported[\"Destination\"])"
   ]
  },
  {
   "cell_type": "code",
   "execution_count": 28,
   "id": "78f25bb1-3b7b-4d7e-9cce-a693a55f8a03",
   "metadata": {},
   "outputs": [
    {
     "data": {
      "text/plain": [
       "(array([1518.,    0.,    0.,    0.,    0., 1104.,    0.,    0.,    0.,\n",
       "         705.]),\n",
       " array([0. , 0.2, 0.4, 0.6, 0.8, 1. , 1.2, 1.4, 1.6, 1.8, 2. ]),\n",
       " <BarContainer object of 10 artists>)"
      ]
     },
     "execution_count": 28,
     "metadata": {},
     "output_type": "execute_result"
    },
    {
     "data": {
      "image/png": "[encoded data removed]",
      "text/plain": [
       "<Figure size 432x288 with 1 Axes>"
      ]
     },
     "metadata": {
      "needs_background": "light"
     },
     "output_type": "display_data"
    }
   ],
   "source": [
    "plt.hist(transported[\"HomePlanet\"])"
   ]
  },
  {
   "cell_type": "code",
   "execution_count": 29,
   "id": "01785434-f301-45fd-8218-89c74e13d052",
   "metadata": {},
   "outputs": [
    {
     "data": {
      "text/plain": [
       "(array([ 569.,    0.,    0.,    0.,    0., 2048.,    0.,    0.,    0.,\n",
       "         662.]),\n",
       " array([0. , 0.2, 0.4, 0.6, 0.8, 1. , 1.2, 1.4, 1.6, 1.8, 2. ]),\n",
       " <BarContainer object of 10 artists>)"
      ]
     },
     "execution_count": 29,
     "metadata": {},
     "output_type": "execute_result"
    },
    {
     "data": {
      "image/png": "[encoded data removed]",
      "text/plain": [
       "<Figure size 432x288 with 1 Axes>"
      ]
     },
     "metadata": {
      "needs_background": "light"
     },
     "output_type": "display_data"
    }
   ],
   "source": [
    "plt.hist(not_transported[\"HomePlanet\"])"
   ]
  },
  {
   "cell_type": "code",
   "execution_count": 30,
   "id": "38992012-3c26-48d3-9b78-ec313dd69f9a",
   "metadata": {},
   "outputs": [
    {
     "data": {
      "text/plain": [
       "433"
      ]
     },
     "execution_count": 30,
     "metadata": {},
     "output_type": "execute_result"
    }
   ],
   "source": [
    "len((set(not_transported[\"Cabin\"].unique())).intersection(set(transported[\"Cabin\"].unique())))"
   ]
  },
  {
   "cell_type": "code",
   "execution_count": 31,
   "id": "9640c1c5-d237-4023-9187-01fb60714cdc",
   "metadata": {},
   "outputs": [
    {
     "data": {
      "text/plain": [
       "2737"
      ]
     },
     "execution_count": 31,
     "metadata": {},
     "output_type": "execute_result"
    }
   ],
   "source": [
    "len((set(transported[\"Cabin\"].unique())))"
   ]
  },
  {
   "cell_type": "code",
   "execution_count": 32,
   "id": "b61a3867-171c-4f80-92f9-504e6c44bc85",
   "metadata": {},
   "outputs": [
    {
     "data": {
      "text/plain": [
       "3001"
      ]
     },
     "execution_count": 32,
     "metadata": {},
     "output_type": "execute_result"
    }
   ],
   "source": [
    "len((set(not_transported[\"Cabin\"].unique())))"
   ]
  },
  {
   "cell_type": "markdown",
   "id": "c260e3ef-74e4-4a80-b22e-af84e614023b",
   "metadata": {},
   "source": [
    "- Out of the Huge number of Cabins that each had, only 433 actually intersect. Means we can also be able to check if someone was transported or not based on the particular cabin he/she was placed in"
   ]
  },
  {
   "cell_type": "code",
   "execution_count": null,
   "id": "0624a950-ee01-4d62-b201-0e54ad56ece5",
   "metadata": {},
   "outputs": [],
   "source": []
  },
  {
   "cell_type": "code",
   "execution_count": null,
   "id": "769d0361-d848-44c7-b131-3a5b3ce1bf4f",
   "metadata": {},
   "outputs": [],
   "source": []
  },
  {
   "cell_type": "code",
   "execution_count": null,
   "id": "70b43670-e3f3-43f2-88c1-4f489f8b83a1",
   "metadata": {},
   "outputs": [],
   "source": []
  },
  {
   "cell_type": "code",
   "execution_count": null,
   "id": "ec2d5b5e-a50d-4d68-9aab-6e64881417a7",
   "metadata": {},
   "outputs": [],
   "source": []
  },
  {
   "cell_type": "markdown",
   "id": "eafac24a-8046-49b9-a008-c0e7d9c856a5",
   "metadata": {},
   "source": [
    "## **Preprocessing and Model Training**"
   ]
  },
  {
   "cell_type": "code",
   "execution_count": 33,
   "id": "a145668d-a357-405d-be1f-d9b41cb3a98e",
   "metadata": {},
   "outputs": [],
   "source": [
    "important_features = [\"CryoSleep\", \"VIP\", \"RoomService\", \"PassengerGroup\", \"Destination\", \"HomePlanet\", \"Cabin\"]"
   ]
  },
  {
   "cell_type": "code",
   "execution_count": 34,
   "id": "20f2cd51-d18a-4e08-ab70-5a25ba365a90",
   "metadata": {},
   "outputs": [],
   "source": [
    "from sklearn.preprocessing import OrdinalEncoder\n",
    "\n",
    "y_encoder = OrdinalEncoder()\n",
    "\n",
    "X_initial = data[important_features]\n",
    "y = pd.DataFrame(y_encoder.fit_transform(pd.DataFrame(data[\"Transported\"])))\n",
    "y = np.array(y).reshape(np.size(y))"
   ]
  },
  {
   "cell_type": "code",
   "execution_count": 35,
   "id": "29ccc2ae-4c47-41cf-8328-cec9bf37b42b",
   "metadata": {},
   "outputs": [
    {
     "data": {
      "text/html": [
       "<div>\n",
       "<style scoped>\n",
       "    .dataframe tbody tr th:only-of-type {\n",
       "        vertical-align: middle;\n",
       "    }\n",
       "\n",
       "    .dataframe tbody tr th {\n",
       "        vertical-align: top;\n",
       "    }\n",
       "\n",
       "    .dataframe thead th {\n",
       "        text-align: right;\n",
       "    }\n",
       "</style>\n",
       "<table border=\"1\" class=\"dataframe\">\n",
       "  <thead>\n",
       "    <tr style=\"text-align: right;\">\n",
       "      <th></th>\n",
       "      <th>CryoSleep</th>\n",
       "      <th>VIP</th>\n",
       "      <th>RoomService</th>\n",
       "      <th>PassengerGroup</th>\n",
       "      <th>Destination</th>\n",
       "      <th>HomePlanet</th>\n",
       "      <th>Cabin</th>\n",
       "    </tr>\n",
       "  </thead>\n",
       "  <tbody>\n",
       "    <tr>\n",
       "      <th>0</th>\n",
       "      <td>False</td>\n",
       "      <td>False</td>\n",
       "      <td>0.0</td>\n",
       "      <td>1</td>\n",
       "      <td>TRAPPIST-1e</td>\n",
       "      <td>Europa</td>\n",
       "      <td>B/0/P</td>\n",
       "    </tr>\n",
       "    <tr>\n",
       "      <th>1</th>\n",
       "      <td>False</td>\n",
       "      <td>False</td>\n",
       "      <td>109.0</td>\n",
       "      <td>2</td>\n",
       "      <td>TRAPPIST-1e</td>\n",
       "      <td>Earth</td>\n",
       "      <td>F/0/S</td>\n",
       "    </tr>\n",
       "    <tr>\n",
       "      <th>2</th>\n",
       "      <td>False</td>\n",
       "      <td>True</td>\n",
       "      <td>43.0</td>\n",
       "      <td>3</td>\n",
       "      <td>TRAPPIST-1e</td>\n",
       "      <td>Europa</td>\n",
       "      <td>A/0/S</td>\n",
       "    </tr>\n",
       "    <tr>\n",
       "      <th>3</th>\n",
       "      <td>False</td>\n",
       "      <td>False</td>\n",
       "      <td>0.0</td>\n",
       "      <td>3</td>\n",
       "      <td>TRAPPIST-1e</td>\n",
       "      <td>Europa</td>\n",
       "      <td>A/0/S</td>\n",
       "    </tr>\n",
       "    <tr>\n",
       "      <th>4</th>\n",
       "      <td>False</td>\n",
       "      <td>False</td>\n",
       "      <td>303.0</td>\n",
       "      <td>4</td>\n",
       "      <td>TRAPPIST-1e</td>\n",
       "      <td>Earth</td>\n",
       "      <td>F/1/S</td>\n",
       "    </tr>\n",
       "  </tbody>\n",
       "</table>\n",
       "</div>"
      ],
      "text/plain": [
       "   CryoSleep    VIP  RoomService  PassengerGroup  Destination HomePlanet  \\\n",
       "0      False  False          0.0               1  TRAPPIST-1e     Europa   \n",
       "1      False  False        109.0               2  TRAPPIST-1e      Earth   \n",
       "2      False   True         43.0               3  TRAPPIST-1e     Europa   \n",
       "3      False  False          0.0               3  TRAPPIST-1e     Europa   \n",
       "4      False  False        303.0               4  TRAPPIST-1e      Earth   \n",
       "\n",
       "   Cabin  \n",
       "0  B/0/P  \n",
       "1  F/0/S  \n",
       "2  A/0/S  \n",
       "3  A/0/S  \n",
       "4  F/1/S  "
      ]
     },
     "execution_count": 35,
     "metadata": {},
     "output_type": "execute_result"
    }
   ],
   "source": [
    "X_initial.head()"
   ]
  },
  {
   "cell_type": "markdown",
   "id": "73f1b1fc-9157-45d0-86ed-9e4dde1e77e6",
   "metadata": {},
   "source": [
    "We can use some features of sklearn to encode some of the categorical data items"
   ]
  },
  {
   "cell_type": "code",
   "execution_count": 36,
   "id": "061f119e-717c-4395-b248-1c813ea84da4",
   "metadata": {},
   "outputs": [],
   "source": [
    "from sklearn.preprocessing import OneHotEncoder, OrdinalEncoder\n",
    "from sklearn.compose import make_column_transformer\n",
    "\n",
    "column_transformer = make_column_transformer(\n",
    "    (OneHotEncoder(handle_unknown=\"ignore\"), [\"CryoSleep\", \"VIP\", \"Destination\", \"HomePlanet\"]),\n",
    "    (OrdinalEncoder(handle_unknown=\"use_encoded_value\", unknown_value=6_000), [\"Cabin\"]),\n",
    "    remainder=\"passthrough\",\n",
    ")"
   ]
  },
  {
   "cell_type": "code",
   "execution_count": 37,
   "id": "42f1db35-72a7-4272-89c9-29f5c6ae9407",
   "metadata": {},
   "outputs": [],
   "source": [
    "from sklearn.pipeline import Pipeline, make_pipeline\n",
    "from sklearn.linear_model import LogisticRegression\n",
    "from sklearn.svm import SVC\n",
    "\n",
    "\n",
    "model = Pipeline([\n",
    "    (\"transformer\", column_transformer),\n",
    "    (\"logistic_regression\", SVC(kernel=\"linear\")),\n",
    "])"
   ]
  },
  {
   "cell_type": "code",
   "execution_count": 38,
   "id": "927d42da-1316-44fb-8b70-43d6311297c8",
   "metadata": {},
   "outputs": [],
   "source": [
    "from sklearn.model_selection import train_test_split\n",
    "\n",
    "X_train, X_test, y_train, y_test = train_test_split(X_initial, y, test_size=0.2)"
   ]
  },
  {
   "cell_type": "code",
   "execution_count": 39,
   "id": "c8e26b9f-028d-4e17-9a44-1a2b0618852b",
   "metadata": {},
   "outputs": [
    {
     "data": {
      "text/plain": [
       "Pipeline(steps=[('transformer',\n",
       "                 ColumnTransformer(remainder='passthrough',\n",
       "                                   transformers=[('onehotencoder',\n",
       "                                                  OneHotEncoder(handle_unknown='ignore'),\n",
       "                                                  ['CryoSleep', 'VIP',\n",
       "                                                   'Destination',\n",
       "                                                   'HomePlanet']),\n",
       "                                                 ('ordinalencoder',\n",
       "                                                  OrdinalEncoder(handle_unknown='use_encoded_value',\n",
       "                                                                 unknown_value=6000),\n",
       "                                                  ['Cabin'])])),\n",
       "                ('logistic_regression', SVC(kernel='linear'))])"
      ]
     },
     "execution_count": 39,
     "metadata": {},
     "output_type": "execute_result"
    }
   ],
   "source": [
    "model.fit(X_train, y_train)"
   ]
  },
  {
   "cell_type": "code",
   "execution_count": 40,
   "id": "2eb2e849-6ea9-4b5d-8fc9-d28211df48bc",
   "metadata": {
    "tags": []
   },
   "outputs": [
    {
     "data": {
      "text/plain": [
       "0.7231467473524962"
      ]
     },
     "execution_count": 40,
     "metadata": {},
     "output_type": "execute_result"
    }
   ],
   "source": [
    "model.score(X_test, y_test)"
   ]
  },
  {
   "cell_type": "code",
   "execution_count": null,
   "id": "9a2e79fe-f054-44fa-8ba1-f624872ccdef",
   "metadata": {},
   "outputs": [],
   "source": []
  },
  {
   "cell_type": "code",
   "execution_count": null,
   "id": "37e38057-5fb8-4223-9866-efe1cbcd56f7",
   "metadata": {},
   "outputs": [],
   "source": []
  },
  {
   "cell_type": "code",
   "execution_count": 41,
   "id": "b40024a4-8f34-4f1e-b837-140f3245f579",
   "metadata": {},
   "outputs": [],
   "source": [
    "from sklearn.metrics import precision_score, recall_score, accuracy_score\n",
    "from sklearn.model_selection import cross_val_score\n",
    "\n",
    "def some_metrics(model):\n",
    "    y_pred = model.predict(X_test)\n",
    "\n",
    "    print(\"precision_score\", precision_score(y_test, y_pred))\n",
    "    print(\"recall_score\", recall_score(y_test, y_pred))\n",
    "    print(\"accuracy_score\", accuracy_score(y_test, y_pred))\n",
    "    print(\"CrossVal\", cross_val_score(model, X_initial, y, cv=3))\n",
    "\n",
    "    print()\n",
    "\n",
    "    y_proba = model.predict_proba(X_test)\n",
    "\n",
    "\n",
    "    def return_y_pred(y_proba):\n",
    "        return np.array(y_proba[:, 1] > 0.70).astype(np.float16)\n",
    "\n",
    "    y_pred = return_y_pred(y_proba)\n",
    "\n",
    "    print(\"precision_score\", precision_score(y_test, y_pred))\n",
    "    print(\"recall_score\", recall_score(y_test, y_pred))\n",
    "    print(\"accuracy_score\", accuracy_score(y_test, y_pred))"
   ]
  },
  {
   "cell_type": "code",
   "execution_count": null,
   "id": "a0a3f9f7-41ec-4ae1-b42f-7efde55fa117",
   "metadata": {},
   "outputs": [],
   "source": []
  },
  {
   "cell_type": "code",
   "execution_count": null,
   "id": "6494e07a-02ac-4bc5-ab08-5935ec82ca03",
   "metadata": {},
   "outputs": [],
   "source": []
  },
  {
   "cell_type": "code",
   "execution_count": 42,
   "id": "08cb7dcd-5e96-4b90-8efd-1bdf55bad437",
   "metadata": {},
   "outputs": [],
   "source": [
    "from sklearn.model_selection import GridSearchCV\n",
    "\n",
    "grid_search = GridSearchCV(model, [{\"logistic_regression__C\":[0.1, 0.2, 0.4, 0.6, 0.8, 0.7, 1]}], cv=5)"
   ]
  },
  {
   "cell_type": "code",
   "execution_count": null,
   "id": "c0296dba-19fb-4d1b-bae8-753424b20a63",
   "metadata": {},
   "outputs": [],
   "source": [
    "grid_search.fit(X_initial, y)"
   ]
  },
  {
   "cell_type": "code",
   "execution_count": null,
   "id": "e3d241be-7c70-497b-8f92-4d1590995411",
   "metadata": {},
   "outputs": [],
   "source": [
    "grid_search.best_params_"
   ]
  },
  {
   "cell_type": "code",
   "execution_count": null,
   "id": "09ddbba3-14f3-4806-b408-fd508a7f4476",
   "metadata": {},
   "outputs": [],
   "source": []
  },
  {
   "cell_type": "code",
   "execution_count": null,
   "id": "148c44c9-a545-4e08-9d64-1ce1647f5bdd",
   "metadata": {},
   "outputs": [],
   "source": [
    "some_metrics(grid_search)"
   ]
  },
  {
   "cell_type": "code",
   "execution_count": null,
   "id": "dbd9f7ef-84e2-4806-b97b-3f1b79eb7b31",
   "metadata": {},
   "outputs": [],
   "source": []
  },
  {
   "cell_type": "code",
   "execution_count": null,
   "id": "f91e9a0b-5c4b-4e3c-84ba-10d180c1a48d",
   "metadata": {},
   "outputs": [],
   "source": [
    "?LogisticRegression"
   ]
  },
  {
   "cell_type": "code",
   "execution_count": null,
   "id": "8a312d85-3dcb-4c16-885e-5a08b4def162",
   "metadata": {},
   "outputs": [],
   "source": []
  },
  {
   "cell_type": "code",
   "execution_count": null,
   "id": "ba53d0ce-4990-4da1-96f5-c9470fb92bc4",
   "metadata": {},
   "outputs": [],
   "source": []
  }
 ],
 "metadata": {
  "kernelspec": {
   "display_name": "ML",
   "language": "python",
   "name": "ml"
  },
  "language_info": {
   "codemirror_mode": {
    "name": "ipython",
    "version": 3
   },
   "file_extension": ".py",
   "mimetype": "text/x-python",
   "name": "python",
   "nbconvert_exporter": "python",
   "pygments_lexer": "ipython3",
   "version": "3.8.8"
  }
 },
 "nbformat": 4,
 "nbformat_minor": 5
}
