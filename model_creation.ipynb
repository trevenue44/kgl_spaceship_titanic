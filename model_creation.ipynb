{
  "cells": [
    {
      "cell_type": "markdown",
      "id": "ee22fdcd-9645-477b-95da-445972f7d98b",
      "metadata": {
        "id": "ee22fdcd-9645-477b-95da-445972f7d98b"
      },
      "source": [
        "# Spaceship Titanic\n",
        "\n",
        "> **Goal**: Predict which passengers are transported to an alternate dimension"
      ]
    },
    {
      "cell_type": "code",
      "execution_count": 1,
      "id": "677bc6e2-ef65-485f-b65d-e392e9856d7e",
      "metadata": {
        "id": "677bc6e2-ef65-485f-b65d-e392e9856d7e"
      },
      "outputs": [],
      "source": [
        "import pandas as pd\n",
        "import numpy as np\n",
        "import matplotlib.pyplot as plt"
      ]
    },
    {
      "cell_type": "code",
      "execution_count": 2,
      "id": "7fab5e40-d3d4-4797-99c9-0b538f6720af",
      "metadata": {
        "id": "7fab5e40-d3d4-4797-99c9-0b538f6720af"
      },
      "outputs": [],
      "source": [
        "data = pd.read_csv(\"/content/clean_train.csv\")"
      ]
    },
    {
      "cell_type": "code",
      "execution_count": 3,
      "id": "a3e12c35-e7f0-4149-aefe-90c4629f46c9",
      "metadata": {
        "colab": {
          "base_uri": "https://localhost:8080/",
          "height": 300
        },
        "id": "a3e12c35-e7f0-4149-aefe-90c4629f46c9",
        "outputId": "bda2395c-aace-4669-d7b4-d9f78ef6b94c"
      },
      "outputs": [
        {
          "output_type": "execute_result",
          "data": {
            "text/plain": [
              "               Age  RoomService     FoodCourt  ShoppingMall           Spa  \\\n",
              "count  6606.000000  6606.000000   6606.000000   6606.000000   6606.000000   \n",
              "mean     28.894036   222.991674    478.958523    178.356494    313.161520   \n",
              "std      14.533429   644.987936   1678.592291    576.328407   1144.016291   \n",
              "min       0.000000     0.000000      0.000000      0.000000      0.000000   \n",
              "25%      19.000000     0.000000      0.000000      0.000000      0.000000   \n",
              "50%      27.000000     0.000000      0.000000      0.000000      0.000000   \n",
              "75%      38.000000    49.000000     82.750000     30.000000     65.000000   \n",
              "max      79.000000  9920.000000  29813.000000  12253.000000  22408.000000   \n",
              "\n",
              "             VRDeck  \n",
              "count   6606.000000  \n",
              "mean     303.780048  \n",
              "std     1127.142166  \n",
              "min        0.000000  \n",
              "25%        0.000000  \n",
              "50%        0.000000  \n",
              "75%       52.000000  \n",
              "max    20336.000000  "
            ],
            "text/html": [
              "\n",
              "  <div id=\"df-73e140b4-7bfb-4942-99e4-758fbe2e8e7a\">\n",
              "    <div class=\"colab-df-container\">\n",
              "      <div>\n",
              "<style scoped>\n",
              "    .dataframe tbody tr th:only-of-type {\n",
              "        vertical-align: middle;\n",
              "    }\n",
              "\n",
              "    .dataframe tbody tr th {\n",
              "        vertical-align: top;\n",
              "    }\n",
              "\n",
              "    .dataframe thead th {\n",
              "        text-align: right;\n",
              "    }\n",
              "</style>\n",
              "<table border=\"1\" class=\"dataframe\">\n",
              "  <thead>\n",
              "    <tr style=\"text-align: right;\">\n",
              "      <th></th>\n",
              "      <th>Age</th>\n",
              "      <th>RoomService</th>\n",
              "      <th>FoodCourt</th>\n",
              "      <th>ShoppingMall</th>\n",
              "      <th>Spa</th>\n",
              "      <th>VRDeck</th>\n",
              "    </tr>\n",
              "  </thead>\n",
              "  <tbody>\n",
              "    <tr>\n",
              "      <th>count</th>\n",
              "      <td>6606.000000</td>\n",
              "      <td>6606.000000</td>\n",
              "      <td>6606.000000</td>\n",
              "      <td>6606.000000</td>\n",
              "      <td>6606.000000</td>\n",
              "      <td>6606.000000</td>\n",
              "    </tr>\n",
              "    <tr>\n",
              "      <th>mean</th>\n",
              "      <td>28.894036</td>\n",
              "      <td>222.991674</td>\n",
              "      <td>478.958523</td>\n",
              "      <td>178.356494</td>\n",
              "      <td>313.161520</td>\n",
              "      <td>303.780048</td>\n",
              "    </tr>\n",
              "    <tr>\n",
              "      <th>std</th>\n",
              "      <td>14.533429</td>\n",
              "      <td>644.987936</td>\n",
              "      <td>1678.592291</td>\n",
              "      <td>576.328407</td>\n",
              "      <td>1144.016291</td>\n",
              "      <td>1127.142166</td>\n",
              "    </tr>\n",
              "    <tr>\n",
              "      <th>min</th>\n",
              "      <td>0.000000</td>\n",
              "      <td>0.000000</td>\n",
              "      <td>0.000000</td>\n",
              "      <td>0.000000</td>\n",
              "      <td>0.000000</td>\n",
              "      <td>0.000000</td>\n",
              "    </tr>\n",
              "    <tr>\n",
              "      <th>25%</th>\n",
              "      <td>19.000000</td>\n",
              "      <td>0.000000</td>\n",
              "      <td>0.000000</td>\n",
              "      <td>0.000000</td>\n",
              "      <td>0.000000</td>\n",
              "      <td>0.000000</td>\n",
              "    </tr>\n",
              "    <tr>\n",
              "      <th>50%</th>\n",
              "      <td>27.000000</td>\n",
              "      <td>0.000000</td>\n",
              "      <td>0.000000</td>\n",
              "      <td>0.000000</td>\n",
              "      <td>0.000000</td>\n",
              "      <td>0.000000</td>\n",
              "    </tr>\n",
              "    <tr>\n",
              "      <th>75%</th>\n",
              "      <td>38.000000</td>\n",
              "      <td>49.000000</td>\n",
              "      <td>82.750000</td>\n",
              "      <td>30.000000</td>\n",
              "      <td>65.000000</td>\n",
              "      <td>52.000000</td>\n",
              "    </tr>\n",
              "    <tr>\n",
              "      <th>max</th>\n",
              "      <td>79.000000</td>\n",
              "      <td>9920.000000</td>\n",
              "      <td>29813.000000</td>\n",
              "      <td>12253.000000</td>\n",
              "      <td>22408.000000</td>\n",
              "      <td>20336.000000</td>\n",
              "    </tr>\n",
              "  </tbody>\n",
              "</table>\n",
              "</div>\n",
              "      <button class=\"colab-df-convert\" onclick=\"convertToInteractive('df-73e140b4-7bfb-4942-99e4-758fbe2e8e7a')\"\n",
              "              title=\"Convert this dataframe to an interactive table.\"\n",
              "              style=\"display:none;\">\n",
              "        \n",
              "  <svg xmlns=\"http://www.w3.org/2000/svg\" height=\"24px\"viewBox=\"0 0 24 24\"\n",
              "       width=\"24px\">\n",
              "    <path d=\"M0 0h24v24H0V0z\" fill=\"none\"/>\n",
              "    <path d=\"M18.56 5.44l.94 2.06.94-2.06 2.06-.94-2.06-.94-.94-2.06-.94 2.06-2.06.94zm-11 1L8.5 8.5l.94-2.06 2.06-.94-2.06-.94L8.5 2.5l-.94 2.06-2.06.94zm10 10l.94 2.06.94-2.06 2.06-.94-2.06-.94-.94-2.06-.94 2.06-2.06.94z\"/><path d=\"M17.41 7.96l-1.37-1.37c-.4-.4-.92-.59-1.43-.59-.52 0-1.04.2-1.43.59L10.3 9.45l-7.72 7.72c-.78.78-.78 2.05 0 2.83L4 21.41c.39.39.9.59 1.41.59.51 0 1.02-.2 1.41-.59l7.78-7.78 2.81-2.81c.8-.78.8-2.07 0-2.86zM5.41 20L4 18.59l7.72-7.72 1.47 1.35L5.41 20z\"/>\n",
              "  </svg>\n",
              "      </button>\n",
              "      \n",
              "  <style>\n",
              "    .colab-df-container {\n",
              "      display:flex;\n",
              "      flex-wrap:wrap;\n",
              "      gap: 12px;\n",
              "    }\n",
              "\n",
              "    .colab-df-convert {\n",
              "      background-color: #E8F0FE;\n",
              "      border: none;\n",
              "      border-radius: 50%;\n",
              "      cursor: pointer;\n",
              "      display: none;\n",
              "      fill: #1967D2;\n",
              "      height: 32px;\n",
              "      padding: 0 0 0 0;\n",
              "      width: 32px;\n",
              "    }\n",
              "\n",
              "    .colab-df-convert:hover {\n",
              "      background-color: #E2EBFA;\n",
              "      box-shadow: 0px 1px 2px rgba(60, 64, 67, 0.3), 0px 1px 3px 1px rgba(60, 64, 67, 0.15);\n",
              "      fill: #174EA6;\n",
              "    }\n",
              "\n",
              "    [theme=dark] .colab-df-convert {\n",
              "      background-color: #3B4455;\n",
              "      fill: #D2E3FC;\n",
              "    }\n",
              "\n",
              "    [theme=dark] .colab-df-convert:hover {\n",
              "      background-color: #434B5C;\n",
              "      box-shadow: 0px 1px 3px 1px rgba(0, 0, 0, 0.15);\n",
              "      filter: drop-shadow(0px 1px 2px rgba(0, 0, 0, 0.3));\n",
              "      fill: #FFFFFF;\n",
              "    }\n",
              "  </style>\n",
              "\n",
              "      <script>\n",
              "        const buttonEl =\n",
              "          document.querySelector('#df-73e140b4-7bfb-4942-99e4-758fbe2e8e7a button.colab-df-convert');\n",
              "        buttonEl.style.display =\n",
              "          google.colab.kernel.accessAllowed ? 'block' : 'none';\n",
              "\n",
              "        async function convertToInteractive(key) {\n",
              "          const element = document.querySelector('#df-73e140b4-7bfb-4942-99e4-758fbe2e8e7a');\n",
              "          const dataTable =\n",
              "            await google.colab.kernel.invokeFunction('convertToInteractive',\n",
              "                                                     [key], {});\n",
              "          if (!dataTable) return;\n",
              "\n",
              "          const docLinkHtml = 'Like what you see? Visit the ' +\n",
              "            '<a target=\"_blank\" href=https://colab.research.google.com/notebooks/data_table.ipynb>data table notebook</a>'\n",
              "            + ' to learn more about interactive tables.';\n",
              "          element.innerHTML = '';\n",
              "          dataTable['output_type'] = 'display_data';\n",
              "          await google.colab.output.renderOutput(dataTable, element);\n",
              "          const docLink = document.createElement('div');\n",
              "          docLink.innerHTML = docLinkHtml;\n",
              "          element.appendChild(docLink);\n",
              "        }\n",
              "      </script>\n",
              "    </div>\n",
              "  </div>\n",
              "  "
            ]
          },
          "metadata": {},
          "execution_count": 3
        }
      ],
      "source": [
        "data.describe()"
      ]
    },
    {
      "cell_type": "code",
      "execution_count": 4,
      "id": "d8aa14b6-e97d-4df0-98ca-ed56feaec68a",
      "metadata": {
        "colab": {
          "base_uri": "https://localhost:8080/"
        },
        "id": "d8aa14b6-e97d-4df0-98ca-ed56feaec68a",
        "outputId": "4495a0d3-8a43-47ae-c8b3-3201189cf35a"
      },
      "outputs": [
        {
          "output_type": "execute_result",
          "data": {
            "text/plain": [
              "(6606, 14)"
            ]
          },
          "metadata": {},
          "execution_count": 4
        }
      ],
      "source": [
        "data.shape"
      ]
    },
    {
      "cell_type": "code",
      "execution_count": 5,
      "id": "8e146973-fd30-4857-8f3f-f7f9865f0635",
      "metadata": {
        "colab": {
          "base_uri": "https://localhost:8080/",
          "height": 206
        },
        "id": "8e146973-fd30-4857-8f3f-f7f9865f0635",
        "outputId": "497b41cb-9c23-419c-a73b-eed74aabfe8c"
      },
      "outputs": [
        {
          "output_type": "execute_result",
          "data": {
            "text/plain": [
              "  PassengerId HomePlanet  CryoSleep  Cabin  Destination   Age    VIP  \\\n",
              "0     0001_01     Europa      False  B/0/P  TRAPPIST-1e  39.0  False   \n",
              "1     0002_01      Earth      False  F/0/S  TRAPPIST-1e  24.0  False   \n",
              "2     0003_01     Europa      False  A/0/S  TRAPPIST-1e  58.0   True   \n",
              "3     0003_02     Europa      False  A/0/S  TRAPPIST-1e  33.0  False   \n",
              "4     0004_01      Earth      False  F/1/S  TRAPPIST-1e  16.0  False   \n",
              "\n",
              "   RoomService  FoodCourt  ShoppingMall     Spa  VRDeck               Name  \\\n",
              "0          0.0        0.0           0.0     0.0     0.0    Maham Ofracculy   \n",
              "1        109.0        9.0          25.0   549.0    44.0       Juanna Vines   \n",
              "2         43.0     3576.0           0.0  6715.0    49.0      Altark Susent   \n",
              "3          0.0     1283.0         371.0  3329.0   193.0       Solam Susent   \n",
              "4        303.0       70.0         151.0   565.0     2.0  Willy Santantines   \n",
              "\n",
              "   Transported  \n",
              "0        False  \n",
              "1         True  \n",
              "2        False  \n",
              "3        False  \n",
              "4         True  "
            ],
            "text/html": [
              "\n",
              "  <div id=\"df-67411b1a-d766-4a68-88d6-5ecc8caea8d3\">\n",
              "    <div class=\"colab-df-container\">\n",
              "      <div>\n",
              "<style scoped>\n",
              "    .dataframe tbody tr th:only-of-type {\n",
              "        vertical-align: middle;\n",
              "    }\n",
              "\n",
              "    .dataframe tbody tr th {\n",
              "        vertical-align: top;\n",
              "    }\n",
              "\n",
              "    .dataframe thead th {\n",
              "        text-align: right;\n",
              "    }\n",
              "</style>\n",
              "<table border=\"1\" class=\"dataframe\">\n",
              "  <thead>\n",
              "    <tr style=\"text-align: right;\">\n",
              "      <th></th>\n",
              "      <th>PassengerId</th>\n",
              "      <th>HomePlanet</th>\n",
              "      <th>CryoSleep</th>\n",
              "      <th>Cabin</th>\n",
              "      <th>Destination</th>\n",
              "      <th>Age</th>\n",
              "      <th>VIP</th>\n",
              "      <th>RoomService</th>\n",
              "      <th>FoodCourt</th>\n",
              "      <th>ShoppingMall</th>\n",
              "      <th>Spa</th>\n",
              "      <th>VRDeck</th>\n",
              "      <th>Name</th>\n",
              "      <th>Transported</th>\n",
              "    </tr>\n",
              "  </thead>\n",
              "  <tbody>\n",
              "    <tr>\n",
              "      <th>0</th>\n",
              "      <td>0001_01</td>\n",
              "      <td>Europa</td>\n",
              "      <td>False</td>\n",
              "      <td>B/0/P</td>\n",
              "      <td>TRAPPIST-1e</td>\n",
              "      <td>39.0</td>\n",
              "      <td>False</td>\n",
              "      <td>0.0</td>\n",
              "      <td>0.0</td>\n",
              "      <td>0.0</td>\n",
              "      <td>0.0</td>\n",
              "      <td>0.0</td>\n",
              "      <td>Maham Ofracculy</td>\n",
              "      <td>False</td>\n",
              "    </tr>\n",
              "    <tr>\n",
              "      <th>1</th>\n",
              "      <td>0002_01</td>\n",
              "      <td>Earth</td>\n",
              "      <td>False</td>\n",
              "      <td>F/0/S</td>\n",
              "      <td>TRAPPIST-1e</td>\n",
              "      <td>24.0</td>\n",
              "      <td>False</td>\n",
              "      <td>109.0</td>\n",
              "      <td>9.0</td>\n",
              "      <td>25.0</td>\n",
              "      <td>549.0</td>\n",
              "      <td>44.0</td>\n",
              "      <td>Juanna Vines</td>\n",
              "      <td>True</td>\n",
              "    </tr>\n",
              "    <tr>\n",
              "      <th>2</th>\n",
              "      <td>0003_01</td>\n",
              "      <td>Europa</td>\n",
              "      <td>False</td>\n",
              "      <td>A/0/S</td>\n",
              "      <td>TRAPPIST-1e</td>\n",
              "      <td>58.0</td>\n",
              "      <td>True</td>\n",
              "      <td>43.0</td>\n",
              "      <td>3576.0</td>\n",
              "      <td>0.0</td>\n",
              "      <td>6715.0</td>\n",
              "      <td>49.0</td>\n",
              "      <td>Altark Susent</td>\n",
              "      <td>False</td>\n",
              "    </tr>\n",
              "    <tr>\n",
              "      <th>3</th>\n",
              "      <td>0003_02</td>\n",
              "      <td>Europa</td>\n",
              "      <td>False</td>\n",
              "      <td>A/0/S</td>\n",
              "      <td>TRAPPIST-1e</td>\n",
              "      <td>33.0</td>\n",
              "      <td>False</td>\n",
              "      <td>0.0</td>\n",
              "      <td>1283.0</td>\n",
              "      <td>371.0</td>\n",
              "      <td>3329.0</td>\n",
              "      <td>193.0</td>\n",
              "      <td>Solam Susent</td>\n",
              "      <td>False</td>\n",
              "    </tr>\n",
              "    <tr>\n",
              "      <th>4</th>\n",
              "      <td>0004_01</td>\n",
              "      <td>Earth</td>\n",
              "      <td>False</td>\n",
              "      <td>F/1/S</td>\n",
              "      <td>TRAPPIST-1e</td>\n",
              "      <td>16.0</td>\n",
              "      <td>False</td>\n",
              "      <td>303.0</td>\n",
              "      <td>70.0</td>\n",
              "      <td>151.0</td>\n",
              "      <td>565.0</td>\n",
              "      <td>2.0</td>\n",
              "      <td>Willy Santantines</td>\n",
              "      <td>True</td>\n",
              "    </tr>\n",
              "  </tbody>\n",
              "</table>\n",
              "</div>\n",
              "      <button class=\"colab-df-convert\" onclick=\"convertToInteractive('df-67411b1a-d766-4a68-88d6-5ecc8caea8d3')\"\n",
              "              title=\"Convert this dataframe to an interactive table.\"\n",
              "              style=\"display:none;\">\n",
              "        \n",
              "  <svg xmlns=\"http://www.w3.org/2000/svg\" height=\"24px\"viewBox=\"0 0 24 24\"\n",
              "       width=\"24px\">\n",
              "    <path d=\"M0 0h24v24H0V0z\" fill=\"none\"/>\n",
              "    <path d=\"M18.56 5.44l.94 2.06.94-2.06 2.06-.94-2.06-.94-.94-2.06-.94 2.06-2.06.94zm-11 1L8.5 8.5l.94-2.06 2.06-.94-2.06-.94L8.5 2.5l-.94 2.06-2.06.94zm10 10l.94 2.06.94-2.06 2.06-.94-2.06-.94-.94-2.06-.94 2.06-2.06.94z\"/><path d=\"M17.41 7.96l-1.37-1.37c-.4-.4-.92-.59-1.43-.59-.52 0-1.04.2-1.43.59L10.3 9.45l-7.72 7.72c-.78.78-.78 2.05 0 2.83L4 21.41c.39.39.9.59 1.41.59.51 0 1.02-.2 1.41-.59l7.78-7.78 2.81-2.81c.8-.78.8-2.07 0-2.86zM5.41 20L4 18.59l7.72-7.72 1.47 1.35L5.41 20z\"/>\n",
              "  </svg>\n",
              "      </button>\n",
              "      \n",
              "  <style>\n",
              "    .colab-df-container {\n",
              "      display:flex;\n",
              "      flex-wrap:wrap;\n",
              "      gap: 12px;\n",
              "    }\n",
              "\n",
              "    .colab-df-convert {\n",
              "      background-color: #E8F0FE;\n",
              "      border: none;\n",
              "      border-radius: 50%;\n",
              "      cursor: pointer;\n",
              "      display: none;\n",
              "      fill: #1967D2;\n",
              "      height: 32px;\n",
              "      padding: 0 0 0 0;\n",
              "      width: 32px;\n",
              "    }\n",
              "\n",
              "    .colab-df-convert:hover {\n",
              "      background-color: #E2EBFA;\n",
              "      box-shadow: 0px 1px 2px rgba(60, 64, 67, 0.3), 0px 1px 3px 1px rgba(60, 64, 67, 0.15);\n",
              "      fill: #174EA6;\n",
              "    }\n",
              "\n",
              "    [theme=dark] .colab-df-convert {\n",
              "      background-color: #3B4455;\n",
              "      fill: #D2E3FC;\n",
              "    }\n",
              "\n",
              "    [theme=dark] .colab-df-convert:hover {\n",
              "      background-color: #434B5C;\n",
              "      box-shadow: 0px 1px 3px 1px rgba(0, 0, 0, 0.15);\n",
              "      filter: drop-shadow(0px 1px 2px rgba(0, 0, 0, 0.3));\n",
              "      fill: #FFFFFF;\n",
              "    }\n",
              "  </style>\n",
              "\n",
              "      <script>\n",
              "        const buttonEl =\n",
              "          document.querySelector('#df-67411b1a-d766-4a68-88d6-5ecc8caea8d3 button.colab-df-convert');\n",
              "        buttonEl.style.display =\n",
              "          google.colab.kernel.accessAllowed ? 'block' : 'none';\n",
              "\n",
              "        async function convertToInteractive(key) {\n",
              "          const element = document.querySelector('#df-67411b1a-d766-4a68-88d6-5ecc8caea8d3');\n",
              "          const dataTable =\n",
              "            await google.colab.kernel.invokeFunction('convertToInteractive',\n",
              "                                                     [key], {});\n",
              "          if (!dataTable) return;\n",
              "\n",
              "          const docLinkHtml = 'Like what you see? Visit the ' +\n",
              "            '<a target=\"_blank\" href=https://colab.research.google.com/notebooks/data_table.ipynb>data table notebook</a>'\n",
              "            + ' to learn more about interactive tables.';\n",
              "          element.innerHTML = '';\n",
              "          dataTable['output_type'] = 'display_data';\n",
              "          await google.colab.output.renderOutput(dataTable, element);\n",
              "          const docLink = document.createElement('div');\n",
              "          docLink.innerHTML = docLinkHtml;\n",
              "          element.appendChild(docLink);\n",
              "        }\n",
              "      </script>\n",
              "    </div>\n",
              "  </div>\n",
              "  "
            ]
          },
          "metadata": {},
          "execution_count": 5
        }
      ],
      "source": [
        "data.head()"
      ]
    },
    {
      "cell_type": "code",
      "execution_count": 6,
      "id": "c3859a7e-2105-4daf-afb2-e01288cab7dd",
      "metadata": {
        "id": "c3859a7e-2105-4daf-afb2-e01288cab7dd"
      },
      "outputs": [],
      "source": [
        "def get_group(id):\n",
        "    return int(id[:4])\n",
        "\n",
        "def get_individual_no(id):\n",
        "    return int(id[5:])\n",
        "\n",
        "data[\"PassengerGroup\"] = data[\"PassengerId\"].apply(get_group)\n",
        "data[\"IndividualNo\"] = data[\"PassengerId\"].apply(get_individual_no)"
      ]
    },
    {
      "cell_type": "code",
      "execution_count": 7,
      "id": "2730339a-5608-4bf3-94ea-23bc6ba74cb6",
      "metadata": {
        "colab": {
          "base_uri": "https://localhost:8080/",
          "height": 206
        },
        "id": "2730339a-5608-4bf3-94ea-23bc6ba74cb6",
        "outputId": "8b939e39-771c-47f7-eccb-0cc5b149dc11"
      },
      "outputs": [
        {
          "output_type": "execute_result",
          "data": {
            "text/plain": [
              "  PassengerId HomePlanet  CryoSleep  Cabin  Destination   Age    VIP  \\\n",
              "0     0001_01     Europa      False  B/0/P  TRAPPIST-1e  39.0  False   \n",
              "1     0002_01      Earth      False  F/0/S  TRAPPIST-1e  24.0  False   \n",
              "2     0003_01     Europa      False  A/0/S  TRAPPIST-1e  58.0   True   \n",
              "3     0003_02     Europa      False  A/0/S  TRAPPIST-1e  33.0  False   \n",
              "4     0004_01      Earth      False  F/1/S  TRAPPIST-1e  16.0  False   \n",
              "\n",
              "   RoomService  FoodCourt  ShoppingMall     Spa  VRDeck               Name  \\\n",
              "0          0.0        0.0           0.0     0.0     0.0    Maham Ofracculy   \n",
              "1        109.0        9.0          25.0   549.0    44.0       Juanna Vines   \n",
              "2         43.0     3576.0           0.0  6715.0    49.0      Altark Susent   \n",
              "3          0.0     1283.0         371.0  3329.0   193.0       Solam Susent   \n",
              "4        303.0       70.0         151.0   565.0     2.0  Willy Santantines   \n",
              "\n",
              "   Transported  PassengerGroup  IndividualNo  \n",
              "0        False               1             1  \n",
              "1         True               2             1  \n",
              "2        False               3             1  \n",
              "3        False               3             2  \n",
              "4         True               4             1  "
            ],
            "text/html": [
              "\n",
              "  <div id=\"df-c022fae8-715b-4f1c-b2de-07e22faeeed4\">\n",
              "    <div class=\"colab-df-container\">\n",
              "      <div>\n",
              "<style scoped>\n",
              "    .dataframe tbody tr th:only-of-type {\n",
              "        vertical-align: middle;\n",
              "    }\n",
              "\n",
              "    .dataframe tbody tr th {\n",
              "        vertical-align: top;\n",
              "    }\n",
              "\n",
              "    .dataframe thead th {\n",
              "        text-align: right;\n",
              "    }\n",
              "</style>\n",
              "<table border=\"1\" class=\"dataframe\">\n",
              "  <thead>\n",
              "    <tr style=\"text-align: right;\">\n",
              "      <th></th>\n",
              "      <th>PassengerId</th>\n",
              "      <th>HomePlanet</th>\n",
              "      <th>CryoSleep</th>\n",
              "      <th>Cabin</th>\n",
              "      <th>Destination</th>\n",
              "      <th>Age</th>\n",
              "      <th>VIP</th>\n",
              "      <th>RoomService</th>\n",
              "      <th>FoodCourt</th>\n",
              "      <th>ShoppingMall</th>\n",
              "      <th>Spa</th>\n",
              "      <th>VRDeck</th>\n",
              "      <th>Name</th>\n",
              "      <th>Transported</th>\n",
              "      <th>PassengerGroup</th>\n",
              "      <th>IndividualNo</th>\n",
              "    </tr>\n",
              "  </thead>\n",
              "  <tbody>\n",
              "    <tr>\n",
              "      <th>0</th>\n",
              "      <td>0001_01</td>\n",
              "      <td>Europa</td>\n",
              "      <td>False</td>\n",
              "      <td>B/0/P</td>\n",
              "      <td>TRAPPIST-1e</td>\n",
              "      <td>39.0</td>\n",
              "      <td>False</td>\n",
              "      <td>0.0</td>\n",
              "      <td>0.0</td>\n",
              "      <td>0.0</td>\n",
              "      <td>0.0</td>\n",
              "      <td>0.0</td>\n",
              "      <td>Maham Ofracculy</td>\n",
              "      <td>False</td>\n",
              "      <td>1</td>\n",
              "      <td>1</td>\n",
              "    </tr>\n",
              "    <tr>\n",
              "      <th>1</th>\n",
              "      <td>0002_01</td>\n",
              "      <td>Earth</td>\n",
              "      <td>False</td>\n",
              "      <td>F/0/S</td>\n",
              "      <td>TRAPPIST-1e</td>\n",
              "      <td>24.0</td>\n",
              "      <td>False</td>\n",
              "      <td>109.0</td>\n",
              "      <td>9.0</td>\n",
              "      <td>25.0</td>\n",
              "      <td>549.0</td>\n",
              "      <td>44.0</td>\n",
              "      <td>Juanna Vines</td>\n",
              "      <td>True</td>\n",
              "      <td>2</td>\n",
              "      <td>1</td>\n",
              "    </tr>\n",
              "    <tr>\n",
              "      <th>2</th>\n",
              "      <td>0003_01</td>\n",
              "      <td>Europa</td>\n",
              "      <td>False</td>\n",
              "      <td>A/0/S</td>\n",
              "      <td>TRAPPIST-1e</td>\n",
              "      <td>58.0</td>\n",
              "      <td>True</td>\n",
              "      <td>43.0</td>\n",
              "      <td>3576.0</td>\n",
              "      <td>0.0</td>\n",
              "      <td>6715.0</td>\n",
              "      <td>49.0</td>\n",
              "      <td>Altark Susent</td>\n",
              "      <td>False</td>\n",
              "      <td>3</td>\n",
              "      <td>1</td>\n",
              "    </tr>\n",
              "    <tr>\n",
              "      <th>3</th>\n",
              "      <td>0003_02</td>\n",
              "      <td>Europa</td>\n",
              "      <td>False</td>\n",
              "      <td>A/0/S</td>\n",
              "      <td>TRAPPIST-1e</td>\n",
              "      <td>33.0</td>\n",
              "      <td>False</td>\n",
              "      <td>0.0</td>\n",
              "      <td>1283.0</td>\n",
              "      <td>371.0</td>\n",
              "      <td>3329.0</td>\n",
              "      <td>193.0</td>\n",
              "      <td>Solam Susent</td>\n",
              "      <td>False</td>\n",
              "      <td>3</td>\n",
              "      <td>2</td>\n",
              "    </tr>\n",
              "    <tr>\n",
              "      <th>4</th>\n",
              "      <td>0004_01</td>\n",
              "      <td>Earth</td>\n",
              "      <td>False</td>\n",
              "      <td>F/1/S</td>\n",
              "      <td>TRAPPIST-1e</td>\n",
              "      <td>16.0</td>\n",
              "      <td>False</td>\n",
              "      <td>303.0</td>\n",
              "      <td>70.0</td>\n",
              "      <td>151.0</td>\n",
              "      <td>565.0</td>\n",
              "      <td>2.0</td>\n",
              "      <td>Willy Santantines</td>\n",
              "      <td>True</td>\n",
              "      <td>4</td>\n",
              "      <td>1</td>\n",
              "    </tr>\n",
              "  </tbody>\n",
              "</table>\n",
              "</div>\n",
              "      <button class=\"colab-df-convert\" onclick=\"convertToInteractive('df-c022fae8-715b-4f1c-b2de-07e22faeeed4')\"\n",
              "              title=\"Convert this dataframe to an interactive table.\"\n",
              "              style=\"display:none;\">\n",
              "        \n",
              "  <svg xmlns=\"http://www.w3.org/2000/svg\" height=\"24px\"viewBox=\"0 0 24 24\"\n",
              "       width=\"24px\">\n",
              "    <path d=\"M0 0h24v24H0V0z\" fill=\"none\"/>\n",
              "    <path d=\"M18.56 5.44l.94 2.06.94-2.06 2.06-.94-2.06-.94-.94-2.06-.94 2.06-2.06.94zm-11 1L8.5 8.5l.94-2.06 2.06-.94-2.06-.94L8.5 2.5l-.94 2.06-2.06.94zm10 10l.94 2.06.94-2.06 2.06-.94-2.06-.94-.94-2.06-.94 2.06-2.06.94z\"/><path d=\"M17.41 7.96l-1.37-1.37c-.4-.4-.92-.59-1.43-.59-.52 0-1.04.2-1.43.59L10.3 9.45l-7.72 7.72c-.78.78-.78 2.05 0 2.83L4 21.41c.39.39.9.59 1.41.59.51 0 1.02-.2 1.41-.59l7.78-7.78 2.81-2.81c.8-.78.8-2.07 0-2.86zM5.41 20L4 18.59l7.72-7.72 1.47 1.35L5.41 20z\"/>\n",
              "  </svg>\n",
              "      </button>\n",
              "      \n",
              "  <style>\n",
              "    .colab-df-container {\n",
              "      display:flex;\n",
              "      flex-wrap:wrap;\n",
              "      gap: 12px;\n",
              "    }\n",
              "\n",
              "    .colab-df-convert {\n",
              "      background-color: #E8F0FE;\n",
              "      border: none;\n",
              "      border-radius: 50%;\n",
              "      cursor: pointer;\n",
              "      display: none;\n",
              "      fill: #1967D2;\n",
              "      height: 32px;\n",
              "      padding: 0 0 0 0;\n",
              "      width: 32px;\n",
              "    }\n",
              "\n",
              "    .colab-df-convert:hover {\n",
              "      background-color: #E2EBFA;\n",
              "      box-shadow: 0px 1px 2px rgba(60, 64, 67, 0.3), 0px 1px 3px 1px rgba(60, 64, 67, 0.15);\n",
              "      fill: #174EA6;\n",
              "    }\n",
              "\n",
              "    [theme=dark] .colab-df-convert {\n",
              "      background-color: #3B4455;\n",
              "      fill: #D2E3FC;\n",
              "    }\n",
              "\n",
              "    [theme=dark] .colab-df-convert:hover {\n",
              "      background-color: #434B5C;\n",
              "      box-shadow: 0px 1px 3px 1px rgba(0, 0, 0, 0.15);\n",
              "      filter: drop-shadow(0px 1px 2px rgba(0, 0, 0, 0.3));\n",
              "      fill: #FFFFFF;\n",
              "    }\n",
              "  </style>\n",
              "\n",
              "      <script>\n",
              "        const buttonEl =\n",
              "          document.querySelector('#df-c022fae8-715b-4f1c-b2de-07e22faeeed4 button.colab-df-convert');\n",
              "        buttonEl.style.display =\n",
              "          google.colab.kernel.accessAllowed ? 'block' : 'none';\n",
              "\n",
              "        async function convertToInteractive(key) {\n",
              "          const element = document.querySelector('#df-c022fae8-715b-4f1c-b2de-07e22faeeed4');\n",
              "          const dataTable =\n",
              "            await google.colab.kernel.invokeFunction('convertToInteractive',\n",
              "                                                     [key], {});\n",
              "          if (!dataTable) return;\n",
              "\n",
              "          const docLinkHtml = 'Like what you see? Visit the ' +\n",
              "            '<a target=\"_blank\" href=https://colab.research.google.com/notebooks/data_table.ipynb>data table notebook</a>'\n",
              "            + ' to learn more about interactive tables.';\n",
              "          element.innerHTML = '';\n",
              "          dataTable['output_type'] = 'display_data';\n",
              "          await google.colab.output.renderOutput(dataTable, element);\n",
              "          const docLink = document.createElement('div');\n",
              "          docLink.innerHTML = docLinkHtml;\n",
              "          element.appendChild(docLink);\n",
              "        }\n",
              "      </script>\n",
              "    </div>\n",
              "  </div>\n",
              "  "
            ]
          },
          "metadata": {},
          "execution_count": 7
        }
      ],
      "source": [
        "data.head()"
      ]
    },
    {
      "cell_type": "code",
      "execution_count": 8,
      "id": "f8471b0b-0827-40e8-9af7-fbddf85d6a55",
      "metadata": {
        "colab": {
          "base_uri": "https://localhost:8080/"
        },
        "id": "f8471b0b-0827-40e8-9af7-fbddf85d6a55",
        "outputId": "a1537d34-ee7b-475f-9156-1c61dbb6d312"
      },
      "outputs": [
        {
          "output_type": "execute_result",
          "data": {
            "text/plain": [
              "TRAPPIST-1e      4576\n",
              "55 Cancri e      1407\n",
              "PSO J318.5-22     623\n",
              "Name: Destination, dtype: int64"
            ]
          },
          "metadata": {},
          "execution_count": 8
        }
      ],
      "source": [
        "data[\"Destination\"].value_counts()"
      ]
    },
    {
      "cell_type": "code",
      "execution_count": 9,
      "id": "6eebca02-5416-4e41-bf40-bf167911793c",
      "metadata": {
        "colab": {
          "base_uri": "https://localhost:8080/",
          "height": 394
        },
        "id": "6eebca02-5416-4e41-bf40-bf167911793c",
        "outputId": "2506dda2-d96f-487b-e2e3-f57ea9e9c50c"
      },
      "outputs": [
        {
          "output_type": "execute_result",
          "data": {
            "text/plain": [
              "<pandas.io.formats.style.Styler at 0x7fbe19c6dc50>"
            ],
            "text/html": [
              "<style type=\"text/css\">\n",
              "#T_15fc6_row0_col0, #T_15fc6_row1_col1, #T_15fc6_row2_col2, #T_15fc6_row3_col3, #T_15fc6_row4_col4, #T_15fc6_row5_col5, #T_15fc6_row6_col6, #T_15fc6_row7_col7, #T_15fc6_row8_col8, #T_15fc6_row9_col9, #T_15fc6_row10_col10 {\n",
              "  background-color: #08306b;\n",
              "  color: #f1f1f1;\n",
              "}\n",
              "#T_15fc6_row0_col1, #T_15fc6_row8_col2 {\n",
              "  background-color: #f0f6fd;\n",
              "  color: #000000;\n",
              "}\n",
              "#T_15fc6_row0_col2, #T_15fc6_row0_col3, #T_15fc6_row0_col4, #T_15fc6_row0_col5, #T_15fc6_row0_col6, #T_15fc6_row0_col7, #T_15fc6_row0_col9, #T_15fc6_row1_col10, #T_15fc6_row6_col0, #T_15fc6_row6_col8, #T_15fc6_row6_col9, #T_15fc6_row7_col9, #T_15fc6_row10_col1 {\n",
              "  background-color: #f7fbff;\n",
              "  color: #000000;\n",
              "}\n",
              "#T_15fc6_row0_col8 {\n",
              "  background-color: #4896c8;\n",
              "  color: #f1f1f1;\n",
              "}\n",
              "#T_15fc6_row0_col10 {\n",
              "  background-color: #d3e3f3;\n",
              "  color: #000000;\n",
              "}\n",
              "#T_15fc6_row1_col0, #T_15fc6_row4_col1, #T_15fc6_row6_col1 {\n",
              "  background-color: #b7d4ea;\n",
              "  color: #000000;\n",
              "}\n",
              "#T_15fc6_row1_col2 {\n",
              "  background-color: #d4e4f4;\n",
              "  color: #000000;\n",
              "}\n",
              "#T_15fc6_row1_col3 {\n",
              "  background-color: #87bddc;\n",
              "  color: #000000;\n",
              "}\n",
              "#T_15fc6_row1_col4 {\n",
              "  background-color: #72b2d8;\n",
              "  color: #f1f1f1;\n",
              "}\n",
              "#T_15fc6_row1_col5, #T_15fc6_row2_col6, #T_15fc6_row2_col7 {\n",
              "  background-color: #8dc1dd;\n",
              "  color: #000000;\n",
              "}\n",
              "#T_15fc6_row1_col6 {\n",
              "  background-color: #6fb0d7;\n",
              "  color: #f1f1f1;\n",
              "}\n",
              "#T_15fc6_row1_col7, #T_15fc6_row5_col4 {\n",
              "  background-color: #79b5d9;\n",
              "  color: #000000;\n",
              "}\n",
              "#T_15fc6_row1_col8, #T_15fc6_row2_col1 {\n",
              "  background-color: #cde0f1;\n",
              "  color: #000000;\n",
              "}\n",
              "#T_15fc6_row1_col9, #T_15fc6_row3_col8, #T_15fc6_row3_col9, #T_15fc6_row10_col9 {\n",
              "  background-color: #f6faff;\n",
              "  color: #000000;\n",
              "}\n",
              "#T_15fc6_row2_col0 {\n",
              "  background-color: #b5d4e9;\n",
              "  color: #000000;\n",
              "}\n",
              "#T_15fc6_row2_col3 {\n",
              "  background-color: #9fcae1;\n",
              "  color: #000000;\n",
              "}\n",
              "#T_15fc6_row2_col4 {\n",
              "  background-color: #89bedc;\n",
              "  color: #000000;\n",
              "}\n",
              "#T_15fc6_row2_col5 {\n",
              "  background-color: #a1cbe2;\n",
              "  color: #000000;\n",
              "}\n",
              "#T_15fc6_row2_col8 {\n",
              "  background-color: #c8dcf0;\n",
              "  color: #000000;\n",
              "}\n",
              "#T_15fc6_row2_col9, #T_15fc6_row3_col0, #T_15fc6_row3_col10, #T_15fc6_row5_col0 {\n",
              "  background-color: #f3f8fe;\n",
              "  color: #000000;\n",
              "}\n",
              "#T_15fc6_row2_col10, #T_15fc6_row9_col1, #T_15fc6_row9_col10 {\n",
              "  background-color: #e0ecf8;\n",
              "  color: #000000;\n",
              "}\n",
              "#T_15fc6_row3_col1, #T_15fc6_row8_col4 {\n",
              "  background-color: #caddf0;\n",
              "  color: #000000;\n",
              "}\n",
              "#T_15fc6_row3_col2, #T_15fc6_row8_col6 {\n",
              "  background-color: #dfecf7;\n",
              "  color: #000000;\n",
              "}\n",
              "#T_15fc6_row3_col4, #T_15fc6_row3_col7, #T_15fc6_row4_col5 {\n",
              "  background-color: #7ab6d9;\n",
              "  color: #000000;\n",
              "}\n",
              "#T_15fc6_row3_col5, #T_15fc6_row5_col3, #T_15fc6_row7_col6 {\n",
              "  background-color: #3f8fc5;\n",
              "  color: #f1f1f1;\n",
              "}\n",
              "#T_15fc6_row3_col6, #T_15fc6_row5_col6 {\n",
              "  background-color: #64a9d3;\n",
              "  color: #f1f1f1;\n",
              "}\n",
              "#T_15fc6_row4_col0, #T_15fc6_row4_col9, #T_15fc6_row5_col9, #T_15fc6_row7_col0 {\n",
              "  background-color: #f5f9fe;\n",
              "  color: #000000;\n",
              "}\n",
              "#T_15fc6_row4_col2 {\n",
              "  background-color: #d2e3f3;\n",
              "  color: #000000;\n",
              "}\n",
              "#T_15fc6_row4_col3, #T_15fc6_row7_col3 {\n",
              "  background-color: #7cb7da;\n",
              "  color: #000000;\n",
              "}\n",
              "#T_15fc6_row4_col6 {\n",
              "  background-color: #3787c0;\n",
              "  color: #f1f1f1;\n",
              "}\n",
              "#T_15fc6_row4_col7, #T_15fc6_row7_col4 {\n",
              "  background-color: #3383be;\n",
              "  color: #f1f1f1;\n",
              "}\n",
              "#T_15fc6_row4_col8 {\n",
              "  background-color: #dbe9f6;\n",
              "  color: #000000;\n",
              "}\n",
              "#T_15fc6_row4_col10 {\n",
              "  background-color: #e7f1fa;\n",
              "  color: #000000;\n",
              "}\n",
              "#T_15fc6_row5_col1 {\n",
              "  background-color: #cddff1;\n",
              "  color: #000000;\n",
              "}\n",
              "#T_15fc6_row5_col2, #T_15fc6_row5_col8 {\n",
              "  background-color: #e2edf8;\n",
              "  color: #000000;\n",
              "}\n",
              "#T_15fc6_row5_col7 {\n",
              "  background-color: #74b3d8;\n",
              "  color: #000000;\n",
              "}\n",
              "#T_15fc6_row5_col10, #T_15fc6_row7_col8 {\n",
              "  background-color: #f4f9fe;\n",
              "  color: #000000;\n",
              "}\n",
              "#T_15fc6_row6_col2 {\n",
              "  background-color: #d7e6f5;\n",
              "  color: #000000;\n",
              "}\n",
              "#T_15fc6_row6_col3, #T_15fc6_row6_col5 {\n",
              "  background-color: #68acd5;\n",
              "  color: #f1f1f1;\n",
              "}\n",
              "#T_15fc6_row6_col4 {\n",
              "  background-color: #3888c1;\n",
              "  color: #f1f1f1;\n",
              "}\n",
              "#T_15fc6_row6_col7 {\n",
              "  background-color: #4090c5;\n",
              "  color: #f1f1f1;\n",
              "}\n",
              "#T_15fc6_row6_col10 {\n",
              "  background-color: #eaf3fb;\n",
              "  color: #000000;\n",
              "}\n",
              "#T_15fc6_row7_col1 {\n",
              "  background-color: #bdd7ec;\n",
              "  color: #000000;\n",
              "}\n",
              "#T_15fc6_row7_col2 {\n",
              "  background-color: #d5e5f4;\n",
              "  color: #000000;\n",
              "}\n",
              "#T_15fc6_row7_col5 {\n",
              "  background-color: #77b5d9;\n",
              "  color: #000000;\n",
              "}\n",
              "#T_15fc6_row7_col10 {\n",
              "  background-color: #ebf3fb;\n",
              "  color: #000000;\n",
              "}\n",
              "#T_15fc6_row8_col0 {\n",
              "  background-color: #3a8ac2;\n",
              "  color: #f1f1f1;\n",
              "}\n",
              "#T_15fc6_row8_col1 {\n",
              "  background-color: #eef5fc;\n",
              "  color: #000000;\n",
              "}\n",
              "#T_15fc6_row8_col3 {\n",
              "  background-color: #e3eef8;\n",
              "  color: #000000;\n",
              "}\n",
              "#T_15fc6_row8_col5 {\n",
              "  background-color: #d1e2f3;\n",
              "  color: #000000;\n",
              "}\n",
              "#T_15fc6_row8_col7 {\n",
              "  background-color: #dfebf7;\n",
              "  color: #000000;\n",
              "}\n",
              "#T_15fc6_row8_col9 {\n",
              "  background-color: #f2f7fd;\n",
              "  color: #000000;\n",
              "}\n",
              "#T_15fc6_row8_col10 {\n",
              "  background-color: #d0e2f2;\n",
              "  color: #000000;\n",
              "}\n",
              "#T_15fc6_row9_col0, #T_15fc6_row9_col4 {\n",
              "  background-color: #a5cde3;\n",
              "  color: #000000;\n",
              "}\n",
              "#T_15fc6_row9_col2 {\n",
              "  background-color: #e5eff9;\n",
              "  color: #000000;\n",
              "}\n",
              "#T_15fc6_row9_col3 {\n",
              "  background-color: #a9cfe5;\n",
              "  color: #000000;\n",
              "}\n",
              "#T_15fc6_row9_col5 {\n",
              "  background-color: #a6cee4;\n",
              "  color: #000000;\n",
              "}\n",
              "#T_15fc6_row9_col6 {\n",
              "  background-color: #a4cce3;\n",
              "  color: #000000;\n",
              "}\n",
              "#T_15fc6_row9_col7 {\n",
              "  background-color: #a8cee4;\n",
              "  color: #000000;\n",
              "}\n",
              "#T_15fc6_row9_col8 {\n",
              "  background-color: #bad6eb;\n",
              "  color: #000000;\n",
              "}\n",
              "#T_15fc6_row10_col0 {\n",
              "  background-color: #91c3de;\n",
              "  color: #000000;\n",
              "}\n",
              "#T_15fc6_row10_col2 {\n",
              "  background-color: #e8f1fa;\n",
              "  color: #000000;\n",
              "}\n",
              "#T_15fc6_row10_col3 {\n",
              "  background-color: #bfd8ed;\n",
              "  color: #000000;\n",
              "}\n",
              "#T_15fc6_row10_col4 {\n",
              "  background-color: #afd1e7;\n",
              "  color: #000000;\n",
              "}\n",
              "#T_15fc6_row10_col5 {\n",
              "  background-color: #c1d9ed;\n",
              "  color: #000000;\n",
              "}\n",
              "#T_15fc6_row10_col6 {\n",
              "  background-color: #b0d2e7;\n",
              "  color: #000000;\n",
              "}\n",
              "#T_15fc6_row10_col7 {\n",
              "  background-color: #b3d3e8;\n",
              "  color: #000000;\n",
              "}\n",
              "#T_15fc6_row10_col8 {\n",
              "  background-color: #aacfe5;\n",
              "  color: #000000;\n",
              "}\n",
              "</style>\n",
              "<table id=\"T_15fc6_\" class=\"dataframe\">\n",
              "  <thead>\n",
              "    <tr>\n",
              "      <th class=\"blank level0\" >&nbsp;</th>\n",
              "      <th class=\"col_heading level0 col0\" >CryoSleep</th>\n",
              "      <th class=\"col_heading level0 col1\" >Age</th>\n",
              "      <th class=\"col_heading level0 col2\" >VIP</th>\n",
              "      <th class=\"col_heading level0 col3\" >RoomService</th>\n",
              "      <th class=\"col_heading level0 col4\" >FoodCourt</th>\n",
              "      <th class=\"col_heading level0 col5\" >ShoppingMall</th>\n",
              "      <th class=\"col_heading level0 col6\" >Spa</th>\n",
              "      <th class=\"col_heading level0 col7\" >VRDeck</th>\n",
              "      <th class=\"col_heading level0 col8\" >Transported</th>\n",
              "      <th class=\"col_heading level0 col9\" >PassengerGroup</th>\n",
              "      <th class=\"col_heading level0 col10\" >IndividualNo</th>\n",
              "    </tr>\n",
              "  </thead>\n",
              "  <tbody>\n",
              "    <tr>\n",
              "      <th id=\"T_15fc6_level0_row0\" class=\"row_heading level0 row0\" >CryoSleep</th>\n",
              "      <td id=\"T_15fc6_row0_col0\" class=\"data row0 col0\" >1.000000</td>\n",
              "      <td id=\"T_15fc6_row0_col1\" class=\"data row0 col1\" >-0.090870</td>\n",
              "      <td id=\"T_15fc6_row0_col2\" class=\"data row0 col2\" >-0.082303</td>\n",
              "      <td id=\"T_15fc6_row0_col3\" class=\"data row0 col3\" >-0.521965</td>\n",
              "      <td id=\"T_15fc6_row0_col4\" class=\"data row0 col4\" >-0.534120</td>\n",
              "      <td id=\"T_15fc6_row0_col5\" class=\"data row0 col5\" >-0.519757</td>\n",
              "      <td id=\"T_15fc6_row0_col6\" class=\"data row0 col6\" >-0.554971</td>\n",
              "      <td id=\"T_15fc6_row0_col7\" class=\"data row0 col7\" >-0.534122</td>\n",
              "      <td id=\"T_15fc6_row0_col8\" class=\"data row0 col8\" >0.462803</td>\n",
              "      <td id=\"T_15fc6_row0_col9\" class=\"data row0 col9\" >-0.003325</td>\n",
              "      <td id=\"T_15fc6_row0_col10\" class=\"data row0 col10\" >0.080627</td>\n",
              "    </tr>\n",
              "    <tr>\n",
              "      <th id=\"T_15fc6_level0_row1\" class=\"row_heading level0 row1\" >Age</th>\n",
              "      <td id=\"T_15fc6_row1_col0\" class=\"data row1 col0\" >-0.090870</td>\n",
              "      <td id=\"T_15fc6_row1_col1\" class=\"data row1 col1\" >1.000000</td>\n",
              "      <td id=\"T_15fc6_row1_col2\" class=\"data row1 col2\" >0.108511</td>\n",
              "      <td id=\"T_15fc6_row1_col3\" class=\"data row1 col3\" >0.132855</td>\n",
              "      <td id=\"T_15fc6_row1_col4\" class=\"data row1 col4\" >0.206145</td>\n",
              "      <td id=\"T_15fc6_row1_col5\" class=\"data row1 col5\" >0.112964</td>\n",
              "      <td id=\"T_15fc6_row1_col6\" class=\"data row1 col6\" >0.208032</td>\n",
              "      <td id=\"T_15fc6_row1_col7\" class=\"data row1 col7\" >0.183614</td>\n",
              "      <td id=\"T_15fc6_row1_col8\" class=\"data row1 col8\" >-0.081202</td>\n",
              "      <td id=\"T_15fc6_row1_col9\" class=\"data row1 col9\" >-0.000730</td>\n",
              "      <td id=\"T_15fc6_row1_col10\" class=\"data row1 col10\" >-0.130792</td>\n",
              "    </tr>\n",
              "    <tr>\n",
              "      <th id=\"T_15fc6_level0_row2\" class=\"row_heading level0 row2\" >VIP</th>\n",
              "      <td id=\"T_15fc6_row2_col0\" class=\"data row2 col0\" >-0.082303</td>\n",
              "      <td id=\"T_15fc6_row2_col1\" class=\"data row2 col1\" >0.108511</td>\n",
              "      <td id=\"T_15fc6_row2_col2\" class=\"data row2 col2\" >1.000000</td>\n",
              "      <td id=\"T_15fc6_row2_col3\" class=\"data row2 col3\" >0.045791</td>\n",
              "      <td id=\"T_15fc6_row2_col4\" class=\"data row2 col4\" >0.124013</td>\n",
              "      <td id=\"T_15fc6_row2_col5\" class=\"data row2 col5\" >0.033229</td>\n",
              "      <td id=\"T_15fc6_row2_col6\" class=\"data row2 col6\" >0.093526</td>\n",
              "      <td id=\"T_15fc6_row2_col7\" class=\"data row2 col7\" >0.104755</td>\n",
              "      <td id=\"T_15fc6_row2_col8\" class=\"data row2 col8\" >-0.042260</td>\n",
              "      <td id=\"T_15fc6_row2_col9\" class=\"data row2 col9\" >0.015023</td>\n",
              "      <td id=\"T_15fc6_row2_col10\" class=\"data row2 col10\" >0.000778</td>\n",
              "    </tr>\n",
              "    <tr>\n",
              "      <th id=\"T_15fc6_level0_row3\" class=\"row_heading level0 row3\" >RoomService</th>\n",
              "      <td id=\"T_15fc6_row3_col0\" class=\"data row3 col0\" >-0.521965</td>\n",
              "      <td id=\"T_15fc6_row3_col1\" class=\"data row3 col1\" >0.132855</td>\n",
              "      <td id=\"T_15fc6_row3_col2\" class=\"data row3 col2\" >0.045791</td>\n",
              "      <td id=\"T_15fc6_row3_col3\" class=\"data row3 col3\" >1.000000</td>\n",
              "      <td id=\"T_15fc6_row3_col4\" class=\"data row3 col4\" >0.175702</td>\n",
              "      <td id=\"T_15fc6_row3_col5\" class=\"data row3 col5\" >0.442219</td>\n",
              "      <td id=\"T_15fc6_row3_col6\" class=\"data row3 col6\" >0.253528</td>\n",
              "      <td id=\"T_15fc6_row3_col7\" class=\"data row3 col7\" >0.176385</td>\n",
              "      <td id=\"T_15fc6_row3_col8\" class=\"data row3 col8\" >-0.363412</td>\n",
              "      <td id=\"T_15fc6_row3_col9\" class=\"data row3 col9\" >0.000647</td>\n",
              "      <td id=\"T_15fc6_row3_col10\" class=\"data row3 col10\" >-0.106167</td>\n",
              "    </tr>\n",
              "    <tr>\n",
              "      <th id=\"T_15fc6_level0_row4\" class=\"row_heading level0 row4\" >FoodCourt</th>\n",
              "      <td id=\"T_15fc6_row4_col0\" class=\"data row4 col0\" >-0.534120</td>\n",
              "      <td id=\"T_15fc6_row4_col1\" class=\"data row4 col1\" >0.206145</td>\n",
              "      <td id=\"T_15fc6_row4_col2\" class=\"data row4 col2\" >0.124013</td>\n",
              "      <td id=\"T_15fc6_row4_col3\" class=\"data row4 col3\" >0.175702</td>\n",
              "      <td id=\"T_15fc6_row4_col4\" class=\"data row4 col4\" >1.000000</td>\n",
              "      <td id=\"T_15fc6_row4_col5\" class=\"data row4 col5\" >0.184632</td>\n",
              "      <td id=\"T_15fc6_row4_col6\" class=\"data row4 col6\" >0.478645</td>\n",
              "      <td id=\"T_15fc6_row4_col7\" class=\"data row4 col7\" >0.510008</td>\n",
              "      <td id=\"T_15fc6_row4_col8\" class=\"data row4 col8\" >-0.176724</td>\n",
              "      <td id=\"T_15fc6_row4_col9\" class=\"data row4 col9\" >0.010356</td>\n",
              "      <td id=\"T_15fc6_row4_col10\" class=\"data row4 col10\" >-0.041147</td>\n",
              "    </tr>\n",
              "    <tr>\n",
              "      <th id=\"T_15fc6_level0_row5\" class=\"row_heading level0 row5\" >ShoppingMall</th>\n",
              "      <td id=\"T_15fc6_row5_col0\" class=\"data row5 col0\" >-0.519757</td>\n",
              "      <td id=\"T_15fc6_row5_col1\" class=\"data row5 col1\" >0.112964</td>\n",
              "      <td id=\"T_15fc6_row5_col2\" class=\"data row5 col2\" >0.033229</td>\n",
              "      <td id=\"T_15fc6_row5_col3\" class=\"data row5 col3\" >0.442219</td>\n",
              "      <td id=\"T_15fc6_row5_col4\" class=\"data row5 col4\" >0.184632</td>\n",
              "      <td id=\"T_15fc6_row5_col5\" class=\"data row5 col5\" >1.000000</td>\n",
              "      <td id=\"T_15fc6_row5_col6\" class=\"data row5 col6\" >0.256929</td>\n",
              "      <td id=\"T_15fc6_row5_col7\" class=\"data row5 col7\" >0.197898</td>\n",
              "      <td id=\"T_15fc6_row5_col8\" class=\"data row5 col8\" >-0.225309</td>\n",
              "      <td id=\"T_15fc6_row5_col9\" class=\"data row5 col9\" >0.009480</td>\n",
              "      <td id=\"T_15fc6_row5_col10\" class=\"data row5 col10\" >-0.112895</td>\n",
              "    </tr>\n",
              "    <tr>\n",
              "      <th id=\"T_15fc6_level0_row6\" class=\"row_heading level0 row6\" >Spa</th>\n",
              "      <td id=\"T_15fc6_row6_col0\" class=\"data row6 col0\" >-0.554971</td>\n",
              "      <td id=\"T_15fc6_row6_col1\" class=\"data row6 col1\" >0.208032</td>\n",
              "      <td id=\"T_15fc6_row6_col2\" class=\"data row6 col2\" >0.093526</td>\n",
              "      <td id=\"T_15fc6_row6_col3\" class=\"data row6 col3\" >0.253528</td>\n",
              "      <td id=\"T_15fc6_row6_col4\" class=\"data row6 col4\" >0.478645</td>\n",
              "      <td id=\"T_15fc6_row6_col5\" class=\"data row6 col5\" >0.256929</td>\n",
              "      <td id=\"T_15fc6_row6_col6\" class=\"data row6 col6\" >1.000000</td>\n",
              "      <td id=\"T_15fc6_row6_col7\" class=\"data row6 col7\" >0.434082</td>\n",
              "      <td id=\"T_15fc6_row6_col8\" class=\"data row6 col8\" >-0.370353</td>\n",
              "      <td id=\"T_15fc6_row6_col9\" class=\"data row6 col9\" >-0.001984</td>\n",
              "      <td id=\"T_15fc6_row6_col10\" class=\"data row6 col10\" >-0.060092</td>\n",
              "    </tr>\n",
              "    <tr>\n",
              "      <th id=\"T_15fc6_level0_row7\" class=\"row_heading level0 row7\" >VRDeck</th>\n",
              "      <td id=\"T_15fc6_row7_col0\" class=\"data row7 col0\" >-0.534122</td>\n",
              "      <td id=\"T_15fc6_row7_col1\" class=\"data row7 col1\" >0.183614</td>\n",
              "      <td id=\"T_15fc6_row7_col2\" class=\"data row7 col2\" >0.104755</td>\n",
              "      <td id=\"T_15fc6_row7_col3\" class=\"data row7 col3\" >0.176385</td>\n",
              "      <td id=\"T_15fc6_row7_col4\" class=\"data row7 col4\" >0.510008</td>\n",
              "      <td id=\"T_15fc6_row7_col5\" class=\"data row7 col5\" >0.197898</td>\n",
              "      <td id=\"T_15fc6_row7_col6\" class=\"data row7 col6\" >0.434082</td>\n",
              "      <td id=\"T_15fc6_row7_col7\" class=\"data row7 col7\" >1.000000</td>\n",
              "      <td id=\"T_15fc6_row7_col8\" class=\"data row7 col8\" >-0.344015</td>\n",
              "      <td id=\"T_15fc6_row7_col9\" class=\"data row7 col9\" >-0.004765</td>\n",
              "      <td id=\"T_15fc6_row7_col10\" class=\"data row7 col10\" >-0.060524</td>\n",
              "    </tr>\n",
              "    <tr>\n",
              "      <th id=\"T_15fc6_level0_row8\" class=\"row_heading level0 row8\" >Transported</th>\n",
              "      <td id=\"T_15fc6_row8_col0\" class=\"data row8 col0\" >0.462803</td>\n",
              "      <td id=\"T_15fc6_row8_col1\" class=\"data row8 col1\" >-0.081202</td>\n",
              "      <td id=\"T_15fc6_row8_col2\" class=\"data row8 col2\" >-0.042260</td>\n",
              "      <td id=\"T_15fc6_row8_col3\" class=\"data row8 col3\" >-0.363412</td>\n",
              "      <td id=\"T_15fc6_row8_col4\" class=\"data row8 col4\" >-0.176724</td>\n",
              "      <td id=\"T_15fc6_row8_col5\" class=\"data row8 col5\" >-0.225309</td>\n",
              "      <td id=\"T_15fc6_row8_col6\" class=\"data row8 col6\" >-0.370353</td>\n",
              "      <td id=\"T_15fc6_row8_col7\" class=\"data row8 col7\" >-0.344015</td>\n",
              "      <td id=\"T_15fc6_row8_col8\" class=\"data row8 col8\" >1.000000</td>\n",
              "      <td id=\"T_15fc6_row8_col9\" class=\"data row8 col9\" >0.023408</td>\n",
              "      <td id=\"T_15fc6_row8_col10\" class=\"data row8 col10\" >0.091925</td>\n",
              "    </tr>\n",
              "    <tr>\n",
              "      <th id=\"T_15fc6_level0_row9\" class=\"row_heading level0 row9\" >PassengerGroup</th>\n",
              "      <td id=\"T_15fc6_row9_col0\" class=\"data row9 col0\" >-0.003325</td>\n",
              "      <td id=\"T_15fc6_row9_col1\" class=\"data row9 col1\" >-0.000730</td>\n",
              "      <td id=\"T_15fc6_row9_col2\" class=\"data row9 col2\" >0.015023</td>\n",
              "      <td id=\"T_15fc6_row9_col3\" class=\"data row9 col3\" >0.000647</td>\n",
              "      <td id=\"T_15fc6_row9_col4\" class=\"data row9 col4\" >0.010356</td>\n",
              "      <td id=\"T_15fc6_row9_col5\" class=\"data row9 col5\" >0.009480</td>\n",
              "      <td id=\"T_15fc6_row9_col6\" class=\"data row9 col6\" >-0.001984</td>\n",
              "      <td id=\"T_15fc6_row9_col7\" class=\"data row9 col7\" >-0.004765</td>\n",
              "      <td id=\"T_15fc6_row9_col8\" class=\"data row9 col8\" >0.023408</td>\n",
              "      <td id=\"T_15fc6_row9_col9\" class=\"data row9 col9\" >1.000000</td>\n",
              "      <td id=\"T_15fc6_row9_col10\" class=\"data row9 col10\" >0.001471</td>\n",
              "    </tr>\n",
              "    <tr>\n",
              "      <th id=\"T_15fc6_level0_row10\" class=\"row_heading level0 row10\" >IndividualNo</th>\n",
              "      <td id=\"T_15fc6_row10_col0\" class=\"data row10 col0\" >0.080627</td>\n",
              "      <td id=\"T_15fc6_row10_col1\" class=\"data row10 col1\" >-0.130792</td>\n",
              "      <td id=\"T_15fc6_row10_col2\" class=\"data row10 col2\" >0.000778</td>\n",
              "      <td id=\"T_15fc6_row10_col3\" class=\"data row10 col3\" >-0.106167</td>\n",
              "      <td id=\"T_15fc6_row10_col4\" class=\"data row10 col4\" >-0.041147</td>\n",
              "      <td id=\"T_15fc6_row10_col5\" class=\"data row10 col5\" >-0.112895</td>\n",
              "      <td id=\"T_15fc6_row10_col6\" class=\"data row10 col6\" >-0.060092</td>\n",
              "      <td id=\"T_15fc6_row10_col7\" class=\"data row10 col7\" >-0.060524</td>\n",
              "      <td id=\"T_15fc6_row10_col8\" class=\"data row10 col8\" >0.091925</td>\n",
              "      <td id=\"T_15fc6_row10_col9\" class=\"data row10 col9\" >0.001471</td>\n",
              "      <td id=\"T_15fc6_row10_col10\" class=\"data row10 col10\" >1.000000</td>\n",
              "    </tr>\n",
              "  </tbody>\n",
              "</table>\n"
            ]
          },
          "metadata": {},
          "execution_count": 9
        }
      ],
      "source": [
        "data.corr(\"spearman\").style.background_gradient(cmap=\"Blues\")"
      ]
    },
    {
      "cell_type": "markdown",
      "id": "8d902d8a-810a-4d9f-9aab-320ee10209a3",
      "metadata": {
        "id": "8d902d8a-810a-4d9f-9aab-320ee10209a3"
      },
      "source": [
        "- **CryoSleep** has the highest correlation with Tranported"
      ]
    },
    {
      "cell_type": "code",
      "execution_count": 10,
      "id": "e00fe3b3-e103-4d6b-8004-66067ddf3a45",
      "metadata": {
        "colab": {
          "base_uri": "https://localhost:8080/",
          "height": 143
        },
        "id": "e00fe3b3-e103-4d6b-8004-66067ddf3a45",
        "outputId": "35894963-f6d4-4ed3-d925-99722b829dbc"
      },
      "outputs": [
        {
          "output_type": "execute_result",
          "data": {
            "text/plain": [
              "  PassengerId HomePlanet  CryoSleep  Cabin  Destination   Age    VIP  \\\n",
              "0     0001_01     Europa      False  B/0/P  TRAPPIST-1e  39.0  False   \n",
              "1     0002_01      Earth      False  F/0/S  TRAPPIST-1e  24.0  False   \n",
              "2     0003_01     Europa      False  A/0/S  TRAPPIST-1e  58.0   True   \n",
              "\n",
              "   RoomService  FoodCourt  ShoppingMall     Spa  VRDeck             Name  \\\n",
              "0          0.0        0.0           0.0     0.0     0.0  Maham Ofracculy   \n",
              "1        109.0        9.0          25.0   549.0    44.0     Juanna Vines   \n",
              "2         43.0     3576.0           0.0  6715.0    49.0    Altark Susent   \n",
              "\n",
              "   Transported  PassengerGroup  IndividualNo  \n",
              "0        False               1             1  \n",
              "1         True               2             1  \n",
              "2        False               3             1  "
            ],
            "text/html": [
              "\n",
              "  <div id=\"df-0ffef322-c04c-42ec-b5db-d8571da9578d\">\n",
              "    <div class=\"colab-df-container\">\n",
              "      <div>\n",
              "<style scoped>\n",
              "    .dataframe tbody tr th:only-of-type {\n",
              "        vertical-align: middle;\n",
              "    }\n",
              "\n",
              "    .dataframe tbody tr th {\n",
              "        vertical-align: top;\n",
              "    }\n",
              "\n",
              "    .dataframe thead th {\n",
              "        text-align: right;\n",
              "    }\n",
              "</style>\n",
              "<table border=\"1\" class=\"dataframe\">\n",
              "  <thead>\n",
              "    <tr style=\"text-align: right;\">\n",
              "      <th></th>\n",
              "      <th>PassengerId</th>\n",
              "      <th>HomePlanet</th>\n",
              "      <th>CryoSleep</th>\n",
              "      <th>Cabin</th>\n",
              "      <th>Destination</th>\n",
              "      <th>Age</th>\n",
              "      <th>VIP</th>\n",
              "      <th>RoomService</th>\n",
              "      <th>FoodCourt</th>\n",
              "      <th>ShoppingMall</th>\n",
              "      <th>Spa</th>\n",
              "      <th>VRDeck</th>\n",
              "      <th>Name</th>\n",
              "      <th>Transported</th>\n",
              "      <th>PassengerGroup</th>\n",
              "      <th>IndividualNo</th>\n",
              "    </tr>\n",
              "  </thead>\n",
              "  <tbody>\n",
              "    <tr>\n",
              "      <th>0</th>\n",
              "      <td>0001_01</td>\n",
              "      <td>Europa</td>\n",
              "      <td>False</td>\n",
              "      <td>B/0/P</td>\n",
              "      <td>TRAPPIST-1e</td>\n",
              "      <td>39.0</td>\n",
              "      <td>False</td>\n",
              "      <td>0.0</td>\n",
              "      <td>0.0</td>\n",
              "      <td>0.0</td>\n",
              "      <td>0.0</td>\n",
              "      <td>0.0</td>\n",
              "      <td>Maham Ofracculy</td>\n",
              "      <td>False</td>\n",
              "      <td>1</td>\n",
              "      <td>1</td>\n",
              "    </tr>\n",
              "    <tr>\n",
              "      <th>1</th>\n",
              "      <td>0002_01</td>\n",
              "      <td>Earth</td>\n",
              "      <td>False</td>\n",
              "      <td>F/0/S</td>\n",
              "      <td>TRAPPIST-1e</td>\n",
              "      <td>24.0</td>\n",
              "      <td>False</td>\n",
              "      <td>109.0</td>\n",
              "      <td>9.0</td>\n",
              "      <td>25.0</td>\n",
              "      <td>549.0</td>\n",
              "      <td>44.0</td>\n",
              "      <td>Juanna Vines</td>\n",
              "      <td>True</td>\n",
              "      <td>2</td>\n",
              "      <td>1</td>\n",
              "    </tr>\n",
              "    <tr>\n",
              "      <th>2</th>\n",
              "      <td>0003_01</td>\n",
              "      <td>Europa</td>\n",
              "      <td>False</td>\n",
              "      <td>A/0/S</td>\n",
              "      <td>TRAPPIST-1e</td>\n",
              "      <td>58.0</td>\n",
              "      <td>True</td>\n",
              "      <td>43.0</td>\n",
              "      <td>3576.0</td>\n",
              "      <td>0.0</td>\n",
              "      <td>6715.0</td>\n",
              "      <td>49.0</td>\n",
              "      <td>Altark Susent</td>\n",
              "      <td>False</td>\n",
              "      <td>3</td>\n",
              "      <td>1</td>\n",
              "    </tr>\n",
              "  </tbody>\n",
              "</table>\n",
              "</div>\n",
              "      <button class=\"colab-df-convert\" onclick=\"convertToInteractive('df-0ffef322-c04c-42ec-b5db-d8571da9578d')\"\n",
              "              title=\"Convert this dataframe to an interactive table.\"\n",
              "              style=\"display:none;\">\n",
              "        \n",
              "  <svg xmlns=\"http://www.w3.org/2000/svg\" height=\"24px\"viewBox=\"0 0 24 24\"\n",
              "       width=\"24px\">\n",
              "    <path d=\"M0 0h24v24H0V0z\" fill=\"none\"/>\n",
              "    <path d=\"M18.56 5.44l.94 2.06.94-2.06 2.06-.94-2.06-.94-.94-2.06-.94 2.06-2.06.94zm-11 1L8.5 8.5l.94-2.06 2.06-.94-2.06-.94L8.5 2.5l-.94 2.06-2.06.94zm10 10l.94 2.06.94-2.06 2.06-.94-2.06-.94-.94-2.06-.94 2.06-2.06.94z\"/><path d=\"M17.41 7.96l-1.37-1.37c-.4-.4-.92-.59-1.43-.59-.52 0-1.04.2-1.43.59L10.3 9.45l-7.72 7.72c-.78.78-.78 2.05 0 2.83L4 21.41c.39.39.9.59 1.41.59.51 0 1.02-.2 1.41-.59l7.78-7.78 2.81-2.81c.8-.78.8-2.07 0-2.86zM5.41 20L4 18.59l7.72-7.72 1.47 1.35L5.41 20z\"/>\n",
              "  </svg>\n",
              "      </button>\n",
              "      \n",
              "  <style>\n",
              "    .colab-df-container {\n",
              "      display:flex;\n",
              "      flex-wrap:wrap;\n",
              "      gap: 12px;\n",
              "    }\n",
              "\n",
              "    .colab-df-convert {\n",
              "      background-color: #E8F0FE;\n",
              "      border: none;\n",
              "      border-radius: 50%;\n",
              "      cursor: pointer;\n",
              "      display: none;\n",
              "      fill: #1967D2;\n",
              "      height: 32px;\n",
              "      padding: 0 0 0 0;\n",
              "      width: 32px;\n",
              "    }\n",
              "\n",
              "    .colab-df-convert:hover {\n",
              "      background-color: #E2EBFA;\n",
              "      box-shadow: 0px 1px 2px rgba(60, 64, 67, 0.3), 0px 1px 3px 1px rgba(60, 64, 67, 0.15);\n",
              "      fill: #174EA6;\n",
              "    }\n",
              "\n",
              "    [theme=dark] .colab-df-convert {\n",
              "      background-color: #3B4455;\n",
              "      fill: #D2E3FC;\n",
              "    }\n",
              "\n",
              "    [theme=dark] .colab-df-convert:hover {\n",
              "      background-color: #434B5C;\n",
              "      box-shadow: 0px 1px 3px 1px rgba(0, 0, 0, 0.15);\n",
              "      filter: drop-shadow(0px 1px 2px rgba(0, 0, 0, 0.3));\n",
              "      fill: #FFFFFF;\n",
              "    }\n",
              "  </style>\n",
              "\n",
              "      <script>\n",
              "        const buttonEl =\n",
              "          document.querySelector('#df-0ffef322-c04c-42ec-b5db-d8571da9578d button.colab-df-convert');\n",
              "        buttonEl.style.display =\n",
              "          google.colab.kernel.accessAllowed ? 'block' : 'none';\n",
              "\n",
              "        async function convertToInteractive(key) {\n",
              "          const element = document.querySelector('#df-0ffef322-c04c-42ec-b5db-d8571da9578d');\n",
              "          const dataTable =\n",
              "            await google.colab.kernel.invokeFunction('convertToInteractive',\n",
              "                                                     [key], {});\n",
              "          if (!dataTable) return;\n",
              "\n",
              "          const docLinkHtml = 'Like what you see? Visit the ' +\n",
              "            '<a target=\"_blank\" href=https://colab.research.google.com/notebooks/data_table.ipynb>data table notebook</a>'\n",
              "            + ' to learn more about interactive tables.';\n",
              "          element.innerHTML = '';\n",
              "          dataTable['output_type'] = 'display_data';\n",
              "          await google.colab.output.renderOutput(dataTable, element);\n",
              "          const docLink = document.createElement('div');\n",
              "          docLink.innerHTML = docLinkHtml;\n",
              "          element.appendChild(docLink);\n",
              "        }\n",
              "      </script>\n",
              "    </div>\n",
              "  </div>\n",
              "  "
            ]
          },
          "metadata": {},
          "execution_count": 10
        }
      ],
      "source": [
        "data.head(3)"
      ]
    },
    {
      "cell_type": "code",
      "execution_count": 11,
      "id": "dfcffc64-788c-4beb-bc09-7a708ea1a8e8",
      "metadata": {
        "id": "dfcffc64-788c-4beb-bc09-7a708ea1a8e8"
      },
      "outputs": [],
      "source": [
        "%matplotlib inline"
      ]
    },
    {
      "cell_type": "code",
      "execution_count": 12,
      "id": "ce97cbc9-c25b-49de-a6ab-d5932091dd48",
      "metadata": {
        "id": "ce97cbc9-c25b-49de-a6ab-d5932091dd48"
      },
      "outputs": [],
      "source": [
        "data[\"AmountSpent\"] = data[\"Spa\"] + data[\"ShoppingMall\"] + data[\"FoodCourt\"] + data[\"RoomService\"] + data[\"VRDeck\"] "
      ]
    },
    {
      "cell_type": "code",
      "execution_count": 13,
      "id": "86f89860-0519-4bca-aa89-bfe44c5e6b0c",
      "metadata": {
        "colab": {
          "base_uri": "https://localhost:8080/",
          "height": 1000
        },
        "id": "86f89860-0519-4bca-aa89-bfe44c5e6b0c",
        "outputId": "10115b6f-99d7-4f71-aa0d-4b49e29c0688"
      },
      "outputs": [
        {
          "output_type": "execute_result",
          "data": {
            "text/plain": [
              "array([[<matplotlib.axes._subplots.AxesSubplot object at 0x7fbe198d4510>,\n",
              "        <matplotlib.axes._subplots.AxesSubplot object at 0x7fbe19877610>,\n",
              "        <matplotlib.axes._subplots.AxesSubplot object at 0x7fbe197eadd0>],\n",
              "       [<matplotlib.axes._subplots.AxesSubplot object at 0x7fbe197af3d0>,\n",
              "        <matplotlib.axes._subplots.AxesSubplot object at 0x7fbe197649d0>,\n",
              "        <matplotlib.axes._subplots.AxesSubplot object at 0x7fbe19790b10>],\n",
              "       [<matplotlib.axes._subplots.AxesSubplot object at 0x7fbe196df690>,\n",
              "        <matplotlib.axes._subplots.AxesSubplot object at 0x7fbe19715bd0>,\n",
              "        <matplotlib.axes._subplots.AxesSubplot object at 0x7fbe19715c10>]],\n",
              "      dtype=object)"
            ]
          },
          "metadata": {},
          "execution_count": 13
        },
        {
          "output_type": "display_data",
          "data": {
            "text/plain": [
              "<Figure size 1440x1440 with 9 Axes>"
            ],
            "image/png": "[encoded data removed]"
          },
          "metadata": {
            "needs_background": "light"
          }
        }
      ],
      "source": [
        "data.hist(figsize=(20, 20))"
      ]
    },
    {
      "cell_type": "code",
      "execution_count": 14,
      "id": "071c398e-a377-4298-8578-31c28ddc72f1",
      "metadata": {
        "colab": {
          "base_uri": "https://localhost:8080/"
        },
        "id": "071c398e-a377-4298-8578-31c28ddc72f1",
        "outputId": "9c370ce3-6bb7-49f2-d00c-a4e7e6b785df"
      },
      "outputs": [
        {
          "output_type": "execute_result",
          "data": {
            "text/plain": [
              "3327"
            ]
          },
          "metadata": {},
          "execution_count": 14
        }
      ],
      "source": [
        "data[\"Transported\"].sum()"
      ]
    },
    {
      "cell_type": "code",
      "execution_count": 15,
      "id": "22f65572-5693-4693-b59f-e20c2506eee0",
      "metadata": {
        "id": "22f65572-5693-4693-b59f-e20c2506eee0"
      },
      "outputs": [],
      "source": [
        "transported = data[data[\"Transported\"] == True]"
      ]
    },
    {
      "cell_type": "code",
      "execution_count": 16,
      "id": "f985fcf9-226a-4506-9b56-26b9c8a11ce2",
      "metadata": {
        "colab": {
          "base_uri": "https://localhost:8080/"
        },
        "id": "f985fcf9-226a-4506-9b56-26b9c8a11ce2",
        "outputId": "40c39004-5fd7-4053-82d1-561db17c0b25"
      },
      "outputs": [
        {
          "output_type": "execute_result",
          "data": {
            "text/plain": [
              "False    3267\n",
              "True       60\n",
              "Name: VIP, dtype: int64"
            ]
          },
          "metadata": {},
          "execution_count": 16
        }
      ],
      "source": [
        "transported[\"VIP\"].value_counts()"
      ]
    },
    {
      "cell_type": "code",
      "execution_count": 17,
      "id": "554820b2-c497-479a-9ae7-9082b5a91467",
      "metadata": {
        "id": "554820b2-c497-479a-9ae7-9082b5a91467"
      },
      "outputs": [],
      "source": [
        "not_transported = data[data[\"Transported\"] != True]"
      ]
    },
    {
      "cell_type": "code",
      "execution_count": 18,
      "id": "eb07b901-b39e-4adb-a795-c269da8033d2",
      "metadata": {
        "colab": {
          "base_uri": "https://localhost:8080/"
        },
        "id": "eb07b901-b39e-4adb-a795-c269da8033d2",
        "outputId": "cd2ea053-4cd4-405d-84af-f1e202755207"
      },
      "outputs": [
        {
          "output_type": "execute_result",
          "data": {
            "text/plain": [
              "count    3327.000000\n",
              "mean       64.658852\n",
              "std       282.632489\n",
              "min         0.000000\n",
              "25%         0.000000\n",
              "50%         0.000000\n",
              "75%         0.000000\n",
              "max      3992.000000\n",
              "Name: RoomService, dtype: float64"
            ]
          },
          "metadata": {},
          "execution_count": 18
        }
      ],
      "source": [
        "transported[\"RoomService\"].describe()"
      ]
    },
    {
      "cell_type": "code",
      "execution_count": 19,
      "id": "bb549fb0-c687-4b66-b5a3-19ebbc4a3ac6",
      "metadata": {
        "colab": {
          "base_uri": "https://localhost:8080/"
        },
        "id": "bb549fb0-c687-4b66-b5a3-19ebbc4a3ac6",
        "outputId": "fcb733f1-9460-45af-ea69-4d4f78409ad6"
      },
      "outputs": [
        {
          "output_type": "execute_result",
          "data": {
            "text/plain": [
              "count    3279.000000\n",
              "mean      383.642269\n",
              "std       840.194088\n",
              "min         0.000000\n",
              "25%         0.000000\n",
              "50%         1.000000\n",
              "75%       464.500000\n",
              "max      9920.000000\n",
              "Name: RoomService, dtype: float64"
            ]
          },
          "metadata": {},
          "execution_count": 19
        }
      ],
      "source": [
        "not_transported[\"RoomService\"].describe()"
      ]
    },
    {
      "cell_type": "markdown",
      "id": "56ff6b80-1ce8-4f32-ad1f-6055e75c2033",
      "metadata": {
        "id": "56ff6b80-1ce8-4f32-ad1f-6055e75c2033"
      },
      "source": [
        "- Considering the mean for both, not_transported has a higher mean for roomservice compare to those transported.\n",
        "- Probably, staying more in their rooms could be a factor"
      ]
    },
    {
      "cell_type": "code",
      "execution_count": 19,
      "id": "8e186a3b-34a3-45e9-a354-d8bc0a9897f1",
      "metadata": {
        "id": "8e186a3b-34a3-45e9-a354-d8bc0a9897f1"
      },
      "outputs": [],
      "source": [
        ""
      ]
    },
    {
      "cell_type": "code",
      "execution_count": 20,
      "id": "1e4d449a-cf9d-43fc-a7d4-26b3336b29a9",
      "metadata": {
        "colab": {
          "base_uri": "https://localhost:8080/",
          "height": 283
        },
        "id": "1e4d449a-cf9d-43fc-a7d4-26b3336b29a9",
        "outputId": "0f04a757-e98d-47f1-dc46-4eb00120b980"
      },
      "outputs": [
        {
          "output_type": "execute_result",
          "data": {
            "text/plain": [
              "<matplotlib.collections.PathCollection at 0x7fbe19346bd0>"
            ]
          },
          "metadata": {},
          "execution_count": 20
        },
        {
          "output_type": "display_data",
          "data": {
            "text/plain": [
              "<Figure size 432x288 with 1 Axes>"
            ],
            "image/png": "[encoded data removed]"
          },
          "metadata": {
            "needs_background": "light"
          }
        }
      ],
      "source": [
        "plt.scatter(data[\"Age\"], data[\"Transported\"])"
      ]
    },
    {
      "cell_type": "markdown",
      "id": "dba5976e-ee6a-4fb7-9d35-0162df247cf2",
      "metadata": {
        "id": "dba5976e-ee6a-4fb7-9d35-0162df247cf2"
      },
      "source": [
        "- Age doesn't really have an effect. seems balanced"
      ]
    },
    {
      "cell_type": "code",
      "execution_count": 21,
      "id": "025e60a8-f8c4-4dac-9a4d-b755a08f510b",
      "metadata": {
        "colab": {
          "base_uri": "https://localhost:8080/"
        },
        "id": "025e60a8-f8c4-4dac-9a4d-b755a08f510b",
        "outputId": "395a8a74-2139-48ca-c3d8-79520b63f0c6"
      },
      "outputs": [
        {
          "output_type": "execute_result",
          "data": {
            "text/plain": [
              "Index(['PassengerId', 'HomePlanet', 'CryoSleep', 'Cabin', 'Destination', 'Age',\n",
              "       'VIP', 'RoomService', 'FoodCourt', 'ShoppingMall', 'Spa', 'VRDeck',\n",
              "       'Name', 'Transported', 'PassengerGroup', 'IndividualNo', 'AmountSpent'],\n",
              "      dtype='object')"
            ]
          },
          "metadata": {},
          "execution_count": 21
        }
      ],
      "source": [
        "data.columns"
      ]
    },
    {
      "cell_type": "code",
      "execution_count": 22,
      "id": "70696021-1c1c-4f0a-8c26-336fe7e0607c",
      "metadata": {
        "colab": {
          "base_uri": "https://localhost:8080/",
          "height": 1000
        },
        "id": "70696021-1c1c-4f0a-8c26-336fe7e0607c",
        "outputId": "2b564f89-32eb-4007-f224-aac3f7700c17"
      },
      "outputs": [
        {
          "output_type": "execute_result",
          "data": {
            "text/plain": [
              "array([[<matplotlib.axes._subplots.AxesSubplot object at 0x7fbe19517b90>,\n",
              "        <matplotlib.axes._subplots.AxesSubplot object at 0x7fbe18e27dd0>,\n",
              "        <matplotlib.axes._subplots.AxesSubplot object at 0x7fbe18dea410>],\n",
              "       [<matplotlib.axes._subplots.AxesSubplot object at 0x7fbe18d9fa10>,\n",
              "        <matplotlib.axes._subplots.AxesSubplot object at 0x7fbe18d58fd0>,\n",
              "        <matplotlib.axes._subplots.AxesSubplot object at 0x7fbe18d1b650>],\n",
              "       [<matplotlib.axes._subplots.AxesSubplot object at 0x7fbe18cd0cd0>,\n",
              "        <matplotlib.axes._subplots.AxesSubplot object at 0x7fbe18c96250>,\n",
              "        <matplotlib.axes._subplots.AxesSubplot object at 0x7fbe18c96290>]],\n",
              "      dtype=object)"
            ]
          },
          "metadata": {},
          "execution_count": 22
        },
        {
          "output_type": "display_data",
          "data": {
            "text/plain": [
              "<Figure size 1440x1440 with 9 Axes>"
            ],
            "image/png": "[encoded data removed]"
          },
          "metadata": {
            "needs_background": "light"
          }
        }
      ],
      "source": [
        "not_transported.hist(figsize=(20, 20))"
      ]
    },
    {
      "cell_type": "code",
      "execution_count": 23,
      "id": "e34e5911-153e-4a42-a469-034937027bc9",
      "metadata": {
        "colab": {
          "base_uri": "https://localhost:8080/",
          "height": 1000
        },
        "id": "e34e5911-153e-4a42-a469-034937027bc9",
        "outputId": "be02c140-14b9-4a62-b8ff-eb01b03048dc"
      },
      "outputs": [
        {
          "output_type": "execute_result",
          "data": {
            "text/plain": [
              "array([[<matplotlib.axes._subplots.AxesSubplot object at 0x7fbe18a18390>,\n",
              "        <matplotlib.axes._subplots.AxesSubplot object at 0x7fbe18971650>,\n",
              "        <matplotlib.axes._subplots.AxesSubplot object at 0x7fbe188e4d90>],\n",
              "       [<matplotlib.axes._subplots.AxesSubplot object at 0x7fbe188a62d0>,\n",
              "        <matplotlib.axes._subplots.AxesSubplot object at 0x7fbe1885c7d0>,\n",
              "        <matplotlib.axes._subplots.AxesSubplot object at 0x7fbe18812cd0>],\n",
              "       [<matplotlib.axes._subplots.AxesSubplot object at 0x7fbe187d5290>,\n",
              "        <matplotlib.axes._subplots.AxesSubplot object at 0x7fbe188096d0>,\n",
              "        <matplotlib.axes._subplots.AxesSubplot object at 0x7fbe18809710>]],\n",
              "      dtype=object)"
            ]
          },
          "metadata": {},
          "execution_count": 23
        },
        {
          "output_type": "display_data",
          "data": {
            "text/plain": [
              "<Figure size 1440x1440 with 9 Axes>"
            ],
            "image/png": "[encoded data removed]"
          },
          "metadata": {
            "needs_background": "light"
          }
        }
      ],
      "source": [
        "transported.hist(figsize=(20, 20))"
      ]
    },
    {
      "cell_type": "code",
      "execution_count": 24,
      "id": "b8f3e70b-9a2e-4adf-a6fe-a4e4657eb66e",
      "metadata": {
        "colab": {
          "base_uri": "https://localhost:8080/"
        },
        "id": "b8f3e70b-9a2e-4adf-a6fe-a4e4657eb66e",
        "outputId": "37f11d46-1c85-4f5a-9417-2c033ea92bf0"
      },
      "outputs": [
        {
          "output_type": "execute_result",
          "data": {
            "text/plain": [
              "Index(['PassengerId', 'HomePlanet', 'CryoSleep', 'Cabin', 'Destination', 'Age',\n",
              "       'VIP', 'RoomService', 'FoodCourt', 'ShoppingMall', 'Spa', 'VRDeck',\n",
              "       'Name', 'Transported', 'PassengerGroup', 'IndividualNo', 'AmountSpent'],\n",
              "      dtype='object')"
            ]
          },
          "metadata": {},
          "execution_count": 24
        }
      ],
      "source": [
        "data.columns"
      ]
    },
    {
      "cell_type": "code",
      "execution_count": 25,
      "id": "c6a19b44-4df2-4de4-a40d-b0a274222d93",
      "metadata": {
        "colab": {
          "base_uri": "https://localhost:8080/",
          "height": 338
        },
        "id": "c6a19b44-4df2-4de4-a40d-b0a274222d93",
        "outputId": "cf21e5b5-b44d-4ada-97b0-139c5990ba12"
      },
      "outputs": [
        {
          "output_type": "execute_result",
          "data": {
            "text/plain": [
              "(array([2136.,    0.,    0.,    0.,    0.,  315.,    0.,    0.,    0.,\n",
              "         876.]),\n",
              " array([0. , 0.2, 0.4, 0.6, 0.8, 1. , 1.2, 1.4, 1.6, 1.8, 2. ]),\n",
              " <a list of 10 Patch objects>)"
            ]
          },
          "metadata": {},
          "execution_count": 25
        },
        {
          "output_type": "display_data",
          "data": {
            "text/plain": [
              "<Figure size 432x288 with 1 Axes>"
            ],
            "image/png": "[encoded data removed]"
          },
          "metadata": {
            "needs_background": "light"
          }
        }
      ],
      "source": [
        "plt.hist(transported[\"Destination\"])"
      ]
    },
    {
      "cell_type": "code",
      "execution_count": 26,
      "id": "0be716b7-831a-40ff-bc9d-ae24e827687b",
      "metadata": {
        "colab": {
          "base_uri": "https://localhost:8080/",
          "height": 338
        },
        "id": "0be716b7-831a-40ff-bc9d-ae24e827687b",
        "outputId": "966ab7fe-4140-484d-da83-893b3d266103"
      },
      "outputs": [
        {
          "output_type": "execute_result",
          "data": {
            "text/plain": [
              "(array([2440.,    0.,    0.,    0.,    0.,  531.,    0.,    0.,    0.,\n",
              "         308.]),\n",
              " array([0. , 0.2, 0.4, 0.6, 0.8, 1. , 1.2, 1.4, 1.6, 1.8, 2. ]),\n",
              " <a list of 10 Patch objects>)"
            ]
          },
          "metadata": {},
          "execution_count": 26
        },
        {
          "output_type": "display_data",
          "data": {
            "text/plain": [
              "<Figure size 432x288 with 1 Axes>"
            ],
            "image/png": "[encoded data removed]"
          },
          "metadata": {
            "needs_background": "light"
          }
        }
      ],
      "source": [
        "plt.hist(not_transported[\"Destination\"])"
      ]
    },
    {
      "cell_type": "code",
      "execution_count": 27,
      "id": "78f25bb1-3b7b-4d7e-9cce-a693a55f8a03",
      "metadata": {
        "colab": {
          "base_uri": "https://localhost:8080/",
          "height": 338
        },
        "id": "78f25bb1-3b7b-4d7e-9cce-a693a55f8a03",
        "outputId": "85b6a99b-aff7-46f4-da3d-5d0d5fcfd139"
      },
      "outputs": [
        {
          "output_type": "execute_result",
          "data": {
            "text/plain": [
              "(array([1518.,    0.,    0.,    0.,    0., 1104.,    0.,    0.,    0.,\n",
              "         705.]),\n",
              " array([0. , 0.2, 0.4, 0.6, 0.8, 1. , 1.2, 1.4, 1.6, 1.8, 2. ]),\n",
              " <a list of 10 Patch objects>)"
            ]
          },
          "metadata": {},
          "execution_count": 27
        },
        {
          "output_type": "display_data",
          "data": {
            "text/plain": [
              "<Figure size 432x288 with 1 Axes>"
            ],
            "image/png": "[encoded data removed]"
          },
          "metadata": {
            "needs_background": "light"
          }
        }
      ],
      "source": [
        "plt.hist(transported[\"HomePlanet\"])"
      ]
    },
    {
      "cell_type": "code",
      "execution_count": 28,
      "id": "01785434-f301-45fd-8218-89c74e13d052",
      "metadata": {
        "colab": {
          "base_uri": "https://localhost:8080/",
          "height": 338
        },
        "id": "01785434-f301-45fd-8218-89c74e13d052",
        "outputId": "93f70bc6-6d4f-4db3-eb2c-15b027626de8"
      },
      "outputs": [
        {
          "output_type": "execute_result",
          "data": {
            "text/plain": [
              "(array([ 569.,    0.,    0.,    0.,    0., 2048.,    0.,    0.,    0.,\n",
              "         662.]),\n",
              " array([0. , 0.2, 0.4, 0.6, 0.8, 1. , 1.2, 1.4, 1.6, 1.8, 2. ]),\n",
              " <a list of 10 Patch objects>)"
            ]
          },
          "metadata": {},
          "execution_count": 28
        },
        {
          "output_type": "display_data",
          "data": {
            "text/plain": [
              "<Figure size 432x288 with 1 Axes>"
            ],
            "image/png": "[encoded data removed]"
          },
          "metadata": {
            "needs_background": "light"
          }
        }
      ],
      "source": [
        "plt.hist(not_transported[\"HomePlanet\"])"
      ]
    },
    {
      "cell_type": "code",
      "execution_count": 29,
      "id": "38992012-3c26-48d3-9b78-ec313dd69f9a",
      "metadata": {
        "colab": {
          "base_uri": "https://localhost:8080/"
        },
        "id": "38992012-3c26-48d3-9b78-ec313dd69f9a",
        "outputId": "65cfdb46-7d86-4c78-a663-3db1a2ee33f4"
      },
      "outputs": [
        {
          "output_type": "execute_result",
          "data": {
            "text/plain": [
              "433"
            ]
          },
          "metadata": {},
          "execution_count": 29
        }
      ],
      "source": [
        "len((set(not_transported[\"Cabin\"].unique())).intersection(set(transported[\"Cabin\"].unique())))"
      ]
    },
    {
      "cell_type": "code",
      "execution_count": 30,
      "id": "9640c1c5-d237-4023-9187-01fb60714cdc",
      "metadata": {
        "colab": {
          "base_uri": "https://localhost:8080/"
        },
        "id": "9640c1c5-d237-4023-9187-01fb60714cdc",
        "outputId": "98d8e11c-b7f3-491e-f7cb-9d2b99b79584"
      },
      "outputs": [
        {
          "output_type": "execute_result",
          "data": {
            "text/plain": [
              "2737"
            ]
          },
          "metadata": {},
          "execution_count": 30
        }
      ],
      "source": [
        "len((set(transported[\"Cabin\"].unique())))"
      ]
    },
    {
      "cell_type": "code",
      "execution_count": 31,
      "id": "b61a3867-171c-4f80-92f9-504e6c44bc85",
      "metadata": {
        "colab": {
          "base_uri": "https://localhost:8080/"
        },
        "id": "b61a3867-171c-4f80-92f9-504e6c44bc85",
        "outputId": "4b531518-cc92-45e9-a6cc-06e01f5063f7"
      },
      "outputs": [
        {
          "output_type": "execute_result",
          "data": {
            "text/plain": [
              "3001"
            ]
          },
          "metadata": {},
          "execution_count": 31
        }
      ],
      "source": [
        "len((set(not_transported[\"Cabin\"].unique())))"
      ]
    },
    {
      "cell_type": "markdown",
      "id": "c260e3ef-74e4-4a80-b22e-af84e614023b",
      "metadata": {
        "id": "c260e3ef-74e4-4a80-b22e-af84e614023b"
      },
      "source": [
        "- Out of the Huge number of Cabins that each had, only 433 actually intersect. Means we can also be able to check if someone was transported or not based on the particular cabin he/she was placed in"
      ]
    },
    {
      "cell_type": "code",
      "execution_count": 31,
      "id": "0624a950-ee01-4d62-b201-0e54ad56ece5",
      "metadata": {
        "id": "0624a950-ee01-4d62-b201-0e54ad56ece5"
      },
      "outputs": [],
      "source": [
        ""
      ]
    },
    {
      "cell_type": "code",
      "execution_count": 31,
      "id": "769d0361-d848-44c7-b131-3a5b3ce1bf4f",
      "metadata": {
        "id": "769d0361-d848-44c7-b131-3a5b3ce1bf4f"
      },
      "outputs": [],
      "source": [
        ""
      ]
    },
    {
      "cell_type": "code",
      "source": [
        ""
      ],
      "metadata": {
        "id": "uf8eK3qkAEfk"
      },
      "id": "uf8eK3qkAEfk",
      "execution_count": 31,
      "outputs": []
    },
    {
      "cell_type": "code",
      "execution_count": 31,
      "id": "70b43670-e3f3-43f2-88c1-4f489f8b83a1",
      "metadata": {
        "id": "70b43670-e3f3-43f2-88c1-4f489f8b83a1"
      },
      "outputs": [],
      "source": [
        ""
      ]
    },
    {
      "cell_type": "code",
      "execution_count": 31,
      "id": "ec2d5b5e-a50d-4d68-9aab-6e64881417a7",
      "metadata": {
        "id": "ec2d5b5e-a50d-4d68-9aab-6e64881417a7"
      },
      "outputs": [],
      "source": [
        ""
      ]
    },
    {
      "cell_type": "markdown",
      "id": "eafac24a-8046-49b9-a008-c0e7d9c856a5",
      "metadata": {
        "id": "eafac24a-8046-49b9-a008-c0e7d9c856a5"
      },
      "source": [
        "## **Preprocessing and Model Training**"
      ]
    },
    {
      "cell_type": "code",
      "execution_count": 32,
      "id": "a145668d-a357-405d-be1f-d9b41cb3a98e",
      "metadata": {
        "id": "a145668d-a357-405d-be1f-d9b41cb3a98e"
      },
      "outputs": [],
      "source": [
        "important_features = [\"CryoSleep\", \"VIP\", \"RoomService\", \"PassengerGroup\", \"Destination\", \"HomePlanet\", \"Cabin\"]"
      ]
    },
    {
      "cell_type": "code",
      "execution_count": 33,
      "id": "20f2cd51-d18a-4e08-ab70-5a25ba365a90",
      "metadata": {
        "id": "20f2cd51-d18a-4e08-ab70-5a25ba365a90"
      },
      "outputs": [],
      "source": [
        "from sklearn.preprocessing import OrdinalEncoder\n",
        "\n",
        "y_encoder = OrdinalEncoder()\n",
        "\n",
        "X_initial = data[important_features]\n",
        "y = pd.DataFrame(y_encoder.fit_transform(pd.DataFrame(data[\"Transported\"])))\n",
        "y = np.array(y).reshape(np.size(y))"
      ]
    },
    {
      "cell_type": "code",
      "execution_count": 34,
      "id": "29ccc2ae-4c47-41cf-8328-cec9bf37b42b",
      "metadata": {
        "colab": {
          "base_uri": "https://localhost:8080/",
          "height": 206
        },
        "id": "29ccc2ae-4c47-41cf-8328-cec9bf37b42b",
        "outputId": "a69cf84a-2be6-4a5e-ad38-28c61998901c"
      },
      "outputs": [
        {
          "output_type": "execute_result",
          "data": {
            "text/plain": [
              "   CryoSleep    VIP  RoomService  PassengerGroup  Destination HomePlanet  \\\n",
              "0      False  False          0.0               1  TRAPPIST-1e     Europa   \n",
              "1      False  False        109.0               2  TRAPPIST-1e      Earth   \n",
              "2      False   True         43.0               3  TRAPPIST-1e     Europa   \n",
              "3      False  False          0.0               3  TRAPPIST-1e     Europa   \n",
              "4      False  False        303.0               4  TRAPPIST-1e      Earth   \n",
              "\n",
              "   Cabin  \n",
              "0  B/0/P  \n",
              "1  F/0/S  \n",
              "2  A/0/S  \n",
              "3  A/0/S  \n",
              "4  F/1/S  "
            ],
            "text/html": [
              "\n",
              "  <div id=\"df-2dc58e37-8293-4908-87ed-4ace9f583155\">\n",
              "    <div class=\"colab-df-container\">\n",
              "      <div>\n",
              "<style scoped>\n",
              "    .dataframe tbody tr th:only-of-type {\n",
              "        vertical-align: middle;\n",
              "    }\n",
              "\n",
              "    .dataframe tbody tr th {\n",
              "        vertical-align: top;\n",
              "    }\n",
              "\n",
              "    .dataframe thead th {\n",
              "        text-align: right;\n",
              "    }\n",
              "</style>\n",
              "<table border=\"1\" class=\"dataframe\">\n",
              "  <thead>\n",
              "    <tr style=\"text-align: right;\">\n",
              "      <th></th>\n",
              "      <th>CryoSleep</th>\n",
              "      <th>VIP</th>\n",
              "      <th>RoomService</th>\n",
              "      <th>PassengerGroup</th>\n",
              "      <th>Destination</th>\n",
              "      <th>HomePlanet</th>\n",
              "      <th>Cabin</th>\n",
              "    </tr>\n",
              "  </thead>\n",
              "  <tbody>\n",
              "    <tr>\n",
              "      <th>0</th>\n",
              "      <td>False</td>\n",
              "      <td>False</td>\n",
              "      <td>0.0</td>\n",
              "      <td>1</td>\n",
              "      <td>TRAPPIST-1e</td>\n",
              "      <td>Europa</td>\n",
              "      <td>B/0/P</td>\n",
              "    </tr>\n",
              "    <tr>\n",
              "      <th>1</th>\n",
              "      <td>False</td>\n",
              "      <td>False</td>\n",
              "      <td>109.0</td>\n",
              "      <td>2</td>\n",
              "      <td>TRAPPIST-1e</td>\n",
              "      <td>Earth</td>\n",
              "      <td>F/0/S</td>\n",
              "    </tr>\n",
              "    <tr>\n",
              "      <th>2</th>\n",
              "      <td>False</td>\n",
              "      <td>True</td>\n",
              "      <td>43.0</td>\n",
              "      <td>3</td>\n",
              "      <td>TRAPPIST-1e</td>\n",
              "      <td>Europa</td>\n",
              "      <td>A/0/S</td>\n",
              "    </tr>\n",
              "    <tr>\n",
              "      <th>3</th>\n",
              "      <td>False</td>\n",
              "      <td>False</td>\n",
              "      <td>0.0</td>\n",
              "      <td>3</td>\n",
              "      <td>TRAPPIST-1e</td>\n",
              "      <td>Europa</td>\n",
              "      <td>A/0/S</td>\n",
              "    </tr>\n",
              "    <tr>\n",
              "      <th>4</th>\n",
              "      <td>False</td>\n",
              "      <td>False</td>\n",
              "      <td>303.0</td>\n",
              "      <td>4</td>\n",
              "      <td>TRAPPIST-1e</td>\n",
              "      <td>Earth</td>\n",
              "      <td>F/1/S</td>\n",
              "    </tr>\n",
              "  </tbody>\n",
              "</table>\n",
              "</div>\n",
              "      <button class=\"colab-df-convert\" onclick=\"convertToInteractive('df-2dc58e37-8293-4908-87ed-4ace9f583155')\"\n",
              "              title=\"Convert this dataframe to an interactive table.\"\n",
              "              style=\"display:none;\">\n",
              "        \n",
              "  <svg xmlns=\"http://www.w3.org/2000/svg\" height=\"24px\"viewBox=\"0 0 24 24\"\n",
              "       width=\"24px\">\n",
              "    <path d=\"M0 0h24v24H0V0z\" fill=\"none\"/>\n",
              "    <path d=\"M18.56 5.44l.94 2.06.94-2.06 2.06-.94-2.06-.94-.94-2.06-.94 2.06-2.06.94zm-11 1L8.5 8.5l.94-2.06 2.06-.94-2.06-.94L8.5 2.5l-.94 2.06-2.06.94zm10 10l.94 2.06.94-2.06 2.06-.94-2.06-.94-.94-2.06-.94 2.06-2.06.94z\"/><path d=\"M17.41 7.96l-1.37-1.37c-.4-.4-.92-.59-1.43-.59-.52 0-1.04.2-1.43.59L10.3 9.45l-7.72 7.72c-.78.78-.78 2.05 0 2.83L4 21.41c.39.39.9.59 1.41.59.51 0 1.02-.2 1.41-.59l7.78-7.78 2.81-2.81c.8-.78.8-2.07 0-2.86zM5.41 20L4 18.59l7.72-7.72 1.47 1.35L5.41 20z\"/>\n",
              "  </svg>\n",
              "      </button>\n",
              "      \n",
              "  <style>\n",
              "    .colab-df-container {\n",
              "      display:flex;\n",
              "      flex-wrap:wrap;\n",
              "      gap: 12px;\n",
              "    }\n",
              "\n",
              "    .colab-df-convert {\n",
              "      background-color: #E8F0FE;\n",
              "      border: none;\n",
              "      border-radius: 50%;\n",
              "      cursor: pointer;\n",
              "      display: none;\n",
              "      fill: #1967D2;\n",
              "      height: 32px;\n",
              "      padding: 0 0 0 0;\n",
              "      width: 32px;\n",
              "    }\n",
              "\n",
              "    .colab-df-convert:hover {\n",
              "      background-color: #E2EBFA;\n",
              "      box-shadow: 0px 1px 2px rgba(60, 64, 67, 0.3), 0px 1px 3px 1px rgba(60, 64, 67, 0.15);\n",
              "      fill: #174EA6;\n",
              "    }\n",
              "\n",
              "    [theme=dark] .colab-df-convert {\n",
              "      background-color: #3B4455;\n",
              "      fill: #D2E3FC;\n",
              "    }\n",
              "\n",
              "    [theme=dark] .colab-df-convert:hover {\n",
              "      background-color: #434B5C;\n",
              "      box-shadow: 0px 1px 3px 1px rgba(0, 0, 0, 0.15);\n",
              "      filter: drop-shadow(0px 1px 2px rgba(0, 0, 0, 0.3));\n",
              "      fill: #FFFFFF;\n",
              "    }\n",
              "  </style>\n",
              "\n",
              "      <script>\n",
              "        const buttonEl =\n",
              "          document.querySelector('#df-2dc58e37-8293-4908-87ed-4ace9f583155 button.colab-df-convert');\n",
              "        buttonEl.style.display =\n",
              "          google.colab.kernel.accessAllowed ? 'block' : 'none';\n",
              "\n",
              "        async function convertToInteractive(key) {\n",
              "          const element = document.querySelector('#df-2dc58e37-8293-4908-87ed-4ace9f583155');\n",
              "          const dataTable =\n",
              "            await google.colab.kernel.invokeFunction('convertToInteractive',\n",
              "                                                     [key], {});\n",
              "          if (!dataTable) return;\n",
              "\n",
              "          const docLinkHtml = 'Like what you see? Visit the ' +\n",
              "            '<a target=\"_blank\" href=https://colab.research.google.com/notebooks/data_table.ipynb>data table notebook</a>'\n",
              "            + ' to learn more about interactive tables.';\n",
              "          element.innerHTML = '';\n",
              "          dataTable['output_type'] = 'display_data';\n",
              "          await google.colab.output.renderOutput(dataTable, element);\n",
              "          const docLink = document.createElement('div');\n",
              "          docLink.innerHTML = docLinkHtml;\n",
              "          element.appendChild(docLink);\n",
              "        }\n",
              "      </script>\n",
              "    </div>\n",
              "  </div>\n",
              "  "
            ]
          },
          "metadata": {},
          "execution_count": 34
        }
      ],
      "source": [
        "X_initial.head()"
      ]
    },
    {
      "cell_type": "markdown",
      "id": "73f1b1fc-9157-45d0-86ed-9e4dde1e77e6",
      "metadata": {
        "id": "73f1b1fc-9157-45d0-86ed-9e4dde1e77e6"
      },
      "source": [
        "We can use some features of sklearn to encode some of the categorical data items"
      ]
    },
    {
      "cell_type": "code",
      "execution_count": 35,
      "id": "061f119e-717c-4395-b248-1c813ea84da4",
      "metadata": {
        "id": "061f119e-717c-4395-b248-1c813ea84da4"
      },
      "outputs": [],
      "source": [
        "from sklearn.preprocessing import OneHotEncoder, OrdinalEncoder\n",
        "from sklearn.compose import make_column_transformer\n",
        "\n",
        "column_transformer = make_column_transformer(\n",
        "    (OneHotEncoder(handle_unknown=\"ignore\"), [\"CryoSleep\", \"VIP\", \"Destination\", \"HomePlanet\"]),\n",
        "    (OrdinalEncoder(handle_unknown=\"use_encoded_value\", unknown_value=6_000), [\"Cabin\"]),\n",
        "    remainder=\"passthrough\",\n",
        ")"
      ]
    },
    {
      "cell_type": "code",
      "execution_count": 42,
      "id": "42f1db35-72a7-4272-89c9-29f5c6ae9407",
      "metadata": {
        "id": "42f1db35-72a7-4272-89c9-29f5c6ae9407"
      },
      "outputs": [],
      "source": [
        "from sklearn.pipeline import Pipeline, make_pipeline\n",
        "from sklearn.linear_model import LogisticRegression\n",
        "from sklearn.svm import SVC\n",
        "from sklearn.preprocessing import StandardScaler\n",
        "\n",
        "model = Pipeline([\n",
        "    (\"transformer\", column_transformer),\n",
        "    (\"scaler\", StandardScaler()),\n",
        "    (\"svc\", SVC(kernel=\"linear\", probability=True)),\n",
        "])"
      ]
    },
    {
      "cell_type": "code",
      "execution_count": 43,
      "id": "927d42da-1316-44fb-8b70-43d6311297c8",
      "metadata": {
        "id": "927d42da-1316-44fb-8b70-43d6311297c8"
      },
      "outputs": [],
      "source": [
        "from sklearn.model_selection import train_test_split\n",
        "\n",
        "X_train, X_test, y_train, y_test = train_test_split(X_initial, y, test_size=0.2)"
      ]
    },
    {
      "cell_type": "code",
      "execution_count": 44,
      "id": "c8e26b9f-028d-4e17-9a44-1a2b0618852b",
      "metadata": {
        "colab": {
          "base_uri": "https://localhost:8080/"
        },
        "id": "c8e26b9f-028d-4e17-9a44-1a2b0618852b",
        "outputId": "581a0274-299c-4ada-ed5d-3c6dfd8b7c8c"
      },
      "outputs": [
        {
          "output_type": "execute_result",
          "data": {
            "text/plain": [
              "Pipeline(steps=[('transformer',\n",
              "                 ColumnTransformer(remainder='passthrough',\n",
              "                                   transformers=[('onehotencoder',\n",
              "                                                  OneHotEncoder(handle_unknown='ignore'),\n",
              "                                                  ['CryoSleep', 'VIP',\n",
              "                                                   'Destination',\n",
              "                                                   'HomePlanet']),\n",
              "                                                 ('ordinalencoder',\n",
              "                                                  OrdinalEncoder(handle_unknown='use_encoded_value',\n",
              "                                                                 unknown_value=6000),\n",
              "                                                  ['Cabin'])])),\n",
              "                ('scaler', StandardScaler()),\n",
              "                ('svc', SVC(kernel='linear', probability=True))])"
            ]
          },
          "metadata": {},
          "execution_count": 44
        }
      ],
      "source": [
        "model.fit(X_train, y_train)"
      ]
    },
    {
      "cell_type": "code",
      "execution_count": 45,
      "id": "2eb2e849-6ea9-4b5d-8fc9-d28211df48bc",
      "metadata": {
        "tags": [],
        "colab": {
          "base_uri": "https://localhost:8080/"
        },
        "id": "2eb2e849-6ea9-4b5d-8fc9-d28211df48bc",
        "outputId": "827d9b7c-14de-4ab2-e94f-282a7af7ab68"
      },
      "outputs": [
        {
          "output_type": "execute_result",
          "data": {
            "text/plain": [
              "0.7276853252647504"
            ]
          },
          "metadata": {},
          "execution_count": 45
        }
      ],
      "source": [
        "model.score(X_test, y_test)"
      ]
    },
    {
      "cell_type": "code",
      "execution_count": 45,
      "id": "9a2e79fe-f054-44fa-8ba1-f624872ccdef",
      "metadata": {
        "id": "9a2e79fe-f054-44fa-8ba1-f624872ccdef"
      },
      "outputs": [],
      "source": [
        ""
      ]
    },
    {
      "cell_type": "code",
      "execution_count": 45,
      "id": "37e38057-5fb8-4223-9866-efe1cbcd56f7",
      "metadata": {
        "id": "37e38057-5fb8-4223-9866-efe1cbcd56f7"
      },
      "outputs": [],
      "source": [
        ""
      ]
    },
    {
      "cell_type": "code",
      "execution_count": 46,
      "id": "b40024a4-8f34-4f1e-b837-140f3245f579",
      "metadata": {
        "id": "b40024a4-8f34-4f1e-b837-140f3245f579"
      },
      "outputs": [],
      "source": [
        "from sklearn.metrics import precision_score, recall_score, accuracy_score\n",
        "from sklearn.model_selection import cross_val_score\n",
        "\n",
        "def some_metrics(model):\n",
        "    y_pred = model.predict(X_test)\n",
        "\n",
        "    print(\"precision_score\", precision_score(y_test, y_pred))\n",
        "    print(\"recall_score\", recall_score(y_test, y_pred))\n",
        "    print(\"accuracy_score\", accuracy_score(y_test, y_pred))\n",
        "    print(\"CrossVal\", cross_val_score(model, X_initial, y, cv=3))\n",
        "\n",
        "    print()\n",
        "\n",
        "    y_proba = model.predict_proba(X_test)\n",
        "\n",
        "\n",
        "    def return_y_pred(y_proba):\n",
        "        return np.array(y_proba[:, 1] > 0.70).astype(np.float16)\n",
        "\n",
        "    y_pred = return_y_pred(y_proba)\n",
        "\n",
        "    print(\"precision_score\", precision_score(y_test, y_pred))\n",
        "    print(\"recall_score\", recall_score(y_test, y_pred))\n",
        "    print(\"accuracy_score\", accuracy_score(y_test, y_pred))"
      ]
    },
    {
      "cell_type": "code",
      "execution_count": 47,
      "id": "6494e07a-02ac-4bc5-ab08-5935ec82ca03",
      "metadata": {
        "colab": {
          "base_uri": "https://localhost:8080/"
        },
        "id": "6494e07a-02ac-4bc5-ab08-5935ec82ca03",
        "outputId": "58e58f70-8e15-4976-bf21-69e386aec196"
      },
      "outputs": [
        {
          "output_type": "stream",
          "name": "stdout",
          "text": [
            "precision_score 0.8326271186440678\n",
            "recall_score 0.5830860534124629\n",
            "accuracy_score 0.7276853252647504\n",
            "CrossVal [0.70980926 0.72116258 0.72933697]\n",
            "\n",
            "precision_score 0.8326271186440678\n",
            "recall_score 0.5830860534124629\n",
            "accuracy_score 0.7276853252647504\n"
          ]
        }
      ],
      "source": [
        "some_metrics(model)"
      ]
    },
    {
      "cell_type": "code",
      "source": [
        "from sklearn.model_selection import GridSearchCV\n",
        "\n",
        "grid = GridSearchCV(model, [{\"svc__C\":[0.1, 0.2, 0.4, 0.6, 0.8, 0.9, 1.0], \"svc__class_weight\": [{1:2, 0:1}, {1:1, 0:2}]}], cv=5)"
      ],
      "metadata": {
        "id": "WTbzJ5VNFCQi"
      },
      "id": "WTbzJ5VNFCQi",
      "execution_count": 48,
      "outputs": []
    },
    {
      "cell_type": "code",
      "source": [
        "grid.fit(X_initial, y)"
      ],
      "metadata": {
        "colab": {
          "base_uri": "https://localhost:8080/"
        },
        "id": "n_VigKL_Gpei",
        "outputId": "a4e5ae73-606c-426e-a48f-95232e129723"
      },
      "id": "n_VigKL_Gpei",
      "execution_count": 50,
      "outputs": [
        {
          "output_type": "execute_result",
          "data": {
            "text/plain": [
              "GridSearchCV(cv=5,\n",
              "             estimator=Pipeline(steps=[('transformer',\n",
              "                                        ColumnTransformer(remainder='passthrough',\n",
              "                                                          transformers=[('onehotencoder',\n",
              "                                                                         OneHotEncoder(handle_unknown='ignore'),\n",
              "                                                                         ['CryoSleep',\n",
              "                                                                          'VIP',\n",
              "                                                                          'Destination',\n",
              "                                                                          'HomePlanet']),\n",
              "                                                                        ('ordinalencoder',\n",
              "                                                                         OrdinalEncoder(handle_unknown='use_encoded_value',\n",
              "                                                                                        unknown_value=6000),\n",
              "                                                                         ['Cabin'])])),\n",
              "                                       ('scaler', StandardScaler()),\n",
              "                                       ('svc',\n",
              "                                        SVC(kernel='linear',\n",
              "                                            probability=True))]),\n",
              "             param_grid=[{'svc__C': [0.1, 0.2, 0.4, 0.6, 0.8, 0.9, 1.0],\n",
              "                          'svc__class_weight': [{0: 1, 1: 2}, {0: 2, 1: 1}]}])"
            ]
          },
          "metadata": {},
          "execution_count": 50
        }
      ]
    },
    {
      "cell_type": "code",
      "source": [
        "grid.best_params_"
      ],
      "metadata": {
        "colab": {
          "base_uri": "https://localhost:8080/"
        },
        "id": "i7G8z__kGr1Z",
        "outputId": "f3b9845b-ae7d-4da2-d623-e6be02dac752"
      },
      "id": "i7G8z__kGr1Z",
      "execution_count": 51,
      "outputs": [
        {
          "output_type": "execute_result",
          "data": {
            "text/plain": [
              "{'svc__C': 0.1, 'svc__class_weight': {0: 2, 1: 1}}"
            ]
          },
          "metadata": {},
          "execution_count": 51
        }
      ]
    },
    {
      "cell_type": "code",
      "source": [
        "from sklearn.model_selection import cross_val_score\n",
        "\n",
        "cross_val_score(grid, X_initial, y)"
      ],
      "metadata": {
        "colab": {
          "base_uri": "https://localhost:8080/"
        },
        "id": "Sa1qTwybKZr3",
        "outputId": "508a1a4c-8a9c-4cfe-db57-aa85a3b9d264"
      },
      "id": "Sa1qTwybKZr3",
      "execution_count": 53,
      "outputs": [
        {
          "output_type": "execute_result",
          "data": {
            "text/plain": [
              "array([0.71028744, 0.71839516, 0.71082513, 0.73504921, 0.72596518])"
            ]
          },
          "metadata": {},
          "execution_count": 53
        }
      ]
    },
    {
      "cell_type": "code",
      "source": [
        ""
      ],
      "metadata": {
        "id": "GYvNi09jKt4W"
      },
      "id": "GYvNi09jKt4W",
      "execution_count": null,
      "outputs": []
    }
  ],
  "metadata": {
    "kernelspec": {
      "display_name": "ML",
      "language": "python",
      "name": "ml"
    },
    "language_info": {
      "codemirror_mode": {
        "name": "ipython",
        "version": 3
      },
      "file_extension": ".py",
      "mimetype": "text/x-python",
      "name": "python",
      "nbconvert_exporter": "python",
      "pygments_lexer": "ipython3",
      "version": "3.8.8"
    },
    "colab": {
      "name": "model_creation.ipynb",
      "provenance": [],
      "collapsed_sections": []
    }
  },
  "nbformat": 4,
  "nbformat_minor": 5
}